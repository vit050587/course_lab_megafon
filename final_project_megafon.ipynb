{
  "nbformat": 4,
  "nbformat_minor": 0,
  "metadata": {
    "colab": {
      "provenance": [],
      "toc_visible": true,
      "mount_file_id": "1tfGrByimayhSB_FoL6uV2W9GmRSJGcLE",
      "authorship_tag": "ABX9TyN9hBClm8u1miPahFM6LcxR",
      "include_colab_link": true
    },
    "kernelspec": {
      "name": "python3",
      "display_name": "Python 3"
    },
    "language_info": {
      "name": "python"
    },
    "accelerator": "TPU",
    "gpuClass": "standard"
  },
  "cells": [
    {
      "cell_type": "markdown",
      "metadata": {
        "id": "view-in-github",
        "colab_type": "text"
      },
      "source": [
        "<a href=\"https://colab.research.google.com/github/vit050587/course_lab_megafon/blob/master/final_project_megafon.ipynb\" target=\"_parent\"><img src=\"https://colab.research.google.com/assets/colab-badge.svg\" alt=\"Open In Colab\"/></a>"
      ]
    },
    {
      "cell_type": "markdown",
      "source": [
        "# **Финальный проект по курсу от компании \"Мегафон\"**\n",
        "**Задача: сформировать персональные предложения абонентам компании \"Мегафон\"**\n",
        "\n",
        "Задача состоит из 2-х подзадач:\n",
        "1. Предсказание вероятности подключения услуги\n",
        "2. Формирование индивидуальных предложений и максимизация выручки\n",
        "\n",
        "Представлен датасет:\n",
        "- откликов абонентов на те или иные продукты\n",
        "- профиль потребеления абонентов\n",
        "\n",
        "У нас появился запрос из отдела продаж и маркетинга. Как вы знаете «МегаФон» предлагает обширный набор различных услуг своим абонентам. При этом разным пользователям интересны разные услуги. Поэтому необходимо построить алгоритм, который для каждой пары пользователь-услуга определит вероятность подключения услуги.\n",
        "\n",
        "\n",
        "**Данные** В качестве исходных данных вам будет доступна информация об отклике абонентов на предложение подключения одной из услуг. Каждому пользователю может быть сделано несколько предложений в разное время, каждое из которых он может или принять, или отклонить.\n",
        "\n",
        "\n",
        "Отдельным набором данных будет являться нормализованный анонимизированный набор признаков, характеризующий профиль потребления абонента. Эти данные привязаны к определенному времени, поскольку профиль абонента может меняться с течением времени.\n",
        "\n",
        "**Данные train и test разбиты по периодам – на train доступно 4 месяцев, а на test отложен последующий месяц.**\n",
        "\n",
        "Итого, в качестве входных данных будут представлены:\n",
        "\n",
        "* data_train.csv: id, vas_id, buy_time, target\n",
        "* features.csv.zip: id, <feature_list>\n",
        "\n",
        "**И тестовый набор:**\n",
        "\n",
        "**data_test.csv: id, vas_id, buy_time**\n",
        "* **target** - целевая переменная, где 1 означает подключение услуги, 0 - абонент не подключил услугу соответственно.\n",
        "* **buy_time** - время покупки, представлено в формате timestamp, для работы с этим столбцом понадобится функция datetime. \n",
        "fromtimestamp из модуля datetime.\n",
        "* **id** - идентификатор абонента\n",
        "* **vas_id** - подключаемая услуга\n",
        "Примечание: Размер файла features.csv в распакованном виде весит 20 гб, для работы с ним можно воспользоваться pandas.read_csv, либо можно воспользоваться библиотекой Dask.\n",
        "\n",
        "**Метрика**\n",
        "\n",
        "Скоринг будет осуществляться функцией f1, невзвешенным образом, как например делает функция sklearn.metrics.f1_score(…, average='macro').\n",
        "\n",
        "**Формат представления результата**\n",
        "\n",
        "1. Работающая модель в формате pickle, которая принимает файл data_test.csv из корневой папки и записывает в эту же папку файл answers_test.csv. В этом файле должны находится 4 столбца: buy_time, id, vas_id и target. Target можно записать как вероятность подключения услуги.\n",
        "2. Код модели можно представить в виде jupyter-ноутбука.\n",
        "3. Презентация в формате .pdf, в которой необходимо отразить:\n",
        "* Информация о модели, ее параметрах, особенностях и основных результатах.\n",
        "* Обоснование выбора модели и ее сравнение с альтернативами.\n",
        "* Принцип составления индивидуальных предложений для выбранных абонентов.\n",
        "Рекомендуемое количество слайдов – 5 – 10.\n",
        "\n",
        "Файл answers_test.csv с результатами работы модели, презентацию, ноутбуки и резюме необходимо прикрепить ко второму уроку \"курсовой проект\"."
      ],
      "metadata": {
        "id": "4Lr24eBCJyoq"
      }
    },
    {
      "cell_type": "code",
      "source": [
        "!pip install pathlib2"
      ],
      "metadata": {
        "colab": {
          "base_uri": "https://localhost:8080/"
        },
        "id": "sCNuf2k2O6J6",
        "outputId": "7eaa1bb1-0605-42c3-ed5d-bb820dec8b95"
      },
      "execution_count": 4,
      "outputs": [
        {
          "output_type": "stream",
          "name": "stdout",
          "text": [
            "Looking in indexes: https://pypi.org/simple, https://us-python.pkg.dev/colab-wheels/public/simple/\n",
            "Requirement already satisfied: pathlib2 in /usr/local/lib/python3.9/dist-packages (2.3.7.post1)\n",
            "Requirement already satisfied: six in /usr/local/lib/python3.9/dist-packages (from pathlib2) (1.16.0)\n"
          ]
        }
      ]
    },
    {
      "cell_type": "code",
      "source": [
        "!pip install lightautoml"
      ],
      "metadata": {
        "colab": {
          "base_uri": "https://localhost:8080/"
        },
        "id": "pyNOUznkPGdR",
        "outputId": "7902d8d0-7e1f-4c29-f706-1cbb4d915222"
      },
      "execution_count": 5,
      "outputs": [
        {
          "output_type": "stream",
          "name": "stdout",
          "text": [
            "Looking in indexes: https://pypi.org/simple, https://us-python.pkg.dev/colab-wheels/public/simple/\n",
            "Collecting lightautoml\n",
            "  Downloading LightAutoML-0.3.7.3-py3-none-any.whl (319 kB)\n",
            "\u001b[2K     \u001b[90m━━━━━━━━━━━━━━━━━━━━━━━━━━━━━━━━━━━━━━━\u001b[0m \u001b[32m319.6/319.6 KB\u001b[0m \u001b[31m6.7 MB/s\u001b[0m eta \u001b[36m0:00:00\u001b[0m\n",
            "\u001b[?25hRequirement already satisfied: seaborn in /usr/local/lib/python3.9/dist-packages (from lightautoml) (0.12.2)\n",
            "Collecting cmaes\n",
            "  Downloading cmaes-0.9.1-py3-none-any.whl (21 kB)\n",
            "Collecting poetry-core<2.0.0,>=1.0.0\n",
            "  Downloading poetry_core-1.5.2-py3-none-any.whl (465 kB)\n",
            "\u001b[2K     \u001b[90m━━━━━━━━━━━━━━━━━━━━━━━━━━━━━━━━━━━━━━\u001b[0m \u001b[32m465.2/465.2 KB\u001b[0m \u001b[31m27.3 MB/s\u001b[0m eta \u001b[36m0:00:00\u001b[0m\n",
            "\u001b[?25hRequirement already satisfied: pyyaml in /usr/local/lib/python3.9/dist-packages (from lightautoml) (6.0)\n",
            "Collecting pandas<=1.4.3\n",
            "  Downloading pandas-1.4.3-cp39-cp39-manylinux_2_17_x86_64.manylinux2014_x86_64.whl (11.7 MB)\n",
            "\u001b[2K     \u001b[90m━━━━━━━━━━━━━━━━━━━━━━━━━━━━━━━━━━━━━━━━\u001b[0m \u001b[32m11.7/11.7 MB\u001b[0m \u001b[31m67.8 MB/s\u001b[0m eta \u001b[36m0:00:00\u001b[0m\n",
            "\u001b[?25hRequirement already satisfied: jinja2 in /usr/local/lib/python3.9/dist-packages (from lightautoml) (3.1.2)\n",
            "Collecting lightgbm<=3.2.1,>=2.3\n",
            "  Downloading lightgbm-3.2.1-py3-none-manylinux1_x86_64.whl (2.0 MB)\n",
            "\u001b[2K     \u001b[90m━━━━━━━━━━━━━━━━━━━━━━━━━━━━━━━━━━━━━━━━\u001b[0m \u001b[32m2.0/2.0 MB\u001b[0m \u001b[31m71.3 MB/s\u001b[0m eta \u001b[36m0:00:00\u001b[0m\n",
            "\u001b[?25hRequirement already satisfied: joblib in /usr/local/lib/python3.9/dist-packages (from lightautoml) (1.1.1)\n",
            "Requirement already satisfied: networkx in /usr/local/lib/python3.9/dist-packages (from lightautoml) (3.0)\n",
            "Requirement already satisfied: scikit-learn>=0.22 in /usr/local/lib/python3.9/dist-packages (from lightautoml) (1.2.2)\n",
            "Collecting catboost>=0.26.1\n",
            "  Downloading catboost-1.1.1-cp39-none-manylinux1_x86_64.whl (76.6 MB)\n",
            "\u001b[2K     \u001b[90m━━━━━━━━━━━━━━━━━━━━━━━━━━━━━━━━━━━━━━━━\u001b[0m \u001b[32m76.6/76.6 MB\u001b[0m \u001b[31m11.6 MB/s\u001b[0m eta \u001b[36m0:00:00\u001b[0m\n",
            "\u001b[?25hCollecting json2html\n",
            "  Downloading json2html-1.3.0.tar.gz (7.0 kB)\n",
            "  Preparing metadata (setup.py) ... \u001b[?25l\u001b[?25hdone\n",
            "Requirement already satisfied: holidays in /usr/local/lib/python3.9/dist-packages (from lightautoml) (0.21.13)\n",
            "Collecting torch<1.9\n",
            "  Downloading torch-1.8.1-cp39-cp39-manylinux1_x86_64.whl (804.1 MB)\n",
            "\u001b[2K     \u001b[90m━━━━━━━━━━━━━━━━━━━━━━━━━━━━━━━━━━━━━\u001b[0m \u001b[32m804.1/804.1 MB\u001b[0m \u001b[31m984.0 kB/s\u001b[0m eta \u001b[36m0:00:00\u001b[0m\n",
            "\u001b[?25hRequirement already satisfied: torchvision in /usr/local/lib/python3.9/dist-packages (from lightautoml) (0.15.1+cu118)\n",
            "Requirement already satisfied: tqdm in /usr/local/lib/python3.9/dist-packages (from lightautoml) (4.65.0)\n",
            "Collecting optuna\n",
            "  Downloading optuna-3.1.0-py3-none-any.whl (365 kB)\n",
            "\u001b[2K     \u001b[90m━━━━━━━━━━━━━━━━━━━━━━━━━━━━━━━━━━━━━━\u001b[0m \u001b[32m365.3/365.3 KB\u001b[0m \u001b[31m31.2 MB/s\u001b[0m eta \u001b[36m0:00:00\u001b[0m\n",
            "\u001b[?25hCollecting autowoe>=1.2\n",
            "  Downloading AutoWoE-1.3.2-py3-none-any.whl (215 kB)\n",
            "\u001b[2K     \u001b[90m━━━━━━━━━━━━━━━━━━━━━━━━━━━━━━━━━━━━━━\u001b[0m \u001b[32m215.7/215.7 KB\u001b[0m \u001b[31m18.3 MB/s\u001b[0m eta \u001b[36m0:00:00\u001b[0m\n",
            "\u001b[?25hCollecting StrEnum<0.5.0,>=0.4.7\n",
            "  Downloading StrEnum-0.4.10-py3-none-any.whl (7.7 kB)\n",
            "Requirement already satisfied: matplotlib in /usr/local/lib/python3.9/dist-packages (from autowoe>=1.2->lightautoml) (3.7.1)\n",
            "Requirement already satisfied: pytest in /usr/local/lib/python3.9/dist-packages (from autowoe>=1.2->lightautoml) (7.2.2)\n",
            "Requirement already satisfied: scipy in /usr/local/lib/python3.9/dist-packages (from autowoe>=1.2->lightautoml) (1.10.1)\n",
            "Collecting sphinx-rtd-theme\n",
            "  Downloading sphinx_rtd_theme-1.2.0-py2.py3-none-any.whl (2.8 MB)\n",
            "\u001b[2K     \u001b[90m━━━━━━━━━━━━━━━━━━━━━━━━━━━━━━━━━━━━━━━━\u001b[0m \u001b[32m2.8/2.8 MB\u001b[0m \u001b[31m82.4 MB/s\u001b[0m eta \u001b[36m0:00:00\u001b[0m\n",
            "\u001b[?25hRequirement already satisfied: pytz in /usr/local/lib/python3.9/dist-packages (from autowoe>=1.2->lightautoml) (2022.7.1)\n",
            "Requirement already satisfied: sphinx in /usr/local/lib/python3.9/dist-packages (from autowoe>=1.2->lightautoml) (3.5.4)\n",
            "Requirement already satisfied: numpy in /usr/local/lib/python3.9/dist-packages (from autowoe>=1.2->lightautoml) (1.24.2)\n",
            "Requirement already satisfied: six in /usr/local/lib/python3.9/dist-packages (from catboost>=0.26.1->lightautoml) (1.16.0)\n",
            "Requirement already satisfied: graphviz in /usr/local/lib/python3.9/dist-packages (from catboost>=0.26.1->lightautoml) (0.20.1)\n",
            "Requirement already satisfied: plotly in /usr/local/lib/python3.9/dist-packages (from catboost>=0.26.1->lightautoml) (5.13.1)\n",
            "Requirement already satisfied: wheel in /usr/local/lib/python3.9/dist-packages (from lightgbm<=3.2.1,>=2.3->lightautoml) (0.40.0)\n",
            "Requirement already satisfied: python-dateutil>=2.8.1 in /usr/local/lib/python3.9/dist-packages (from pandas<=1.4.3->lightautoml) (2.8.2)\n",
            "Requirement already satisfied: threadpoolctl>=2.0.0 in /usr/local/lib/python3.9/dist-packages (from scikit-learn>=0.22->lightautoml) (3.1.0)\n",
            "Requirement already satisfied: typing-extensions in /usr/local/lib/python3.9/dist-packages (from torch<1.9->lightautoml) (4.5.0)\n",
            "Requirement already satisfied: convertdate>=2.3.0 in /usr/local/lib/python3.9/dist-packages (from holidays->lightautoml) (2.4.0)\n",
            "Requirement already satisfied: korean-lunar-calendar in /usr/local/lib/python3.9/dist-packages (from holidays->lightautoml) (0.3.1)\n",
            "Requirement already satisfied: hijri-converter in /usr/local/lib/python3.9/dist-packages (from holidays->lightautoml) (2.2.4)\n",
            "Requirement already satisfied: PyMeeus in /usr/local/lib/python3.9/dist-packages (from holidays->lightautoml) (0.5.12)\n",
            "Requirement already satisfied: MarkupSafe>=2.0 in /usr/local/lib/python3.9/dist-packages (from jinja2->lightautoml) (2.1.2)\n",
            "Collecting colorlog\n",
            "  Downloading colorlog-6.7.0-py2.py3-none-any.whl (11 kB)\n",
            "Requirement already satisfied: sqlalchemy>=1.3.0 in /usr/local/lib/python3.9/dist-packages (from optuna->lightautoml) (1.4.47)\n",
            "Requirement already satisfied: packaging>=20.0 in /usr/local/lib/python3.9/dist-packages (from optuna->lightautoml) (23.0)\n",
            "Collecting alembic>=1.5.0\n",
            "  Downloading alembic-1.10.2-py3-none-any.whl (212 kB)\n",
            "\u001b[2K     \u001b[90m━━━━━━━━━━━━━━━━━━━━━━━━━━━━━━━━━━━━━━\u001b[0m \u001b[32m212.2/212.2 KB\u001b[0m \u001b[31m21.2 MB/s\u001b[0m eta \u001b[36m0:00:00\u001b[0m\n",
            "\u001b[?25hCollecting torchvision\n",
            "  Downloading torchvision-0.15.1-cp39-cp39-manylinux1_x86_64.whl (6.0 MB)\n",
            "\u001b[2K     \u001b[90m━━━━━━━━━━━━━━━━━━━━━━━━━━━━━━━━━━━━━━━━\u001b[0m \u001b[32m6.0/6.0 MB\u001b[0m \u001b[31m96.2 MB/s\u001b[0m eta \u001b[36m0:00:00\u001b[0m\n",
            "\u001b[?25h  Downloading torchvision-0.14.1-cp39-cp39-manylinux1_x86_64.whl (24.2 MB)\n",
            "\u001b[2K     \u001b[90m━━━━━━━━━━━━━━━━━━━━━━━━━━━━━━━━━━━━━━━━\u001b[0m \u001b[32m24.2/24.2 MB\u001b[0m \u001b[31m55.8 MB/s\u001b[0m eta \u001b[36m0:00:00\u001b[0m\n",
            "\u001b[?25hRequirement already satisfied: pillow!=8.3.*,>=5.3.0 in /usr/local/lib/python3.9/dist-packages (from torchvision->lightautoml) (8.4.0)\n",
            "  Downloading torchvision-0.14.0-cp39-cp39-manylinux1_x86_64.whl (24.3 MB)\n",
            "\u001b[2K     \u001b[90m━━━━━━━━━━━━━━━━━━━━━━━━━━━━━━━━━━━━━━━━\u001b[0m \u001b[32m24.3/24.3 MB\u001b[0m \u001b[31m58.2 MB/s\u001b[0m eta \u001b[36m0:00:00\u001b[0m\n",
            "\u001b[?25h  Downloading torchvision-0.13.1-cp39-cp39-manylinux1_x86_64.whl (19.1 MB)\n",
            "\u001b[2K     \u001b[90m━━━━━━━━━━━━━━━━━━━━━━━━━━━━━━━━━━━━━━━━\u001b[0m \u001b[32m19.1/19.1 MB\u001b[0m \u001b[31m17.9 MB/s\u001b[0m eta \u001b[36m0:00:00\u001b[0m\n",
            "\u001b[?25h  Downloading torchvision-0.13.0-cp39-cp39-manylinux1_x86_64.whl (19.1 MB)\n",
            "\u001b[2K     \u001b[90m━━━━━━━━━━━━━━━━━━━━━━━━━━━━━━━━━━━━━━━━\u001b[0m \u001b[32m19.1/19.1 MB\u001b[0m \u001b[31m81.3 MB/s\u001b[0m eta \u001b[36m0:00:00\u001b[0m\n",
            "\u001b[?25h  Downloading torchvision-0.12.0-cp39-cp39-manylinux1_x86_64.whl (21.0 MB)\n",
            "\u001b[2K     \u001b[90m━━━━━━━━━━━━━━━━━━━━━━━━━━━━━━━━━━━━━━━━\u001b[0m \u001b[32m21.0/21.0 MB\u001b[0m \u001b[31m74.9 MB/s\u001b[0m eta \u001b[36m0:00:00\u001b[0m\n",
            "\u001b[?25hRequirement already satisfied: requests in /usr/local/lib/python3.9/dist-packages (from torchvision->lightautoml) (2.27.1)\n",
            "  Downloading torchvision-0.11.3-cp39-cp39-manylinux1_x86_64.whl (23.2 MB)\n",
            "\u001b[2K     \u001b[90m━━━━━━━━━━━━━━━━━━━━━━━━━━━━━━━━━━━━━━━━\u001b[0m \u001b[32m23.2/23.2 MB\u001b[0m \u001b[31m49.8 MB/s\u001b[0m eta \u001b[36m0:00:00\u001b[0m\n",
            "\u001b[?25h  Downloading torchvision-0.11.2-cp39-cp39-manylinux1_x86_64.whl (23.2 MB)\n",
            "\u001b[2K     \u001b[90m━━━━━━━━━━━━━━━━━━━━━━━━━━━━━━━━━━━━━━━━\u001b[0m \u001b[32m23.2/23.2 MB\u001b[0m \u001b[31m19.8 MB/s\u001b[0m eta \u001b[36m0:00:00\u001b[0m\n",
            "\u001b[?25h  Downloading torchvision-0.11.1-cp39-cp39-manylinux1_x86_64.whl (23.2 MB)\n",
            "\u001b[2K     \u001b[90m━━━━━━━━━━━━━━━━━━━━━━━━━━━━━━━━━━━━━━━━\u001b[0m \u001b[32m23.2/23.2 MB\u001b[0m \u001b[31m49.1 MB/s\u001b[0m eta \u001b[36m0:00:00\u001b[0m\n",
            "\u001b[?25h  Downloading torchvision-0.10.1-cp39-cp39-manylinux1_x86_64.whl (22.1 MB)\n",
            "\u001b[2K     \u001b[90m━━━━━━━━━━━━━━━━━━━━━━━━━━━━━━━━━━━━━━━━\u001b[0m \u001b[32m22.1/22.1 MB\u001b[0m \u001b[31m57.7 MB/s\u001b[0m eta \u001b[36m0:00:00\u001b[0m\n",
            "\u001b[?25h  Downloading torchvision-0.10.0-cp39-cp39-manylinux1_x86_64.whl (22.1 MB)\n",
            "\u001b[2K     \u001b[90m━━━━━━━━━━━━━━━━━━━━━━━━━━━━━━━━━━━━━━━━\u001b[0m \u001b[32m22.1/22.1 MB\u001b[0m \u001b[31m16.2 MB/s\u001b[0m eta \u001b[36m0:00:00\u001b[0m\n",
            "\u001b[?25h  Downloading torchvision-0.9.1-cp39-cp39-manylinux1_x86_64.whl (17.3 MB)\n",
            "\u001b[2K     \u001b[90m━━━━━━━━━━━━━━━━━━━━━━━━━━━━━━━━━━━━━━━━\u001b[0m \u001b[32m17.3/17.3 MB\u001b[0m \u001b[31m60.9 MB/s\u001b[0m eta \u001b[36m0:00:00\u001b[0m\n",
            "\u001b[?25hCollecting Mako\n",
            "  Downloading Mako-1.2.4-py3-none-any.whl (78 kB)\n",
            "\u001b[2K     \u001b[90m━━━━━━━━━━━━━━━━━━━━━━━━━━━━━━━━━━━━━━━━\u001b[0m \u001b[32m78.7/78.7 KB\u001b[0m \u001b[31m8.7 MB/s\u001b[0m eta \u001b[36m0:00:00\u001b[0m\n",
            "\u001b[?25hRequirement already satisfied: pyparsing>=2.3.1 in /usr/local/lib/python3.9/dist-packages (from matplotlib->autowoe>=1.2->lightautoml) (3.0.9)\n",
            "Requirement already satisfied: cycler>=0.10 in /usr/local/lib/python3.9/dist-packages (from matplotlib->autowoe>=1.2->lightautoml) (0.11.0)\n",
            "Requirement already satisfied: fonttools>=4.22.0 in /usr/local/lib/python3.9/dist-packages (from matplotlib->autowoe>=1.2->lightautoml) (4.39.3)\n",
            "Requirement already satisfied: kiwisolver>=1.0.1 in /usr/local/lib/python3.9/dist-packages (from matplotlib->autowoe>=1.2->lightautoml) (1.4.4)\n",
            "Requirement already satisfied: importlib-resources>=3.2.0 in /usr/local/lib/python3.9/dist-packages (from matplotlib->autowoe>=1.2->lightautoml) (5.12.0)\n",
            "Requirement already satisfied: contourpy>=1.0.1 in /usr/local/lib/python3.9/dist-packages (from matplotlib->autowoe>=1.2->lightautoml) (1.0.7)\n",
            "Requirement already satisfied: greenlet!=0.4.17 in /usr/local/lib/python3.9/dist-packages (from sqlalchemy>=1.3.0->optuna->lightautoml) (2.0.2)\n",
            "Requirement already satisfied: tenacity>=6.2.0 in /usr/local/lib/python3.9/dist-packages (from plotly->catboost>=0.26.1->lightautoml) (8.2.2)\n",
            "Requirement already satisfied: iniconfig in /usr/local/lib/python3.9/dist-packages (from pytest->autowoe>=1.2->lightautoml) (2.0.0)\n",
            "Requirement already satisfied: exceptiongroup>=1.0.0rc8 in /usr/local/lib/python3.9/dist-packages (from pytest->autowoe>=1.2->lightautoml) (1.1.1)\n",
            "Requirement already satisfied: pluggy<2.0,>=0.12 in /usr/local/lib/python3.9/dist-packages (from pytest->autowoe>=1.2->lightautoml) (1.0.0)\n",
            "Requirement already satisfied: tomli>=1.0.0 in /usr/local/lib/python3.9/dist-packages (from pytest->autowoe>=1.2->lightautoml) (2.0.1)\n",
            "Requirement already satisfied: attrs>=19.2.0 in /usr/local/lib/python3.9/dist-packages (from pytest->autowoe>=1.2->lightautoml) (22.2.0)\n",
            "Requirement already satisfied: setuptools in /usr/local/lib/python3.9/dist-packages (from sphinx->autowoe>=1.2->lightautoml) (67.6.1)\n",
            "Requirement already satisfied: snowballstemmer>=1.1 in /usr/local/lib/python3.9/dist-packages (from sphinx->autowoe>=1.2->lightautoml) (2.2.0)\n",
            "Requirement already satisfied: docutils<0.17,>=0.12 in /usr/local/lib/python3.9/dist-packages (from sphinx->autowoe>=1.2->lightautoml) (0.16)\n",
            "Requirement already satisfied: sphinxcontrib-htmlhelp in /usr/local/lib/python3.9/dist-packages (from sphinx->autowoe>=1.2->lightautoml) (2.0.1)\n",
            "Requirement already satisfied: sphinxcontrib-devhelp in /usr/local/lib/python3.9/dist-packages (from sphinx->autowoe>=1.2->lightautoml) (1.0.2)\n",
            "Requirement already satisfied: Pygments>=2.0 in /usr/local/lib/python3.9/dist-packages (from sphinx->autowoe>=1.2->lightautoml) (2.14.0)\n",
            "Requirement already satisfied: sphinxcontrib-jsmath in /usr/local/lib/python3.9/dist-packages (from sphinx->autowoe>=1.2->lightautoml) (1.0.1)\n",
            "Requirement already satisfied: imagesize in /usr/local/lib/python3.9/dist-packages (from sphinx->autowoe>=1.2->lightautoml) (1.4.1)\n",
            "Requirement already satisfied: sphinxcontrib-applehelp in /usr/local/lib/python3.9/dist-packages (from sphinx->autowoe>=1.2->lightautoml) (1.0.4)\n",
            "Requirement already satisfied: sphinxcontrib-qthelp in /usr/local/lib/python3.9/dist-packages (from sphinx->autowoe>=1.2->lightautoml) (1.0.3)\n",
            "Requirement already satisfied: babel>=1.3 in /usr/local/lib/python3.9/dist-packages (from sphinx->autowoe>=1.2->lightautoml) (2.12.1)\n",
            "Requirement already satisfied: sphinxcontrib-serializinghtml in /usr/local/lib/python3.9/dist-packages (from sphinx->autowoe>=1.2->lightautoml) (1.1.5)\n",
            "Requirement already satisfied: alabaster<0.8,>=0.7 in /usr/local/lib/python3.9/dist-packages (from sphinx->autowoe>=1.2->lightautoml) (0.7.13)\n",
            "Collecting sphinxcontrib-jquery!=3.0.0,>=2.0.0\n",
            "  Downloading sphinxcontrib_jquery-4.1-py2.py3-none-any.whl (121 kB)\n",
            "\u001b[2K     \u001b[90m━━━━━━━━━━━━━━━━━━━━━━━━━━━━━━━━━━━━━━\u001b[0m \u001b[32m121.1/121.1 KB\u001b[0m \u001b[31m12.1 MB/s\u001b[0m eta \u001b[36m0:00:00\u001b[0m\n",
            "\u001b[?25hRequirement already satisfied: zipp>=3.1.0 in /usr/local/lib/python3.9/dist-packages (from importlib-resources>=3.2.0->matplotlib->autowoe>=1.2->lightautoml) (3.15.0)\n",
            "Requirement already satisfied: idna<4,>=2.5 in /usr/local/lib/python3.9/dist-packages (from requests->torchvision->lightautoml) (3.4)\n",
            "Requirement already satisfied: charset-normalizer~=2.0.0 in /usr/local/lib/python3.9/dist-packages (from requests->torchvision->lightautoml) (2.0.12)\n",
            "Requirement already satisfied: certifi>=2017.4.17 in /usr/local/lib/python3.9/dist-packages (from requests->torchvision->lightautoml) (2022.12.7)\n",
            "Requirement already satisfied: urllib3<1.27,>=1.21.1 in /usr/local/lib/python3.9/dist-packages (from requests->torchvision->lightautoml) (1.26.15)\n",
            "Building wheels for collected packages: json2html\n",
            "  Building wheel for json2html (setup.py) ... \u001b[?25l\u001b[?25hdone\n",
            "  Created wheel for json2html: filename=json2html-1.3.0-py3-none-any.whl size=7608 sha256=17b1c335e12fdddc6329bfe3635904d8a1198257a6241c8a2b0aac915788f0fd\n",
            "  Stored in directory: /root/.cache/pip/wheels/b9/56/a2/f610a5e8a635d74d27c9971d6099b2521d2155169ff2d99b89\n",
            "Successfully built json2html\n",
            "Installing collected packages: StrEnum, json2html, torch, poetry-core, Mako, colorlog, cmaes, torchvision, pandas, alembic, sphinxcontrib-jquery, optuna, lightgbm, catboost, sphinx-rtd-theme, autowoe, lightautoml\n",
            "  Attempting uninstall: torch\n",
            "    Found existing installation: torch 2.0.0+cu118\n",
            "    Uninstalling torch-2.0.0+cu118:\n",
            "      Successfully uninstalled torch-2.0.0+cu118\n",
            "  Attempting uninstall: torchvision\n",
            "    Found existing installation: torchvision 0.15.1+cu118\n",
            "    Uninstalling torchvision-0.15.1+cu118:\n",
            "      Successfully uninstalled torchvision-0.15.1+cu118\n",
            "  Attempting uninstall: pandas\n",
            "    Found existing installation: pandas 1.4.4\n",
            "    Uninstalling pandas-1.4.4:\n",
            "      Successfully uninstalled pandas-1.4.4\n",
            "  Attempting uninstall: lightgbm\n",
            "    Found existing installation: lightgbm 3.3.5\n",
            "    Uninstalling lightgbm-3.3.5:\n",
            "      Successfully uninstalled lightgbm-3.3.5\n",
            "\u001b[31mERROR: pip's dependency resolver does not currently take into account all the packages that are installed. This behaviour is the source of the following dependency conflicts.\n",
            "torchtext 0.15.1 requires torch==2.0.0, but you have torch 1.8.1 which is incompatible.\n",
            "torchdata 0.6.0 requires torch==2.0.0, but you have torch 1.8.1 which is incompatible.\n",
            "torchaudio 2.0.1+cu118 requires torch==2.0.0, but you have torch 1.8.1 which is incompatible.\u001b[0m\u001b[31m\n",
            "\u001b[0mSuccessfully installed Mako-1.2.4 StrEnum-0.4.10 alembic-1.10.2 autowoe-1.3.2 catboost-1.1.1 cmaes-0.9.1 colorlog-6.7.0 json2html-1.3.0 lightautoml-0.3.7.3 lightgbm-3.2.1 optuna-3.1.0 pandas-1.4.3 poetry-core-1.5.2 sphinx-rtd-theme-1.2.0 sphinxcontrib-jquery-4.1 torch-1.8.1 torchvision-0.9.1\n"
          ]
        }
      ]
    },
    {
      "cell_type": "code",
      "execution_count": 6,
      "metadata": {
        "id": "T9mjVpsDJx35"
      },
      "outputs": [],
      "source": [
        "import pandas as pd\n",
        "import numpy as np\n",
        "from matplotlib import pyplot as plt\n",
        "import seaborn as sns\n",
        "from pathlib2 import Path\n",
        "import sys\n",
        "from datetime import date\n",
        "import datetime\n",
        "import itertools\n",
        "import logging\n",
        "import pickle\n",
        "\n",
        "from sklearn.linear_model import LinearRegression, Lasso, Ridge, LassoCV, RidgeCV, LogisticRegression\n",
        "from sklearn.preprocessing import StandardScaler\n",
        "from sklearn.metrics import accuracy_score, f1_score, precision_recall_curve, roc_curve, auc, confusion_matrix\n",
        "from sklearn.model_selection import train_test_split, KFold, cross_validate\n",
        "from sklearn.pipeline import Pipeline\n",
        "\n",
        "from lightautoml.automl.presets.tabular_presets import TabularAutoML, TabularUtilizedAutoML\n",
        "from lightautoml.tasks import Task\n",
        "\n",
        "import xgboost as xgb"
      ]
    },
    {
      "cell_type": "code",
      "source": [
        "path = Path('/content/drive/MyDrive/Colab Notebooks/megafon/course_lab/')"
      ],
      "metadata": {
        "id": "ukvheUVdQc0m"
      },
      "execution_count": 7,
      "outputs": []
    },
    {
      "cell_type": "markdown",
      "source": [
        "# Загрузка данных"
      ],
      "metadata": {
        "id": "bjBPJGuRQjiC"
      }
    },
    {
      "cell_type": "code",
      "source": [
        "train = pd.read_csv(path.joinpath('data_train.csv')).drop(['Unnamed: 0'], axis=1)\n",
        "train"
      ],
      "metadata": {
        "colab": {
          "base_uri": "https://localhost:8080/",
          "height": 424
        },
        "id": "KkHYjAvOQ8ze",
        "outputId": "a7c064c4-a38b-4385-f41e-a1b656aaadf2"
      },
      "execution_count": 8,
      "outputs": [
        {
          "output_type": "execute_result",
          "data": {
            "text/plain": [
              "             id  vas_id    buy_time  target\n",
              "0        540968     8.0  1537131600     0.0\n",
              "1       1454121     4.0  1531688400     0.0\n",
              "2       2458816     1.0  1534107600     0.0\n",
              "3       3535012     5.0  1535922000     0.0\n",
              "4       1693214     1.0  1535922000     0.0\n",
              "...         ...     ...         ...     ...\n",
              "831648  3812226     2.0  1546203600     0.0\n",
              "831649  2480469     2.0  1546203600     0.0\n",
              "831650   158236     2.0  1546203600     0.0\n",
              "831651  1825525     2.0  1546203600     0.0\n",
              "831652  3022610     2.0  1546203600     0.0\n",
              "\n",
              "[831653 rows x 4 columns]"
            ],
            "text/html": [
              "\n",
              "  <div id=\"df-7c481e08-bce0-4c7b-8b65-ea8e8ef78d64\">\n",
              "    <div class=\"colab-df-container\">\n",
              "      <div>\n",
              "<style scoped>\n",
              "    .dataframe tbody tr th:only-of-type {\n",
              "        vertical-align: middle;\n",
              "    }\n",
              "\n",
              "    .dataframe tbody tr th {\n",
              "        vertical-align: top;\n",
              "    }\n",
              "\n",
              "    .dataframe thead th {\n",
              "        text-align: right;\n",
              "    }\n",
              "</style>\n",
              "<table border=\"1\" class=\"dataframe\">\n",
              "  <thead>\n",
              "    <tr style=\"text-align: right;\">\n",
              "      <th></th>\n",
              "      <th>id</th>\n",
              "      <th>vas_id</th>\n",
              "      <th>buy_time</th>\n",
              "      <th>target</th>\n",
              "    </tr>\n",
              "  </thead>\n",
              "  <tbody>\n",
              "    <tr>\n",
              "      <th>0</th>\n",
              "      <td>540968</td>\n",
              "      <td>8.0</td>\n",
              "      <td>1537131600</td>\n",
              "      <td>0.0</td>\n",
              "    </tr>\n",
              "    <tr>\n",
              "      <th>1</th>\n",
              "      <td>1454121</td>\n",
              "      <td>4.0</td>\n",
              "      <td>1531688400</td>\n",
              "      <td>0.0</td>\n",
              "    </tr>\n",
              "    <tr>\n",
              "      <th>2</th>\n",
              "      <td>2458816</td>\n",
              "      <td>1.0</td>\n",
              "      <td>1534107600</td>\n",
              "      <td>0.0</td>\n",
              "    </tr>\n",
              "    <tr>\n",
              "      <th>3</th>\n",
              "      <td>3535012</td>\n",
              "      <td>5.0</td>\n",
              "      <td>1535922000</td>\n",
              "      <td>0.0</td>\n",
              "    </tr>\n",
              "    <tr>\n",
              "      <th>4</th>\n",
              "      <td>1693214</td>\n",
              "      <td>1.0</td>\n",
              "      <td>1535922000</td>\n",
              "      <td>0.0</td>\n",
              "    </tr>\n",
              "    <tr>\n",
              "      <th>...</th>\n",
              "      <td>...</td>\n",
              "      <td>...</td>\n",
              "      <td>...</td>\n",
              "      <td>...</td>\n",
              "    </tr>\n",
              "    <tr>\n",
              "      <th>831648</th>\n",
              "      <td>3812226</td>\n",
              "      <td>2.0</td>\n",
              "      <td>1546203600</td>\n",
              "      <td>0.0</td>\n",
              "    </tr>\n",
              "    <tr>\n",
              "      <th>831649</th>\n",
              "      <td>2480469</td>\n",
              "      <td>2.0</td>\n",
              "      <td>1546203600</td>\n",
              "      <td>0.0</td>\n",
              "    </tr>\n",
              "    <tr>\n",
              "      <th>831650</th>\n",
              "      <td>158236</td>\n",
              "      <td>2.0</td>\n",
              "      <td>1546203600</td>\n",
              "      <td>0.0</td>\n",
              "    </tr>\n",
              "    <tr>\n",
              "      <th>831651</th>\n",
              "      <td>1825525</td>\n",
              "      <td>2.0</td>\n",
              "      <td>1546203600</td>\n",
              "      <td>0.0</td>\n",
              "    </tr>\n",
              "    <tr>\n",
              "      <th>831652</th>\n",
              "      <td>3022610</td>\n",
              "      <td>2.0</td>\n",
              "      <td>1546203600</td>\n",
              "      <td>0.0</td>\n",
              "    </tr>\n",
              "  </tbody>\n",
              "</table>\n",
              "<p>831653 rows × 4 columns</p>\n",
              "</div>\n",
              "      <button class=\"colab-df-convert\" onclick=\"convertToInteractive('df-7c481e08-bce0-4c7b-8b65-ea8e8ef78d64')\"\n",
              "              title=\"Convert this dataframe to an interactive table.\"\n",
              "              style=\"display:none;\">\n",
              "        \n",
              "  <svg xmlns=\"http://www.w3.org/2000/svg\" height=\"24px\"viewBox=\"0 0 24 24\"\n",
              "       width=\"24px\">\n",
              "    <path d=\"M0 0h24v24H0V0z\" fill=\"none\"/>\n",
              "    <path d=\"M18.56 5.44l.94 2.06.94-2.06 2.06-.94-2.06-.94-.94-2.06-.94 2.06-2.06.94zm-11 1L8.5 8.5l.94-2.06 2.06-.94-2.06-.94L8.5 2.5l-.94 2.06-2.06.94zm10 10l.94 2.06.94-2.06 2.06-.94-2.06-.94-.94-2.06-.94 2.06-2.06.94z\"/><path d=\"M17.41 7.96l-1.37-1.37c-.4-.4-.92-.59-1.43-.59-.52 0-1.04.2-1.43.59L10.3 9.45l-7.72 7.72c-.78.78-.78 2.05 0 2.83L4 21.41c.39.39.9.59 1.41.59.51 0 1.02-.2 1.41-.59l7.78-7.78 2.81-2.81c.8-.78.8-2.07 0-2.86zM5.41 20L4 18.59l7.72-7.72 1.47 1.35L5.41 20z\"/>\n",
              "  </svg>\n",
              "      </button>\n",
              "      \n",
              "  <style>\n",
              "    .colab-df-container {\n",
              "      display:flex;\n",
              "      flex-wrap:wrap;\n",
              "      gap: 12px;\n",
              "    }\n",
              "\n",
              "    .colab-df-convert {\n",
              "      background-color: #E8F0FE;\n",
              "      border: none;\n",
              "      border-radius: 50%;\n",
              "      cursor: pointer;\n",
              "      display: none;\n",
              "      fill: #1967D2;\n",
              "      height: 32px;\n",
              "      padding: 0 0 0 0;\n",
              "      width: 32px;\n",
              "    }\n",
              "\n",
              "    .colab-df-convert:hover {\n",
              "      background-color: #E2EBFA;\n",
              "      box-shadow: 0px 1px 2px rgba(60, 64, 67, 0.3), 0px 1px 3px 1px rgba(60, 64, 67, 0.15);\n",
              "      fill: #174EA6;\n",
              "    }\n",
              "\n",
              "    [theme=dark] .colab-df-convert {\n",
              "      background-color: #3B4455;\n",
              "      fill: #D2E3FC;\n",
              "    }\n",
              "\n",
              "    [theme=dark] .colab-df-convert:hover {\n",
              "      background-color: #434B5C;\n",
              "      box-shadow: 0px 1px 3px 1px rgba(0, 0, 0, 0.15);\n",
              "      filter: drop-shadow(0px 1px 2px rgba(0, 0, 0, 0.3));\n",
              "      fill: #FFFFFF;\n",
              "    }\n",
              "  </style>\n",
              "\n",
              "      <script>\n",
              "        const buttonEl =\n",
              "          document.querySelector('#df-7c481e08-bce0-4c7b-8b65-ea8e8ef78d64 button.colab-df-convert');\n",
              "        buttonEl.style.display =\n",
              "          google.colab.kernel.accessAllowed ? 'block' : 'none';\n",
              "\n",
              "        async function convertToInteractive(key) {\n",
              "          const element = document.querySelector('#df-7c481e08-bce0-4c7b-8b65-ea8e8ef78d64');\n",
              "          const dataTable =\n",
              "            await google.colab.kernel.invokeFunction('convertToInteractive',\n",
              "                                                     [key], {});\n",
              "          if (!dataTable) return;\n",
              "\n",
              "          const docLinkHtml = 'Like what you see? Visit the ' +\n",
              "            '<a target=\"_blank\" href=https://colab.research.google.com/notebooks/data_table.ipynb>data table notebook</a>'\n",
              "            + ' to learn more about interactive tables.';\n",
              "          element.innerHTML = '';\n",
              "          dataTable['output_type'] = 'display_data';\n",
              "          await google.colab.output.renderOutput(dataTable, element);\n",
              "          const docLink = document.createElement('div');\n",
              "          docLink.innerHTML = docLinkHtml;\n",
              "          element.appendChild(docLink);\n",
              "        }\n",
              "      </script>\n",
              "    </div>\n",
              "  </div>\n",
              "  "
            ]
          },
          "metadata": {},
          "execution_count": 8
        }
      ]
    },
    {
      "cell_type": "code",
      "source": [
        "test = pd.read_csv(path.joinpath('data_test.csv')).drop(['Unnamed: 0'], axis=1)\n",
        "test"
      ],
      "metadata": {
        "colab": {
          "base_uri": "https://localhost:8080/",
          "height": 424
        },
        "id": "fYHiFjJBRHkT",
        "outputId": "a2f93c63-0de2-458e-e0e9-8f811a0fe386"
      },
      "execution_count": 9,
      "outputs": [
        {
          "output_type": "execute_result",
          "data": {
            "text/plain": [
              "            id  vas_id    buy_time\n",
              "0      3130519     2.0  1548018000\n",
              "1      2000860     4.0  1548018000\n",
              "2      1099444     2.0  1546808400\n",
              "3      1343255     5.0  1547413200\n",
              "4      1277040     2.0  1546808400\n",
              "...        ...     ...         ...\n",
              "71226  2502453     5.0  1548018000\n",
              "71227  1693213     2.0  1548018000\n",
              "71228  1891350     2.0  1548018000\n",
              "71229  2437172     2.0  1548018000\n",
              "71230   988236     2.0  1548018000\n",
              "\n",
              "[71231 rows x 3 columns]"
            ],
            "text/html": [
              "\n",
              "  <div id=\"df-6615d691-1b66-4728-bced-28352682466a\">\n",
              "    <div class=\"colab-df-container\">\n",
              "      <div>\n",
              "<style scoped>\n",
              "    .dataframe tbody tr th:only-of-type {\n",
              "        vertical-align: middle;\n",
              "    }\n",
              "\n",
              "    .dataframe tbody tr th {\n",
              "        vertical-align: top;\n",
              "    }\n",
              "\n",
              "    .dataframe thead th {\n",
              "        text-align: right;\n",
              "    }\n",
              "</style>\n",
              "<table border=\"1\" class=\"dataframe\">\n",
              "  <thead>\n",
              "    <tr style=\"text-align: right;\">\n",
              "      <th></th>\n",
              "      <th>id</th>\n",
              "      <th>vas_id</th>\n",
              "      <th>buy_time</th>\n",
              "    </tr>\n",
              "  </thead>\n",
              "  <tbody>\n",
              "    <tr>\n",
              "      <th>0</th>\n",
              "      <td>3130519</td>\n",
              "      <td>2.0</td>\n",
              "      <td>1548018000</td>\n",
              "    </tr>\n",
              "    <tr>\n",
              "      <th>1</th>\n",
              "      <td>2000860</td>\n",
              "      <td>4.0</td>\n",
              "      <td>1548018000</td>\n",
              "    </tr>\n",
              "    <tr>\n",
              "      <th>2</th>\n",
              "      <td>1099444</td>\n",
              "      <td>2.0</td>\n",
              "      <td>1546808400</td>\n",
              "    </tr>\n",
              "    <tr>\n",
              "      <th>3</th>\n",
              "      <td>1343255</td>\n",
              "      <td>5.0</td>\n",
              "      <td>1547413200</td>\n",
              "    </tr>\n",
              "    <tr>\n",
              "      <th>4</th>\n",
              "      <td>1277040</td>\n",
              "      <td>2.0</td>\n",
              "      <td>1546808400</td>\n",
              "    </tr>\n",
              "    <tr>\n",
              "      <th>...</th>\n",
              "      <td>...</td>\n",
              "      <td>...</td>\n",
              "      <td>...</td>\n",
              "    </tr>\n",
              "    <tr>\n",
              "      <th>71226</th>\n",
              "      <td>2502453</td>\n",
              "      <td>5.0</td>\n",
              "      <td>1548018000</td>\n",
              "    </tr>\n",
              "    <tr>\n",
              "      <th>71227</th>\n",
              "      <td>1693213</td>\n",
              "      <td>2.0</td>\n",
              "      <td>1548018000</td>\n",
              "    </tr>\n",
              "    <tr>\n",
              "      <th>71228</th>\n",
              "      <td>1891350</td>\n",
              "      <td>2.0</td>\n",
              "      <td>1548018000</td>\n",
              "    </tr>\n",
              "    <tr>\n",
              "      <th>71229</th>\n",
              "      <td>2437172</td>\n",
              "      <td>2.0</td>\n",
              "      <td>1548018000</td>\n",
              "    </tr>\n",
              "    <tr>\n",
              "      <th>71230</th>\n",
              "      <td>988236</td>\n",
              "      <td>2.0</td>\n",
              "      <td>1548018000</td>\n",
              "    </tr>\n",
              "  </tbody>\n",
              "</table>\n",
              "<p>71231 rows × 3 columns</p>\n",
              "</div>\n",
              "      <button class=\"colab-df-convert\" onclick=\"convertToInteractive('df-6615d691-1b66-4728-bced-28352682466a')\"\n",
              "              title=\"Convert this dataframe to an interactive table.\"\n",
              "              style=\"display:none;\">\n",
              "        \n",
              "  <svg xmlns=\"http://www.w3.org/2000/svg\" height=\"24px\"viewBox=\"0 0 24 24\"\n",
              "       width=\"24px\">\n",
              "    <path d=\"M0 0h24v24H0V0z\" fill=\"none\"/>\n",
              "    <path d=\"M18.56 5.44l.94 2.06.94-2.06 2.06-.94-2.06-.94-.94-2.06-.94 2.06-2.06.94zm-11 1L8.5 8.5l.94-2.06 2.06-.94-2.06-.94L8.5 2.5l-.94 2.06-2.06.94zm10 10l.94 2.06.94-2.06 2.06-.94-2.06-.94-.94-2.06-.94 2.06-2.06.94z\"/><path d=\"M17.41 7.96l-1.37-1.37c-.4-.4-.92-.59-1.43-.59-.52 0-1.04.2-1.43.59L10.3 9.45l-7.72 7.72c-.78.78-.78 2.05 0 2.83L4 21.41c.39.39.9.59 1.41.59.51 0 1.02-.2 1.41-.59l7.78-7.78 2.81-2.81c.8-.78.8-2.07 0-2.86zM5.41 20L4 18.59l7.72-7.72 1.47 1.35L5.41 20z\"/>\n",
              "  </svg>\n",
              "      </button>\n",
              "      \n",
              "  <style>\n",
              "    .colab-df-container {\n",
              "      display:flex;\n",
              "      flex-wrap:wrap;\n",
              "      gap: 12px;\n",
              "    }\n",
              "\n",
              "    .colab-df-convert {\n",
              "      background-color: #E8F0FE;\n",
              "      border: none;\n",
              "      border-radius: 50%;\n",
              "      cursor: pointer;\n",
              "      display: none;\n",
              "      fill: #1967D2;\n",
              "      height: 32px;\n",
              "      padding: 0 0 0 0;\n",
              "      width: 32px;\n",
              "    }\n",
              "\n",
              "    .colab-df-convert:hover {\n",
              "      background-color: #E2EBFA;\n",
              "      box-shadow: 0px 1px 2px rgba(60, 64, 67, 0.3), 0px 1px 3px 1px rgba(60, 64, 67, 0.15);\n",
              "      fill: #174EA6;\n",
              "    }\n",
              "\n",
              "    [theme=dark] .colab-df-convert {\n",
              "      background-color: #3B4455;\n",
              "      fill: #D2E3FC;\n",
              "    }\n",
              "\n",
              "    [theme=dark] .colab-df-convert:hover {\n",
              "      background-color: #434B5C;\n",
              "      box-shadow: 0px 1px 3px 1px rgba(0, 0, 0, 0.15);\n",
              "      filter: drop-shadow(0px 1px 2px rgba(0, 0, 0, 0.3));\n",
              "      fill: #FFFFFF;\n",
              "    }\n",
              "  </style>\n",
              "\n",
              "      <script>\n",
              "        const buttonEl =\n",
              "          document.querySelector('#df-6615d691-1b66-4728-bced-28352682466a button.colab-df-convert');\n",
              "        buttonEl.style.display =\n",
              "          google.colab.kernel.accessAllowed ? 'block' : 'none';\n",
              "\n",
              "        async function convertToInteractive(key) {\n",
              "          const element = document.querySelector('#df-6615d691-1b66-4728-bced-28352682466a');\n",
              "          const dataTable =\n",
              "            await google.colab.kernel.invokeFunction('convertToInteractive',\n",
              "                                                     [key], {});\n",
              "          if (!dataTable) return;\n",
              "\n",
              "          const docLinkHtml = 'Like what you see? Visit the ' +\n",
              "            '<a target=\"_blank\" href=https://colab.research.google.com/notebooks/data_table.ipynb>data table notebook</a>'\n",
              "            + ' to learn more about interactive tables.';\n",
              "          element.innerHTML = '';\n",
              "          dataTable['output_type'] = 'display_data';\n",
              "          await google.colab.output.renderOutput(dataTable, element);\n",
              "          const docLink = document.createElement('div');\n",
              "          docLink.innerHTML = docLinkHtml;\n",
              "          element.appendChild(docLink);\n",
              "        }\n",
              "      </script>\n",
              "    </div>\n",
              "  </div>\n",
              "  "
            ]
          },
          "metadata": {},
          "execution_count": 9
        }
      ]
    },
    {
      "cell_type": "code",
      "source": [
        "features = pd.read_csv(path.joinpath('features.csv'), sep='\\t').drop(['Unnamed: 0'], axis=1)\n",
        "features"
      ],
      "metadata": {
        "colab": {
          "base_uri": "https://localhost:8080/",
          "height": 488
        },
        "id": "RdEPxoJ1ath5",
        "outputId": "d98e9ce4-86e5-4f26-ba0a-38d37b048edd"
      },
      "execution_count": 10,
      "outputs": [
        {
          "output_type": "execute_result",
          "data": {
            "text/plain": [
              "             id    buy_time           0           1           2           3  \\\n",
              "0       2013026  1531688400   18.910029   46.980888    4.969214   -1.386798   \n",
              "1       2014722  1539550800   36.690029  152.400888  448.069214  563.833202   \n",
              "2       2015199  1545598800  -67.019971  157.050888  -63.180786  178.103202   \n",
              "3       2021765  1534107600    7.010029  150.200888   -6.930786  216.213202   \n",
              "4       2027465  1533502800  -90.439971  134.220888 -104.380786  153.643202   \n",
              "...         ...         ...         ...         ...         ...         ...   \n",
              "225621  3394894  1544389200  139.210029  -61.149112  125.269214 -101.056798   \n",
              "225622  3395168  1547413200  152.370029  -27.879112  138.429214  -80.486798   \n",
              "225623  3395283  1545598800   27.610029 -160.889112   13.669214 -213.496798   \n",
              "225624  3395373  1544994000   21.840029  -11.059112   37.559214  122.773202   \n",
              "225625  3395617  1546203600  -96.799971   66.310888 -110.740786   17.943202   \n",
              "\n",
              "                 4          5         6          7  ...          243  \\\n",
              "0         3.791754  -14.01179 -16.08618 -65.076097  ...  -977.373846   \n",
              "1       463.841754  568.99821 -16.08618 -53.216097  ...  -891.373846   \n",
              "2       -68.598246  156.99821   3.51382  25.183903  ...  -977.373846   \n",
              "3        76.621754  351.84821 -16.08618 -65.076097  ...  -973.373846   \n",
              "4      -109.798246  132.53821 -16.08618 -65.076097  ...  1643.626154   \n",
              "...            ...        ...       ...        ...  ...          ...   \n",
              "225621  119.851754 -122.16179   5.10382 -43.886097  ...  -769.373846   \n",
              "225622  133.011754 -101.59179 -16.08618 -65.076097  ...  -951.373846   \n",
              "225623    8.251754 -234.60179 -16.08618 -65.076097  ...  -973.373846   \n",
              "225624   32.141754  101.66821 -16.08618 -65.076097  ...  -895.373846   \n",
              "225625 -116.158246   -3.16179 -16.08618 -65.076097  ...  -846.373846   \n",
              "\n",
              "                244         245         246           247         248  \\\n",
              "0       -613.770792  -25.996269  -37.630448   -301.747724  -25.832889   \n",
              "1       -544.770792  -20.996269   48.369552     80.252276  -13.832889   \n",
              "2       -613.770792  -12.996269  -37.630448  10829.252276  -25.832889   \n",
              "3       -613.770792  -23.996269  -37.630448   -205.747724  -24.832889   \n",
              "4       2007.229208  206.003731  -21.630448   6667.252276   92.167111   \n",
              "...             ...         ...         ...           ...         ...   \n",
              "225621  -571.770792  -24.996269  -37.630448    119.252276  -20.832889   \n",
              "225622  -613.770792  -25.996269    5.369552    -66.747724  143.167111   \n",
              "225623  -609.770792  -25.996269  -37.630448   -295.747724  -25.832889   \n",
              "225624  -607.770792  -24.996269  -37.630448   -250.747724  -15.832889   \n",
              "225625  -487.770792  562.003731  224.369552   -219.747724  -19.832889   \n",
              "\n",
              "             249        250       251  252  \n",
              "0      -0.694428 -12.175933  -0.45614  0.0  \n",
              "1      -0.694428  -1.175933  -0.45614  0.0  \n",
              "2      -0.694428 -12.175933  -0.45614  0.0  \n",
              "3      -0.694428 -11.175933  -0.45614  1.0  \n",
              "4      -0.694428  49.824067  47.54386  0.0  \n",
              "...          ...        ...       ...  ...  \n",
              "225621 -0.694428 -12.175933   2.54386  0.0  \n",
              "225622 -0.694428 -12.175933  -0.45614  0.0  \n",
              "225623 -0.694428 -12.175933  -0.45614  0.0  \n",
              "225624 -0.694428 -12.175933  -0.45614  0.0  \n",
              "225625 -0.694428 -12.175933  -0.45614  0.0  \n",
              "\n",
              "[225626 rows x 255 columns]"
            ],
            "text/html": [
              "\n",
              "  <div id=\"df-8b1a78dd-eb1a-4625-b2ac-44f5bcaca2d1\">\n",
              "    <div class=\"colab-df-container\">\n",
              "      <div>\n",
              "<style scoped>\n",
              "    .dataframe tbody tr th:only-of-type {\n",
              "        vertical-align: middle;\n",
              "    }\n",
              "\n",
              "    .dataframe tbody tr th {\n",
              "        vertical-align: top;\n",
              "    }\n",
              "\n",
              "    .dataframe thead th {\n",
              "        text-align: right;\n",
              "    }\n",
              "</style>\n",
              "<table border=\"1\" class=\"dataframe\">\n",
              "  <thead>\n",
              "    <tr style=\"text-align: right;\">\n",
              "      <th></th>\n",
              "      <th>id</th>\n",
              "      <th>buy_time</th>\n",
              "      <th>0</th>\n",
              "      <th>1</th>\n",
              "      <th>2</th>\n",
              "      <th>3</th>\n",
              "      <th>4</th>\n",
              "      <th>5</th>\n",
              "      <th>6</th>\n",
              "      <th>7</th>\n",
              "      <th>...</th>\n",
              "      <th>243</th>\n",
              "      <th>244</th>\n",
              "      <th>245</th>\n",
              "      <th>246</th>\n",
              "      <th>247</th>\n",
              "      <th>248</th>\n",
              "      <th>249</th>\n",
              "      <th>250</th>\n",
              "      <th>251</th>\n",
              "      <th>252</th>\n",
              "    </tr>\n",
              "  </thead>\n",
              "  <tbody>\n",
              "    <tr>\n",
              "      <th>0</th>\n",
              "      <td>2013026</td>\n",
              "      <td>1531688400</td>\n",
              "      <td>18.910029</td>\n",
              "      <td>46.980888</td>\n",
              "      <td>4.969214</td>\n",
              "      <td>-1.386798</td>\n",
              "      <td>3.791754</td>\n",
              "      <td>-14.01179</td>\n",
              "      <td>-16.08618</td>\n",
              "      <td>-65.076097</td>\n",
              "      <td>...</td>\n",
              "      <td>-977.373846</td>\n",
              "      <td>-613.770792</td>\n",
              "      <td>-25.996269</td>\n",
              "      <td>-37.630448</td>\n",
              "      <td>-301.747724</td>\n",
              "      <td>-25.832889</td>\n",
              "      <td>-0.694428</td>\n",
              "      <td>-12.175933</td>\n",
              "      <td>-0.45614</td>\n",
              "      <td>0.0</td>\n",
              "    </tr>\n",
              "    <tr>\n",
              "      <th>1</th>\n",
              "      <td>2014722</td>\n",
              "      <td>1539550800</td>\n",
              "      <td>36.690029</td>\n",
              "      <td>152.400888</td>\n",
              "      <td>448.069214</td>\n",
              "      <td>563.833202</td>\n",
              "      <td>463.841754</td>\n",
              "      <td>568.99821</td>\n",
              "      <td>-16.08618</td>\n",
              "      <td>-53.216097</td>\n",
              "      <td>...</td>\n",
              "      <td>-891.373846</td>\n",
              "      <td>-544.770792</td>\n",
              "      <td>-20.996269</td>\n",
              "      <td>48.369552</td>\n",
              "      <td>80.252276</td>\n",
              "      <td>-13.832889</td>\n",
              "      <td>-0.694428</td>\n",
              "      <td>-1.175933</td>\n",
              "      <td>-0.45614</td>\n",
              "      <td>0.0</td>\n",
              "    </tr>\n",
              "    <tr>\n",
              "      <th>2</th>\n",
              "      <td>2015199</td>\n",
              "      <td>1545598800</td>\n",
              "      <td>-67.019971</td>\n",
              "      <td>157.050888</td>\n",
              "      <td>-63.180786</td>\n",
              "      <td>178.103202</td>\n",
              "      <td>-68.598246</td>\n",
              "      <td>156.99821</td>\n",
              "      <td>3.51382</td>\n",
              "      <td>25.183903</td>\n",
              "      <td>...</td>\n",
              "      <td>-977.373846</td>\n",
              "      <td>-613.770792</td>\n",
              "      <td>-12.996269</td>\n",
              "      <td>-37.630448</td>\n",
              "      <td>10829.252276</td>\n",
              "      <td>-25.832889</td>\n",
              "      <td>-0.694428</td>\n",
              "      <td>-12.175933</td>\n",
              "      <td>-0.45614</td>\n",
              "      <td>0.0</td>\n",
              "    </tr>\n",
              "    <tr>\n",
              "      <th>3</th>\n",
              "      <td>2021765</td>\n",
              "      <td>1534107600</td>\n",
              "      <td>7.010029</td>\n",
              "      <td>150.200888</td>\n",
              "      <td>-6.930786</td>\n",
              "      <td>216.213202</td>\n",
              "      <td>76.621754</td>\n",
              "      <td>351.84821</td>\n",
              "      <td>-16.08618</td>\n",
              "      <td>-65.076097</td>\n",
              "      <td>...</td>\n",
              "      <td>-973.373846</td>\n",
              "      <td>-613.770792</td>\n",
              "      <td>-23.996269</td>\n",
              "      <td>-37.630448</td>\n",
              "      <td>-205.747724</td>\n",
              "      <td>-24.832889</td>\n",
              "      <td>-0.694428</td>\n",
              "      <td>-11.175933</td>\n",
              "      <td>-0.45614</td>\n",
              "      <td>1.0</td>\n",
              "    </tr>\n",
              "    <tr>\n",
              "      <th>4</th>\n",
              "      <td>2027465</td>\n",
              "      <td>1533502800</td>\n",
              "      <td>-90.439971</td>\n",
              "      <td>134.220888</td>\n",
              "      <td>-104.380786</td>\n",
              "      <td>153.643202</td>\n",
              "      <td>-109.798246</td>\n",
              "      <td>132.53821</td>\n",
              "      <td>-16.08618</td>\n",
              "      <td>-65.076097</td>\n",
              "      <td>...</td>\n",
              "      <td>1643.626154</td>\n",
              "      <td>2007.229208</td>\n",
              "      <td>206.003731</td>\n",
              "      <td>-21.630448</td>\n",
              "      <td>6667.252276</td>\n",
              "      <td>92.167111</td>\n",
              "      <td>-0.694428</td>\n",
              "      <td>49.824067</td>\n",
              "      <td>47.54386</td>\n",
              "      <td>0.0</td>\n",
              "    </tr>\n",
              "    <tr>\n",
              "      <th>...</th>\n",
              "      <td>...</td>\n",
              "      <td>...</td>\n",
              "      <td>...</td>\n",
              "      <td>...</td>\n",
              "      <td>...</td>\n",
              "      <td>...</td>\n",
              "      <td>...</td>\n",
              "      <td>...</td>\n",
              "      <td>...</td>\n",
              "      <td>...</td>\n",
              "      <td>...</td>\n",
              "      <td>...</td>\n",
              "      <td>...</td>\n",
              "      <td>...</td>\n",
              "      <td>...</td>\n",
              "      <td>...</td>\n",
              "      <td>...</td>\n",
              "      <td>...</td>\n",
              "      <td>...</td>\n",
              "      <td>...</td>\n",
              "      <td>...</td>\n",
              "    </tr>\n",
              "    <tr>\n",
              "      <th>225621</th>\n",
              "      <td>3394894</td>\n",
              "      <td>1544389200</td>\n",
              "      <td>139.210029</td>\n",
              "      <td>-61.149112</td>\n",
              "      <td>125.269214</td>\n",
              "      <td>-101.056798</td>\n",
              "      <td>119.851754</td>\n",
              "      <td>-122.16179</td>\n",
              "      <td>5.10382</td>\n",
              "      <td>-43.886097</td>\n",
              "      <td>...</td>\n",
              "      <td>-769.373846</td>\n",
              "      <td>-571.770792</td>\n",
              "      <td>-24.996269</td>\n",
              "      <td>-37.630448</td>\n",
              "      <td>119.252276</td>\n",
              "      <td>-20.832889</td>\n",
              "      <td>-0.694428</td>\n",
              "      <td>-12.175933</td>\n",
              "      <td>2.54386</td>\n",
              "      <td>0.0</td>\n",
              "    </tr>\n",
              "    <tr>\n",
              "      <th>225622</th>\n",
              "      <td>3395168</td>\n",
              "      <td>1547413200</td>\n",
              "      <td>152.370029</td>\n",
              "      <td>-27.879112</td>\n",
              "      <td>138.429214</td>\n",
              "      <td>-80.486798</td>\n",
              "      <td>133.011754</td>\n",
              "      <td>-101.59179</td>\n",
              "      <td>-16.08618</td>\n",
              "      <td>-65.076097</td>\n",
              "      <td>...</td>\n",
              "      <td>-951.373846</td>\n",
              "      <td>-613.770792</td>\n",
              "      <td>-25.996269</td>\n",
              "      <td>5.369552</td>\n",
              "      <td>-66.747724</td>\n",
              "      <td>143.167111</td>\n",
              "      <td>-0.694428</td>\n",
              "      <td>-12.175933</td>\n",
              "      <td>-0.45614</td>\n",
              "      <td>0.0</td>\n",
              "    </tr>\n",
              "    <tr>\n",
              "      <th>225623</th>\n",
              "      <td>3395283</td>\n",
              "      <td>1545598800</td>\n",
              "      <td>27.610029</td>\n",
              "      <td>-160.889112</td>\n",
              "      <td>13.669214</td>\n",
              "      <td>-213.496798</td>\n",
              "      <td>8.251754</td>\n",
              "      <td>-234.60179</td>\n",
              "      <td>-16.08618</td>\n",
              "      <td>-65.076097</td>\n",
              "      <td>...</td>\n",
              "      <td>-973.373846</td>\n",
              "      <td>-609.770792</td>\n",
              "      <td>-25.996269</td>\n",
              "      <td>-37.630448</td>\n",
              "      <td>-295.747724</td>\n",
              "      <td>-25.832889</td>\n",
              "      <td>-0.694428</td>\n",
              "      <td>-12.175933</td>\n",
              "      <td>-0.45614</td>\n",
              "      <td>0.0</td>\n",
              "    </tr>\n",
              "    <tr>\n",
              "      <th>225624</th>\n",
              "      <td>3395373</td>\n",
              "      <td>1544994000</td>\n",
              "      <td>21.840029</td>\n",
              "      <td>-11.059112</td>\n",
              "      <td>37.559214</td>\n",
              "      <td>122.773202</td>\n",
              "      <td>32.141754</td>\n",
              "      <td>101.66821</td>\n",
              "      <td>-16.08618</td>\n",
              "      <td>-65.076097</td>\n",
              "      <td>...</td>\n",
              "      <td>-895.373846</td>\n",
              "      <td>-607.770792</td>\n",
              "      <td>-24.996269</td>\n",
              "      <td>-37.630448</td>\n",
              "      <td>-250.747724</td>\n",
              "      <td>-15.832889</td>\n",
              "      <td>-0.694428</td>\n",
              "      <td>-12.175933</td>\n",
              "      <td>-0.45614</td>\n",
              "      <td>0.0</td>\n",
              "    </tr>\n",
              "    <tr>\n",
              "      <th>225625</th>\n",
              "      <td>3395617</td>\n",
              "      <td>1546203600</td>\n",
              "      <td>-96.799971</td>\n",
              "      <td>66.310888</td>\n",
              "      <td>-110.740786</td>\n",
              "      <td>17.943202</td>\n",
              "      <td>-116.158246</td>\n",
              "      <td>-3.16179</td>\n",
              "      <td>-16.08618</td>\n",
              "      <td>-65.076097</td>\n",
              "      <td>...</td>\n",
              "      <td>-846.373846</td>\n",
              "      <td>-487.770792</td>\n",
              "      <td>562.003731</td>\n",
              "      <td>224.369552</td>\n",
              "      <td>-219.747724</td>\n",
              "      <td>-19.832889</td>\n",
              "      <td>-0.694428</td>\n",
              "      <td>-12.175933</td>\n",
              "      <td>-0.45614</td>\n",
              "      <td>0.0</td>\n",
              "    </tr>\n",
              "  </tbody>\n",
              "</table>\n",
              "<p>225626 rows × 255 columns</p>\n",
              "</div>\n",
              "      <button class=\"colab-df-convert\" onclick=\"convertToInteractive('df-8b1a78dd-eb1a-4625-b2ac-44f5bcaca2d1')\"\n",
              "              title=\"Convert this dataframe to an interactive table.\"\n",
              "              style=\"display:none;\">\n",
              "        \n",
              "  <svg xmlns=\"http://www.w3.org/2000/svg\" height=\"24px\"viewBox=\"0 0 24 24\"\n",
              "       width=\"24px\">\n",
              "    <path d=\"M0 0h24v24H0V0z\" fill=\"none\"/>\n",
              "    <path d=\"M18.56 5.44l.94 2.06.94-2.06 2.06-.94-2.06-.94-.94-2.06-.94 2.06-2.06.94zm-11 1L8.5 8.5l.94-2.06 2.06-.94-2.06-.94L8.5 2.5l-.94 2.06-2.06.94zm10 10l.94 2.06.94-2.06 2.06-.94-2.06-.94-.94-2.06-.94 2.06-2.06.94z\"/><path d=\"M17.41 7.96l-1.37-1.37c-.4-.4-.92-.59-1.43-.59-.52 0-1.04.2-1.43.59L10.3 9.45l-7.72 7.72c-.78.78-.78 2.05 0 2.83L4 21.41c.39.39.9.59 1.41.59.51 0 1.02-.2 1.41-.59l7.78-7.78 2.81-2.81c.8-.78.8-2.07 0-2.86zM5.41 20L4 18.59l7.72-7.72 1.47 1.35L5.41 20z\"/>\n",
              "  </svg>\n",
              "      </button>\n",
              "      \n",
              "  <style>\n",
              "    .colab-df-container {\n",
              "      display:flex;\n",
              "      flex-wrap:wrap;\n",
              "      gap: 12px;\n",
              "    }\n",
              "\n",
              "    .colab-df-convert {\n",
              "      background-color: #E8F0FE;\n",
              "      border: none;\n",
              "      border-radius: 50%;\n",
              "      cursor: pointer;\n",
              "      display: none;\n",
              "      fill: #1967D2;\n",
              "      height: 32px;\n",
              "      padding: 0 0 0 0;\n",
              "      width: 32px;\n",
              "    }\n",
              "\n",
              "    .colab-df-convert:hover {\n",
              "      background-color: #E2EBFA;\n",
              "      box-shadow: 0px 1px 2px rgba(60, 64, 67, 0.3), 0px 1px 3px 1px rgba(60, 64, 67, 0.15);\n",
              "      fill: #174EA6;\n",
              "    }\n",
              "\n",
              "    [theme=dark] .colab-df-convert {\n",
              "      background-color: #3B4455;\n",
              "      fill: #D2E3FC;\n",
              "    }\n",
              "\n",
              "    [theme=dark] .colab-df-convert:hover {\n",
              "      background-color: #434B5C;\n",
              "      box-shadow: 0px 1px 3px 1px rgba(0, 0, 0, 0.15);\n",
              "      filter: drop-shadow(0px 1px 2px rgba(0, 0, 0, 0.3));\n",
              "      fill: #FFFFFF;\n",
              "    }\n",
              "  </style>\n",
              "\n",
              "      <script>\n",
              "        const buttonEl =\n",
              "          document.querySelector('#df-8b1a78dd-eb1a-4625-b2ac-44f5bcaca2d1 button.colab-df-convert');\n",
              "        buttonEl.style.display =\n",
              "          google.colab.kernel.accessAllowed ? 'block' : 'none';\n",
              "\n",
              "        async function convertToInteractive(key) {\n",
              "          const element = document.querySelector('#df-8b1a78dd-eb1a-4625-b2ac-44f5bcaca2d1');\n",
              "          const dataTable =\n",
              "            await google.colab.kernel.invokeFunction('convertToInteractive',\n",
              "                                                     [key], {});\n",
              "          if (!dataTable) return;\n",
              "\n",
              "          const docLinkHtml = 'Like what you see? Visit the ' +\n",
              "            '<a target=\"_blank\" href=https://colab.research.google.com/notebooks/data_table.ipynb>data table notebook</a>'\n",
              "            + ' to learn more about interactive tables.';\n",
              "          element.innerHTML = '';\n",
              "          dataTable['output_type'] = 'display_data';\n",
              "          await google.colab.output.renderOutput(dataTable, element);\n",
              "          const docLink = document.createElement('div');\n",
              "          docLink.innerHTML = docLinkHtml;\n",
              "          element.appendChild(docLink);\n",
              "        }\n",
              "      </script>\n",
              "    </div>\n",
              "  </div>\n",
              "  "
            ]
          },
          "metadata": {},
          "execution_count": 10
        }
      ]
    },
    {
      "cell_type": "code",
      "source": [
        "# размер features в памяти\n",
        "sys.getsizeof(features)"
      ],
      "metadata": {
        "colab": {
          "base_uri": "https://localhost:8080/"
        },
        "id": "xbR6hWmlX9oo",
        "outputId": "b79ffa2e-dda4-4032-be0b-b7ec0a76f900"
      },
      "execution_count": 11,
      "outputs": [
        {
          "output_type": "execute_result",
          "data": {
            "text/plain": [
              "460277184"
            ]
          },
          "metadata": {},
          "execution_count": 11
        }
      ]
    },
    {
      "cell_type": "markdown",
      "source": [
        "**Проверка, что признак равен нулю**"
      ],
      "metadata": {
        "id": "pHUKpQNmYC1s"
      }
    },
    {
      "cell_type": "markdown",
      "source": [
        "Это видно построив плот корреляции."
      ],
      "metadata": {
        "id": "JCukrALXYIGH"
      }
    },
    {
      "cell_type": "code",
      "source": [
        "features[['75', '81', '85', '139', '203']].describe()"
      ],
      "metadata": {
        "colab": {
          "base_uri": "https://localhost:8080/",
          "height": 300
        },
        "id": "HJp068WDYLa2",
        "outputId": "b031c7c1-08c9-4039-da27-c576301f8d92"
      },
      "execution_count": 12,
      "outputs": [
        {
          "output_type": "execute_result",
          "data": {
            "text/plain": [
              "             75        81        85       139       203\n",
              "count  225626.0  225626.0  225626.0  225626.0  225626.0\n",
              "mean        0.0       0.0       0.0       0.0       0.0\n",
              "std         0.0       0.0       0.0       0.0       0.0\n",
              "min         0.0       0.0       0.0       0.0       0.0\n",
              "25%         0.0       0.0       0.0       0.0       0.0\n",
              "50%         0.0       0.0       0.0       0.0       0.0\n",
              "75%         0.0       0.0       0.0       0.0       0.0\n",
              "max         0.0       0.0       0.0       0.0       0.0"
            ],
            "text/html": [
              "\n",
              "  <div id=\"df-3f30366a-81c1-4055-9bd7-5c44028d0756\">\n",
              "    <div class=\"colab-df-container\">\n",
              "      <div>\n",
              "<style scoped>\n",
              "    .dataframe tbody tr th:only-of-type {\n",
              "        vertical-align: middle;\n",
              "    }\n",
              "\n",
              "    .dataframe tbody tr th {\n",
              "        vertical-align: top;\n",
              "    }\n",
              "\n",
              "    .dataframe thead th {\n",
              "        text-align: right;\n",
              "    }\n",
              "</style>\n",
              "<table border=\"1\" class=\"dataframe\">\n",
              "  <thead>\n",
              "    <tr style=\"text-align: right;\">\n",
              "      <th></th>\n",
              "      <th>75</th>\n",
              "      <th>81</th>\n",
              "      <th>85</th>\n",
              "      <th>139</th>\n",
              "      <th>203</th>\n",
              "    </tr>\n",
              "  </thead>\n",
              "  <tbody>\n",
              "    <tr>\n",
              "      <th>count</th>\n",
              "      <td>225626.0</td>\n",
              "      <td>225626.0</td>\n",
              "      <td>225626.0</td>\n",
              "      <td>225626.0</td>\n",
              "      <td>225626.0</td>\n",
              "    </tr>\n",
              "    <tr>\n",
              "      <th>mean</th>\n",
              "      <td>0.0</td>\n",
              "      <td>0.0</td>\n",
              "      <td>0.0</td>\n",
              "      <td>0.0</td>\n",
              "      <td>0.0</td>\n",
              "    </tr>\n",
              "    <tr>\n",
              "      <th>std</th>\n",
              "      <td>0.0</td>\n",
              "      <td>0.0</td>\n",
              "      <td>0.0</td>\n",
              "      <td>0.0</td>\n",
              "      <td>0.0</td>\n",
              "    </tr>\n",
              "    <tr>\n",
              "      <th>min</th>\n",
              "      <td>0.0</td>\n",
              "      <td>0.0</td>\n",
              "      <td>0.0</td>\n",
              "      <td>0.0</td>\n",
              "      <td>0.0</td>\n",
              "    </tr>\n",
              "    <tr>\n",
              "      <th>25%</th>\n",
              "      <td>0.0</td>\n",
              "      <td>0.0</td>\n",
              "      <td>0.0</td>\n",
              "      <td>0.0</td>\n",
              "      <td>0.0</td>\n",
              "    </tr>\n",
              "    <tr>\n",
              "      <th>50%</th>\n",
              "      <td>0.0</td>\n",
              "      <td>0.0</td>\n",
              "      <td>0.0</td>\n",
              "      <td>0.0</td>\n",
              "      <td>0.0</td>\n",
              "    </tr>\n",
              "    <tr>\n",
              "      <th>75%</th>\n",
              "      <td>0.0</td>\n",
              "      <td>0.0</td>\n",
              "      <td>0.0</td>\n",
              "      <td>0.0</td>\n",
              "      <td>0.0</td>\n",
              "    </tr>\n",
              "    <tr>\n",
              "      <th>max</th>\n",
              "      <td>0.0</td>\n",
              "      <td>0.0</td>\n",
              "      <td>0.0</td>\n",
              "      <td>0.0</td>\n",
              "      <td>0.0</td>\n",
              "    </tr>\n",
              "  </tbody>\n",
              "</table>\n",
              "</div>\n",
              "      <button class=\"colab-df-convert\" onclick=\"convertToInteractive('df-3f30366a-81c1-4055-9bd7-5c44028d0756')\"\n",
              "              title=\"Convert this dataframe to an interactive table.\"\n",
              "              style=\"display:none;\">\n",
              "        \n",
              "  <svg xmlns=\"http://www.w3.org/2000/svg\" height=\"24px\"viewBox=\"0 0 24 24\"\n",
              "       width=\"24px\">\n",
              "    <path d=\"M0 0h24v24H0V0z\" fill=\"none\"/>\n",
              "    <path d=\"M18.56 5.44l.94 2.06.94-2.06 2.06-.94-2.06-.94-.94-2.06-.94 2.06-2.06.94zm-11 1L8.5 8.5l.94-2.06 2.06-.94-2.06-.94L8.5 2.5l-.94 2.06-2.06.94zm10 10l.94 2.06.94-2.06 2.06-.94-2.06-.94-.94-2.06-.94 2.06-2.06.94z\"/><path d=\"M17.41 7.96l-1.37-1.37c-.4-.4-.92-.59-1.43-.59-.52 0-1.04.2-1.43.59L10.3 9.45l-7.72 7.72c-.78.78-.78 2.05 0 2.83L4 21.41c.39.39.9.59 1.41.59.51 0 1.02-.2 1.41-.59l7.78-7.78 2.81-2.81c.8-.78.8-2.07 0-2.86zM5.41 20L4 18.59l7.72-7.72 1.47 1.35L5.41 20z\"/>\n",
              "  </svg>\n",
              "      </button>\n",
              "      \n",
              "  <style>\n",
              "    .colab-df-container {\n",
              "      display:flex;\n",
              "      flex-wrap:wrap;\n",
              "      gap: 12px;\n",
              "    }\n",
              "\n",
              "    .colab-df-convert {\n",
              "      background-color: #E8F0FE;\n",
              "      border: none;\n",
              "      border-radius: 50%;\n",
              "      cursor: pointer;\n",
              "      display: none;\n",
              "      fill: #1967D2;\n",
              "      height: 32px;\n",
              "      padding: 0 0 0 0;\n",
              "      width: 32px;\n",
              "    }\n",
              "\n",
              "    .colab-df-convert:hover {\n",
              "      background-color: #E2EBFA;\n",
              "      box-shadow: 0px 1px 2px rgba(60, 64, 67, 0.3), 0px 1px 3px 1px rgba(60, 64, 67, 0.15);\n",
              "      fill: #174EA6;\n",
              "    }\n",
              "\n",
              "    [theme=dark] .colab-df-convert {\n",
              "      background-color: #3B4455;\n",
              "      fill: #D2E3FC;\n",
              "    }\n",
              "\n",
              "    [theme=dark] .colab-df-convert:hover {\n",
              "      background-color: #434B5C;\n",
              "      box-shadow: 0px 1px 3px 1px rgba(0, 0, 0, 0.15);\n",
              "      filter: drop-shadow(0px 1px 2px rgba(0, 0, 0, 0.3));\n",
              "      fill: #FFFFFF;\n",
              "    }\n",
              "  </style>\n",
              "\n",
              "      <script>\n",
              "        const buttonEl =\n",
              "          document.querySelector('#df-3f30366a-81c1-4055-9bd7-5c44028d0756 button.colab-df-convert');\n",
              "        buttonEl.style.display =\n",
              "          google.colab.kernel.accessAllowed ? 'block' : 'none';\n",
              "\n",
              "        async function convertToInteractive(key) {\n",
              "          const element = document.querySelector('#df-3f30366a-81c1-4055-9bd7-5c44028d0756');\n",
              "          const dataTable =\n",
              "            await google.colab.kernel.invokeFunction('convertToInteractive',\n",
              "                                                     [key], {});\n",
              "          if (!dataTable) return;\n",
              "\n",
              "          const docLinkHtml = 'Like what you see? Visit the ' +\n",
              "            '<a target=\"_blank\" href=https://colab.research.google.com/notebooks/data_table.ipynb>data table notebook</a>'\n",
              "            + ' to learn more about interactive tables.';\n",
              "          element.innerHTML = '';\n",
              "          dataTable['output_type'] = 'display_data';\n",
              "          await google.colab.output.renderOutput(dataTable, element);\n",
              "          const docLink = document.createElement('div');\n",
              "          docLink.innerHTML = docLinkHtml;\n",
              "          element.appendChild(docLink);\n",
              "        }\n",
              "      </script>\n",
              "    </div>\n",
              "  </div>\n",
              "  "
            ]
          },
          "metadata": {},
          "execution_count": 12
        }
      ]
    },
    {
      "cell_type": "code",
      "source": [
        "features.drop(['75', '81', '85', '139', '203'], axis=1, inplace=True)"
      ],
      "metadata": {
        "id": "ay4s5911YQTr"
      },
      "execution_count": 13,
      "outputs": []
    },
    {
      "cell_type": "markdown",
      "source": [
        "**Избавились от 5-ти нулевых признаков.**"
      ],
      "metadata": {
        "id": "ChKLMYJIYV_j"
      }
    },
    {
      "cell_type": "code",
      "source": [
        "features.head(2)"
      ],
      "metadata": {
        "colab": {
          "base_uri": "https://localhost:8080/",
          "height": 205
        },
        "id": "qFK2SBYZYVEX",
        "outputId": "69960c0c-df95-4f78-b889-6f78bc3db327"
      },
      "execution_count": 14,
      "outputs": [
        {
          "output_type": "execute_result",
          "data": {
            "text/plain": [
              "        id    buy_time          0           1           2           3  \\\n",
              "0  2013026  1531688400  18.910029   46.980888    4.969214   -1.386798   \n",
              "1  2014722  1539550800  36.690029  152.400888  448.069214  563.833202   \n",
              "\n",
              "            4          5         6          7  ...         243         244  \\\n",
              "0    3.791754  -14.01179 -16.08618 -65.076097  ... -977.373846 -613.770792   \n",
              "1  463.841754  568.99821 -16.08618 -53.216097  ... -891.373846 -544.770792   \n",
              "\n",
              "         245        246         247        248       249        250      251  \\\n",
              "0 -25.996269 -37.630448 -301.747724 -25.832889 -0.694428 -12.175933 -0.45614   \n",
              "1 -20.996269  48.369552   80.252276 -13.832889 -0.694428  -1.175933 -0.45614   \n",
              "\n",
              "   252  \n",
              "0  0.0  \n",
              "1  0.0  \n",
              "\n",
              "[2 rows x 250 columns]"
            ],
            "text/html": [
              "\n",
              "  <div id=\"df-31b45a90-89e6-4c31-9dd5-0bda6eff4663\">\n",
              "    <div class=\"colab-df-container\">\n",
              "      <div>\n",
              "<style scoped>\n",
              "    .dataframe tbody tr th:only-of-type {\n",
              "        vertical-align: middle;\n",
              "    }\n",
              "\n",
              "    .dataframe tbody tr th {\n",
              "        vertical-align: top;\n",
              "    }\n",
              "\n",
              "    .dataframe thead th {\n",
              "        text-align: right;\n",
              "    }\n",
              "</style>\n",
              "<table border=\"1\" class=\"dataframe\">\n",
              "  <thead>\n",
              "    <tr style=\"text-align: right;\">\n",
              "      <th></th>\n",
              "      <th>id</th>\n",
              "      <th>buy_time</th>\n",
              "      <th>0</th>\n",
              "      <th>1</th>\n",
              "      <th>2</th>\n",
              "      <th>3</th>\n",
              "      <th>4</th>\n",
              "      <th>5</th>\n",
              "      <th>6</th>\n",
              "      <th>7</th>\n",
              "      <th>...</th>\n",
              "      <th>243</th>\n",
              "      <th>244</th>\n",
              "      <th>245</th>\n",
              "      <th>246</th>\n",
              "      <th>247</th>\n",
              "      <th>248</th>\n",
              "      <th>249</th>\n",
              "      <th>250</th>\n",
              "      <th>251</th>\n",
              "      <th>252</th>\n",
              "    </tr>\n",
              "  </thead>\n",
              "  <tbody>\n",
              "    <tr>\n",
              "      <th>0</th>\n",
              "      <td>2013026</td>\n",
              "      <td>1531688400</td>\n",
              "      <td>18.910029</td>\n",
              "      <td>46.980888</td>\n",
              "      <td>4.969214</td>\n",
              "      <td>-1.386798</td>\n",
              "      <td>3.791754</td>\n",
              "      <td>-14.01179</td>\n",
              "      <td>-16.08618</td>\n",
              "      <td>-65.076097</td>\n",
              "      <td>...</td>\n",
              "      <td>-977.373846</td>\n",
              "      <td>-613.770792</td>\n",
              "      <td>-25.996269</td>\n",
              "      <td>-37.630448</td>\n",
              "      <td>-301.747724</td>\n",
              "      <td>-25.832889</td>\n",
              "      <td>-0.694428</td>\n",
              "      <td>-12.175933</td>\n",
              "      <td>-0.45614</td>\n",
              "      <td>0.0</td>\n",
              "    </tr>\n",
              "    <tr>\n",
              "      <th>1</th>\n",
              "      <td>2014722</td>\n",
              "      <td>1539550800</td>\n",
              "      <td>36.690029</td>\n",
              "      <td>152.400888</td>\n",
              "      <td>448.069214</td>\n",
              "      <td>563.833202</td>\n",
              "      <td>463.841754</td>\n",
              "      <td>568.99821</td>\n",
              "      <td>-16.08618</td>\n",
              "      <td>-53.216097</td>\n",
              "      <td>...</td>\n",
              "      <td>-891.373846</td>\n",
              "      <td>-544.770792</td>\n",
              "      <td>-20.996269</td>\n",
              "      <td>48.369552</td>\n",
              "      <td>80.252276</td>\n",
              "      <td>-13.832889</td>\n",
              "      <td>-0.694428</td>\n",
              "      <td>-1.175933</td>\n",
              "      <td>-0.45614</td>\n",
              "      <td>0.0</td>\n",
              "    </tr>\n",
              "  </tbody>\n",
              "</table>\n",
              "<p>2 rows × 250 columns</p>\n",
              "</div>\n",
              "      <button class=\"colab-df-convert\" onclick=\"convertToInteractive('df-31b45a90-89e6-4c31-9dd5-0bda6eff4663')\"\n",
              "              title=\"Convert this dataframe to an interactive table.\"\n",
              "              style=\"display:none;\">\n",
              "        \n",
              "  <svg xmlns=\"http://www.w3.org/2000/svg\" height=\"24px\"viewBox=\"0 0 24 24\"\n",
              "       width=\"24px\">\n",
              "    <path d=\"M0 0h24v24H0V0z\" fill=\"none\"/>\n",
              "    <path d=\"M18.56 5.44l.94 2.06.94-2.06 2.06-.94-2.06-.94-.94-2.06-.94 2.06-2.06.94zm-11 1L8.5 8.5l.94-2.06 2.06-.94-2.06-.94L8.5 2.5l-.94 2.06-2.06.94zm10 10l.94 2.06.94-2.06 2.06-.94-2.06-.94-.94-2.06-.94 2.06-2.06.94z\"/><path d=\"M17.41 7.96l-1.37-1.37c-.4-.4-.92-.59-1.43-.59-.52 0-1.04.2-1.43.59L10.3 9.45l-7.72 7.72c-.78.78-.78 2.05 0 2.83L4 21.41c.39.39.9.59 1.41.59.51 0 1.02-.2 1.41-.59l7.78-7.78 2.81-2.81c.8-.78.8-2.07 0-2.86zM5.41 20L4 18.59l7.72-7.72 1.47 1.35L5.41 20z\"/>\n",
              "  </svg>\n",
              "      </button>\n",
              "      \n",
              "  <style>\n",
              "    .colab-df-container {\n",
              "      display:flex;\n",
              "      flex-wrap:wrap;\n",
              "      gap: 12px;\n",
              "    }\n",
              "\n",
              "    .colab-df-convert {\n",
              "      background-color: #E8F0FE;\n",
              "      border: none;\n",
              "      border-radius: 50%;\n",
              "      cursor: pointer;\n",
              "      display: none;\n",
              "      fill: #1967D2;\n",
              "      height: 32px;\n",
              "      padding: 0 0 0 0;\n",
              "      width: 32px;\n",
              "    }\n",
              "\n",
              "    .colab-df-convert:hover {\n",
              "      background-color: #E2EBFA;\n",
              "      box-shadow: 0px 1px 2px rgba(60, 64, 67, 0.3), 0px 1px 3px 1px rgba(60, 64, 67, 0.15);\n",
              "      fill: #174EA6;\n",
              "    }\n",
              "\n",
              "    [theme=dark] .colab-df-convert {\n",
              "      background-color: #3B4455;\n",
              "      fill: #D2E3FC;\n",
              "    }\n",
              "\n",
              "    [theme=dark] .colab-df-convert:hover {\n",
              "      background-color: #434B5C;\n",
              "      box-shadow: 0px 1px 3px 1px rgba(0, 0, 0, 0.15);\n",
              "      filter: drop-shadow(0px 1px 2px rgba(0, 0, 0, 0.3));\n",
              "      fill: #FFFFFF;\n",
              "    }\n",
              "  </style>\n",
              "\n",
              "      <script>\n",
              "        const buttonEl =\n",
              "          document.querySelector('#df-31b45a90-89e6-4c31-9dd5-0bda6eff4663 button.colab-df-convert');\n",
              "        buttonEl.style.display =\n",
              "          google.colab.kernel.accessAllowed ? 'block' : 'none';\n",
              "\n",
              "        async function convertToInteractive(key) {\n",
              "          const element = document.querySelector('#df-31b45a90-89e6-4c31-9dd5-0bda6eff4663');\n",
              "          const dataTable =\n",
              "            await google.colab.kernel.invokeFunction('convertToInteractive',\n",
              "                                                     [key], {});\n",
              "          if (!dataTable) return;\n",
              "\n",
              "          const docLinkHtml = 'Like what you see? Visit the ' +\n",
              "            '<a target=\"_blank\" href=https://colab.research.google.com/notebooks/data_table.ipynb>data table notebook</a>'\n",
              "            + ' to learn more about interactive tables.';\n",
              "          element.innerHTML = '';\n",
              "          dataTable['output_type'] = 'display_data';\n",
              "          await google.colab.output.renderOutput(dataTable, element);\n",
              "          const docLink = document.createElement('div');\n",
              "          docLink.innerHTML = docLinkHtml;\n",
              "          element.appendChild(docLink);\n",
              "        }\n",
              "      </script>\n",
              "    </div>\n",
              "  </div>\n",
              "  "
            ]
          },
          "metadata": {},
          "execution_count": 14
        }
      ]
    },
    {
      "cell_type": "markdown",
      "source": [
        "# Преобразуем buy_time к дате."
      ],
      "metadata": {
        "id": "Adh8wQBvYd2f"
      }
    },
    {
      "cell_type": "code",
      "source": [
        "train['buy_time'] = train['buy_time'].apply(lambda data: date.fromtimestamp(data))"
      ],
      "metadata": {
        "id": "6wfLp46vb7rZ"
      },
      "execution_count": 15,
      "outputs": []
    },
    {
      "cell_type": "code",
      "source": [
        "test['buy_time'] = test['buy_time'].apply(lambda data: date.fromtimestamp(data))\n",
        "test.head(3)"
      ],
      "metadata": {
        "colab": {
          "base_uri": "https://localhost:8080/",
          "height": 143
        },
        "id": "FN0h7h4baiV3",
        "outputId": "bcf8cf2c-2eac-4977-a03e-cb788d6817af"
      },
      "execution_count": 16,
      "outputs": [
        {
          "output_type": "execute_result",
          "data": {
            "text/plain": [
              "        id  vas_id    buy_time\n",
              "0  3130519     2.0  2019-01-20\n",
              "1  2000860     4.0  2019-01-20\n",
              "2  1099444     2.0  2019-01-06"
            ],
            "text/html": [
              "\n",
              "  <div id=\"df-d29cd36b-feb4-4e3e-b652-bd6d975ffe83\">\n",
              "    <div class=\"colab-df-container\">\n",
              "      <div>\n",
              "<style scoped>\n",
              "    .dataframe tbody tr th:only-of-type {\n",
              "        vertical-align: middle;\n",
              "    }\n",
              "\n",
              "    .dataframe tbody tr th {\n",
              "        vertical-align: top;\n",
              "    }\n",
              "\n",
              "    .dataframe thead th {\n",
              "        text-align: right;\n",
              "    }\n",
              "</style>\n",
              "<table border=\"1\" class=\"dataframe\">\n",
              "  <thead>\n",
              "    <tr style=\"text-align: right;\">\n",
              "      <th></th>\n",
              "      <th>id</th>\n",
              "      <th>vas_id</th>\n",
              "      <th>buy_time</th>\n",
              "    </tr>\n",
              "  </thead>\n",
              "  <tbody>\n",
              "    <tr>\n",
              "      <th>0</th>\n",
              "      <td>3130519</td>\n",
              "      <td>2.0</td>\n",
              "      <td>2019-01-20</td>\n",
              "    </tr>\n",
              "    <tr>\n",
              "      <th>1</th>\n",
              "      <td>2000860</td>\n",
              "      <td>4.0</td>\n",
              "      <td>2019-01-20</td>\n",
              "    </tr>\n",
              "    <tr>\n",
              "      <th>2</th>\n",
              "      <td>1099444</td>\n",
              "      <td>2.0</td>\n",
              "      <td>2019-01-06</td>\n",
              "    </tr>\n",
              "  </tbody>\n",
              "</table>\n",
              "</div>\n",
              "      <button class=\"colab-df-convert\" onclick=\"convertToInteractive('df-d29cd36b-feb4-4e3e-b652-bd6d975ffe83')\"\n",
              "              title=\"Convert this dataframe to an interactive table.\"\n",
              "              style=\"display:none;\">\n",
              "        \n",
              "  <svg xmlns=\"http://www.w3.org/2000/svg\" height=\"24px\"viewBox=\"0 0 24 24\"\n",
              "       width=\"24px\">\n",
              "    <path d=\"M0 0h24v24H0V0z\" fill=\"none\"/>\n",
              "    <path d=\"M18.56 5.44l.94 2.06.94-2.06 2.06-.94-2.06-.94-.94-2.06-.94 2.06-2.06.94zm-11 1L8.5 8.5l.94-2.06 2.06-.94-2.06-.94L8.5 2.5l-.94 2.06-2.06.94zm10 10l.94 2.06.94-2.06 2.06-.94-2.06-.94-.94-2.06-.94 2.06-2.06.94z\"/><path d=\"M17.41 7.96l-1.37-1.37c-.4-.4-.92-.59-1.43-.59-.52 0-1.04.2-1.43.59L10.3 9.45l-7.72 7.72c-.78.78-.78 2.05 0 2.83L4 21.41c.39.39.9.59 1.41.59.51 0 1.02-.2 1.41-.59l7.78-7.78 2.81-2.81c.8-.78.8-2.07 0-2.86zM5.41 20L4 18.59l7.72-7.72 1.47 1.35L5.41 20z\"/>\n",
              "  </svg>\n",
              "      </button>\n",
              "      \n",
              "  <style>\n",
              "    .colab-df-container {\n",
              "      display:flex;\n",
              "      flex-wrap:wrap;\n",
              "      gap: 12px;\n",
              "    }\n",
              "\n",
              "    .colab-df-convert {\n",
              "      background-color: #E8F0FE;\n",
              "      border: none;\n",
              "      border-radius: 50%;\n",
              "      cursor: pointer;\n",
              "      display: none;\n",
              "      fill: #1967D2;\n",
              "      height: 32px;\n",
              "      padding: 0 0 0 0;\n",
              "      width: 32px;\n",
              "    }\n",
              "\n",
              "    .colab-df-convert:hover {\n",
              "      background-color: #E2EBFA;\n",
              "      box-shadow: 0px 1px 2px rgba(60, 64, 67, 0.3), 0px 1px 3px 1px rgba(60, 64, 67, 0.15);\n",
              "      fill: #174EA6;\n",
              "    }\n",
              "\n",
              "    [theme=dark] .colab-df-convert {\n",
              "      background-color: #3B4455;\n",
              "      fill: #D2E3FC;\n",
              "    }\n",
              "\n",
              "    [theme=dark] .colab-df-convert:hover {\n",
              "      background-color: #434B5C;\n",
              "      box-shadow: 0px 1px 3px 1px rgba(0, 0, 0, 0.15);\n",
              "      filter: drop-shadow(0px 1px 2px rgba(0, 0, 0, 0.3));\n",
              "      fill: #FFFFFF;\n",
              "    }\n",
              "  </style>\n",
              "\n",
              "      <script>\n",
              "        const buttonEl =\n",
              "          document.querySelector('#df-d29cd36b-feb4-4e3e-b652-bd6d975ffe83 button.colab-df-convert');\n",
              "        buttonEl.style.display =\n",
              "          google.colab.kernel.accessAllowed ? 'block' : 'none';\n",
              "\n",
              "        async function convertToInteractive(key) {\n",
              "          const element = document.querySelector('#df-d29cd36b-feb4-4e3e-b652-bd6d975ffe83');\n",
              "          const dataTable =\n",
              "            await google.colab.kernel.invokeFunction('convertToInteractive',\n",
              "                                                     [key], {});\n",
              "          if (!dataTable) return;\n",
              "\n",
              "          const docLinkHtml = 'Like what you see? Visit the ' +\n",
              "            '<a target=\"_blank\" href=https://colab.research.google.com/notebooks/data_table.ipynb>data table notebook</a>'\n",
              "            + ' to learn more about interactive tables.';\n",
              "          element.innerHTML = '';\n",
              "          dataTable['output_type'] = 'display_data';\n",
              "          await google.colab.output.renderOutput(dataTable, element);\n",
              "          const docLink = document.createElement('div');\n",
              "          docLink.innerHTML = docLinkHtml;\n",
              "          element.appendChild(docLink);\n",
              "        }\n",
              "      </script>\n",
              "    </div>\n",
              "  </div>\n",
              "  "
            ]
          },
          "metadata": {},
          "execution_count": 16
        }
      ]
    },
    {
      "cell_type": "code",
      "source": [
        "features['buy_time'] = features['buy_time'].apply(lambda data: date.fromtimestamp(data))\n",
        "features.head(3)"
      ],
      "metadata": {
        "colab": {
          "base_uri": "https://localhost:8080/",
          "height": 289
        },
        "id": "F_-TE_PpcWUd",
        "outputId": "827047f5-bf68-4be0-de81-13631c9ca06b"
      },
      "execution_count": 17,
      "outputs": [
        {
          "output_type": "execute_result",
          "data": {
            "text/plain": [
              "        id    buy_time          0           1           2           3  \\\n",
              "0  2013026  2018-07-15  18.910029   46.980888    4.969214   -1.386798   \n",
              "1  2014722  2018-10-14  36.690029  152.400888  448.069214  563.833202   \n",
              "2  2015199  2018-12-23 -67.019971  157.050888  -63.180786  178.103202   \n",
              "\n",
              "            4          5         6          7  ...         243         244  \\\n",
              "0    3.791754  -14.01179 -16.08618 -65.076097  ... -977.373846 -613.770792   \n",
              "1  463.841754  568.99821 -16.08618 -53.216097  ... -891.373846 -544.770792   \n",
              "2  -68.598246  156.99821   3.51382  25.183903  ... -977.373846 -613.770792   \n",
              "\n",
              "         245        246           247        248       249        250  \\\n",
              "0 -25.996269 -37.630448   -301.747724 -25.832889 -0.694428 -12.175933   \n",
              "1 -20.996269  48.369552     80.252276 -13.832889 -0.694428  -1.175933   \n",
              "2 -12.996269 -37.630448  10829.252276 -25.832889 -0.694428 -12.175933   \n",
              "\n",
              "       251  252  \n",
              "0 -0.45614  0.0  \n",
              "1 -0.45614  0.0  \n",
              "2 -0.45614  0.0  \n",
              "\n",
              "[3 rows x 250 columns]"
            ],
            "text/html": [
              "\n",
              "  <div id=\"df-5596d75f-2f76-495e-94dc-c1245997663f\">\n",
              "    <div class=\"colab-df-container\">\n",
              "      <div>\n",
              "<style scoped>\n",
              "    .dataframe tbody tr th:only-of-type {\n",
              "        vertical-align: middle;\n",
              "    }\n",
              "\n",
              "    .dataframe tbody tr th {\n",
              "        vertical-align: top;\n",
              "    }\n",
              "\n",
              "    .dataframe thead th {\n",
              "        text-align: right;\n",
              "    }\n",
              "</style>\n",
              "<table border=\"1\" class=\"dataframe\">\n",
              "  <thead>\n",
              "    <tr style=\"text-align: right;\">\n",
              "      <th></th>\n",
              "      <th>id</th>\n",
              "      <th>buy_time</th>\n",
              "      <th>0</th>\n",
              "      <th>1</th>\n",
              "      <th>2</th>\n",
              "      <th>3</th>\n",
              "      <th>4</th>\n",
              "      <th>5</th>\n",
              "      <th>6</th>\n",
              "      <th>7</th>\n",
              "      <th>...</th>\n",
              "      <th>243</th>\n",
              "      <th>244</th>\n",
              "      <th>245</th>\n",
              "      <th>246</th>\n",
              "      <th>247</th>\n",
              "      <th>248</th>\n",
              "      <th>249</th>\n",
              "      <th>250</th>\n",
              "      <th>251</th>\n",
              "      <th>252</th>\n",
              "    </tr>\n",
              "  </thead>\n",
              "  <tbody>\n",
              "    <tr>\n",
              "      <th>0</th>\n",
              "      <td>2013026</td>\n",
              "      <td>2018-07-15</td>\n",
              "      <td>18.910029</td>\n",
              "      <td>46.980888</td>\n",
              "      <td>4.969214</td>\n",
              "      <td>-1.386798</td>\n",
              "      <td>3.791754</td>\n",
              "      <td>-14.01179</td>\n",
              "      <td>-16.08618</td>\n",
              "      <td>-65.076097</td>\n",
              "      <td>...</td>\n",
              "      <td>-977.373846</td>\n",
              "      <td>-613.770792</td>\n",
              "      <td>-25.996269</td>\n",
              "      <td>-37.630448</td>\n",
              "      <td>-301.747724</td>\n",
              "      <td>-25.832889</td>\n",
              "      <td>-0.694428</td>\n",
              "      <td>-12.175933</td>\n",
              "      <td>-0.45614</td>\n",
              "      <td>0.0</td>\n",
              "    </tr>\n",
              "    <tr>\n",
              "      <th>1</th>\n",
              "      <td>2014722</td>\n",
              "      <td>2018-10-14</td>\n",
              "      <td>36.690029</td>\n",
              "      <td>152.400888</td>\n",
              "      <td>448.069214</td>\n",
              "      <td>563.833202</td>\n",
              "      <td>463.841754</td>\n",
              "      <td>568.99821</td>\n",
              "      <td>-16.08618</td>\n",
              "      <td>-53.216097</td>\n",
              "      <td>...</td>\n",
              "      <td>-891.373846</td>\n",
              "      <td>-544.770792</td>\n",
              "      <td>-20.996269</td>\n",
              "      <td>48.369552</td>\n",
              "      <td>80.252276</td>\n",
              "      <td>-13.832889</td>\n",
              "      <td>-0.694428</td>\n",
              "      <td>-1.175933</td>\n",
              "      <td>-0.45614</td>\n",
              "      <td>0.0</td>\n",
              "    </tr>\n",
              "    <tr>\n",
              "      <th>2</th>\n",
              "      <td>2015199</td>\n",
              "      <td>2018-12-23</td>\n",
              "      <td>-67.019971</td>\n",
              "      <td>157.050888</td>\n",
              "      <td>-63.180786</td>\n",
              "      <td>178.103202</td>\n",
              "      <td>-68.598246</td>\n",
              "      <td>156.99821</td>\n",
              "      <td>3.51382</td>\n",
              "      <td>25.183903</td>\n",
              "      <td>...</td>\n",
              "      <td>-977.373846</td>\n",
              "      <td>-613.770792</td>\n",
              "      <td>-12.996269</td>\n",
              "      <td>-37.630448</td>\n",
              "      <td>10829.252276</td>\n",
              "      <td>-25.832889</td>\n",
              "      <td>-0.694428</td>\n",
              "      <td>-12.175933</td>\n",
              "      <td>-0.45614</td>\n",
              "      <td>0.0</td>\n",
              "    </tr>\n",
              "  </tbody>\n",
              "</table>\n",
              "<p>3 rows × 250 columns</p>\n",
              "</div>\n",
              "      <button class=\"colab-df-convert\" onclick=\"convertToInteractive('df-5596d75f-2f76-495e-94dc-c1245997663f')\"\n",
              "              title=\"Convert this dataframe to an interactive table.\"\n",
              "              style=\"display:none;\">\n",
              "        \n",
              "  <svg xmlns=\"http://www.w3.org/2000/svg\" height=\"24px\"viewBox=\"0 0 24 24\"\n",
              "       width=\"24px\">\n",
              "    <path d=\"M0 0h24v24H0V0z\" fill=\"none\"/>\n",
              "    <path d=\"M18.56 5.44l.94 2.06.94-2.06 2.06-.94-2.06-.94-.94-2.06-.94 2.06-2.06.94zm-11 1L8.5 8.5l.94-2.06 2.06-.94-2.06-.94L8.5 2.5l-.94 2.06-2.06.94zm10 10l.94 2.06.94-2.06 2.06-.94-2.06-.94-.94-2.06-.94 2.06-2.06.94z\"/><path d=\"M17.41 7.96l-1.37-1.37c-.4-.4-.92-.59-1.43-.59-.52 0-1.04.2-1.43.59L10.3 9.45l-7.72 7.72c-.78.78-.78 2.05 0 2.83L4 21.41c.39.39.9.59 1.41.59.51 0 1.02-.2 1.41-.59l7.78-7.78 2.81-2.81c.8-.78.8-2.07 0-2.86zM5.41 20L4 18.59l7.72-7.72 1.47 1.35L5.41 20z\"/>\n",
              "  </svg>\n",
              "      </button>\n",
              "      \n",
              "  <style>\n",
              "    .colab-df-container {\n",
              "      display:flex;\n",
              "      flex-wrap:wrap;\n",
              "      gap: 12px;\n",
              "    }\n",
              "\n",
              "    .colab-df-convert {\n",
              "      background-color: #E8F0FE;\n",
              "      border: none;\n",
              "      border-radius: 50%;\n",
              "      cursor: pointer;\n",
              "      display: none;\n",
              "      fill: #1967D2;\n",
              "      height: 32px;\n",
              "      padding: 0 0 0 0;\n",
              "      width: 32px;\n",
              "    }\n",
              "\n",
              "    .colab-df-convert:hover {\n",
              "      background-color: #E2EBFA;\n",
              "      box-shadow: 0px 1px 2px rgba(60, 64, 67, 0.3), 0px 1px 3px 1px rgba(60, 64, 67, 0.15);\n",
              "      fill: #174EA6;\n",
              "    }\n",
              "\n",
              "    [theme=dark] .colab-df-convert {\n",
              "      background-color: #3B4455;\n",
              "      fill: #D2E3FC;\n",
              "    }\n",
              "\n",
              "    [theme=dark] .colab-df-convert:hover {\n",
              "      background-color: #434B5C;\n",
              "      box-shadow: 0px 1px 3px 1px rgba(0, 0, 0, 0.15);\n",
              "      filter: drop-shadow(0px 1px 2px rgba(0, 0, 0, 0.3));\n",
              "      fill: #FFFFFF;\n",
              "    }\n",
              "  </style>\n",
              "\n",
              "      <script>\n",
              "        const buttonEl =\n",
              "          document.querySelector('#df-5596d75f-2f76-495e-94dc-c1245997663f button.colab-df-convert');\n",
              "        buttonEl.style.display =\n",
              "          google.colab.kernel.accessAllowed ? 'block' : 'none';\n",
              "\n",
              "        async function convertToInteractive(key) {\n",
              "          const element = document.querySelector('#df-5596d75f-2f76-495e-94dc-c1245997663f');\n",
              "          const dataTable =\n",
              "            await google.colab.kernel.invokeFunction('convertToInteractive',\n",
              "                                                     [key], {});\n",
              "          if (!dataTable) return;\n",
              "\n",
              "          const docLinkHtml = 'Like what you see? Visit the ' +\n",
              "            '<a target=\"_blank\" href=https://colab.research.google.com/notebooks/data_table.ipynb>data table notebook</a>'\n",
              "            + ' to learn more about interactive tables.';\n",
              "          element.innerHTML = '';\n",
              "          dataTable['output_type'] = 'display_data';\n",
              "          await google.colab.output.renderOutput(dataTable, element);\n",
              "          const docLink = document.createElement('div');\n",
              "          docLink.innerHTML = docLinkHtml;\n",
              "          element.appendChild(docLink);\n",
              "        }\n",
              "      </script>\n",
              "    </div>\n",
              "  </div>\n",
              "  "
            ]
          },
          "metadata": {},
          "execution_count": 17
        }
      ]
    },
    {
      "cell_type": "markdown",
      "source": [
        "# **Обзор данных**"
      ],
      "metadata": {
        "id": "fBhkspgQz1xP"
      }
    },
    {
      "cell_type": "markdown",
      "source": [
        "**Проверка на пропуски**"
      ],
      "metadata": {
        "id": "Wj7sgBOs0FSN"
      }
    },
    {
      "cell_type": "code",
      "source": [
        "train.info()"
      ],
      "metadata": {
        "colab": {
          "base_uri": "https://localhost:8080/"
        },
        "id": "3rzhAWMa0KVt",
        "outputId": "1ad06260-fdb1-4651-f0f5-575221c6813c"
      },
      "execution_count": 18,
      "outputs": [
        {
          "output_type": "stream",
          "name": "stdout",
          "text": [
            "<class 'pandas.core.frame.DataFrame'>\n",
            "RangeIndex: 831653 entries, 0 to 831652\n",
            "Data columns (total 4 columns):\n",
            " #   Column    Non-Null Count   Dtype  \n",
            "---  ------    --------------   -----  \n",
            " 0   id        831653 non-null  int64  \n",
            " 1   vas_id    831653 non-null  float64\n",
            " 2   buy_time  831653 non-null  object \n",
            " 3   target    831653 non-null  float64\n",
            "dtypes: float64(2), int64(1), object(1)\n",
            "memory usage: 25.4+ MB\n"
          ]
        }
      ]
    },
    {
      "cell_type": "code",
      "source": [
        "test.info()"
      ],
      "metadata": {
        "colab": {
          "base_uri": "https://localhost:8080/"
        },
        "id": "XWxar5VA0Tz9",
        "outputId": "48633f01-a392-4141-b573-5063a5cfeede"
      },
      "execution_count": 19,
      "outputs": [
        {
          "output_type": "stream",
          "name": "stdout",
          "text": [
            "<class 'pandas.core.frame.DataFrame'>\n",
            "RangeIndex: 71231 entries, 0 to 71230\n",
            "Data columns (total 3 columns):\n",
            " #   Column    Non-Null Count  Dtype  \n",
            "---  ------    --------------  -----  \n",
            " 0   id        71231 non-null  int64  \n",
            " 1   vas_id    71231 non-null  float64\n",
            " 2   buy_time  71231 non-null  object \n",
            "dtypes: float64(1), int64(1), object(1)\n",
            "memory usage: 1.6+ MB\n"
          ]
        }
      ]
    },
    {
      "cell_type": "code",
      "source": [
        "features.isnull().values.any()"
      ],
      "metadata": {
        "colab": {
          "base_uri": "https://localhost:8080/"
        },
        "id": "KO7WjD_c0Xa-",
        "outputId": "6eef04fa-1b27-418a-c1c6-138ff81f0cda"
      },
      "execution_count": 20,
      "outputs": [
        {
          "output_type": "execute_result",
          "data": {
            "text/plain": [
              "False"
            ]
          },
          "metadata": {},
          "execution_count": 20
        }
      ]
    },
    {
      "cell_type": "markdown",
      "source": [
        "**Датасеты не содержат пропусков**"
      ],
      "metadata": {
        "id": "s_gJaE8_0aI1"
      }
    },
    {
      "cell_type": "markdown",
      "source": [
        "# **Распределения**"
      ],
      "metadata": {
        "id": "0CJ6l-Kv0e4H"
      }
    },
    {
      "cell_type": "markdown",
      "source": [
        "**Распределение целевой переменной target**"
      ],
      "metadata": {
        "id": "J9VkiLOG0iaO"
      }
    },
    {
      "cell_type": "code",
      "source": [
        "train['target'].plot(kind='hist',bins=20);"
      ],
      "metadata": {
        "colab": {
          "base_uri": "https://localhost:8080/",
          "height": 431
        },
        "id": "KUfQZ_Gt0lDO",
        "outputId": "7cd92c52-9243-4782-ecff-9067e8a82979"
      },
      "execution_count": 21,
      "outputs": [
        {
          "output_type": "display_data",
          "data": {
            "text/plain": [
              "<Figure size 640x480 with 1 Axes>"
            ],
            "image/png": "[encoded data removed]"
          },
          "metadata": {}
        }
      ]
    },
    {
      "cell_type": "markdown",
      "source": [
        "**Вывод:** Целевая переменна несбалансированна."
      ],
      "metadata": {
        "id": "D5vHm6FS0oh-"
      }
    },
    {
      "cell_type": "markdown",
      "source": [
        "**Распределение признака vas_id**"
      ],
      "metadata": {
        "id": "YArYN8DC0unY"
      }
    },
    {
      "cell_type": "code",
      "source": [
        "train['vas_id'].nunique(), np.min(train['vas_id']), np.max(train['vas_id'])"
      ],
      "metadata": {
        "colab": {
          "base_uri": "https://localhost:8080/"
        },
        "id": "oYlZlYcx0x6K",
        "outputId": "733740c4-e92a-443e-b124-bae84ca7835d"
      },
      "execution_count": 22,
      "outputs": [
        {
          "output_type": "execute_result",
          "data": {
            "text/plain": [
              "(8, 1.0, 9.0)"
            ]
          },
          "metadata": {},
          "execution_count": 22
        }
      ]
    },
    {
      "cell_type": "code",
      "source": [
        "train['vas_id'].plot(kind='hist',bins=20);"
      ],
      "metadata": {
        "colab": {
          "base_uri": "https://localhost:8080/",
          "height": 430
        },
        "id": "lFHsIxxm005h",
        "outputId": "4ebaff09-2c0e-4610-845c-cb0e72d74286"
      },
      "execution_count": 23,
      "outputs": [
        {
          "output_type": "display_data",
          "data": {
            "text/plain": [
              "<Figure size 640x480 with 1 Axes>"
            ],
            "image/png": "[encoded data removed]"
          },
          "metadata": {}
        }
      ]
    },
    {
      "cell_type": "markdown",
      "source": [
        "**Вывод:** 8 услуг с номерами от 1 до 9. Услуга под цифрой 3 отсутствует."
      ],
      "metadata": {
        "id": "-i5onjgz04hA"
      }
    },
    {
      "cell_type": "code",
      "source": [
        "test['vas_id'].nunique(), np.min(test['vas_id']), np.max(test['vas_id'])"
      ],
      "metadata": {
        "colab": {
          "base_uri": "https://localhost:8080/"
        },
        "id": "4scbPx5_09xH",
        "outputId": "4775034c-7757-46c9-c655-7dcd84513ea2"
      },
      "execution_count": 24,
      "outputs": [
        {
          "output_type": "execute_result",
          "data": {
            "text/plain": [
              "(8, 1.0, 9.0)"
            ]
          },
          "metadata": {},
          "execution_count": 24
        }
      ]
    },
    {
      "cell_type": "code",
      "source": [
        "test['vas_id'].plot(kind='hist',bins=20);"
      ],
      "metadata": {
        "colab": {
          "base_uri": "https://localhost:8080/",
          "height": 430
        },
        "id": "F3jaYZyp1AIA",
        "outputId": "2e94164c-d2af-481c-8925-7639c7f219ec"
      },
      "execution_count": 25,
      "outputs": [
        {
          "output_type": "display_data",
          "data": {
            "text/plain": [
              "<Figure size 640x480 with 1 Axes>"
            ],
            "image/png": "[encoded data removed]"
          },
          "metadata": {}
        }
      ]
    },
    {
      "cell_type": "markdown",
      "source": [
        "**Вывод:** Распределение подключённых услуг на трейне и тесте различаются."
      ],
      "metadata": {
        "id": "pQONooja1CU4"
      }
    },
    {
      "cell_type": "markdown",
      "source": [
        "# **Диапазоны дат трейна и теста**"
      ],
      "metadata": {
        "id": "PlncRg4I1GKz"
      }
    },
    {
      "cell_type": "code",
      "source": [
        "np.min(train['buy_time']), np.max(train['buy_time'])"
      ],
      "metadata": {
        "colab": {
          "base_uri": "https://localhost:8080/"
        },
        "id": "5YwRROCm1LV6",
        "outputId": "b3e7f852-c11d-4f42-c32b-8978d996b703"
      },
      "execution_count": 26,
      "outputs": [
        {
          "output_type": "execute_result",
          "data": {
            "text/plain": [
              "(datetime.date(2018, 7, 8), datetime.date(2018, 12, 30))"
            ]
          },
          "metadata": {},
          "execution_count": 26
        }
      ]
    },
    {
      "cell_type": "code",
      "source": [
        "np.min(test['buy_time']), np.max(test['buy_time'])"
      ],
      "metadata": {
        "colab": {
          "base_uri": "https://localhost:8080/"
        },
        "id": "DIHUeHVl1Naq",
        "outputId": "f23a2cef-6efd-4199-e254-ec64669c7862"
      },
      "execution_count": 27,
      "outputs": [
        {
          "output_type": "execute_result",
          "data": {
            "text/plain": [
              "(datetime.date(2019, 1, 6), datetime.date(2019, 1, 20))"
            ]
          },
          "metadata": {},
          "execution_count": 27
        }
      ]
    },
    {
      "cell_type": "markdown",
      "source": [
        "**Train:** 8 июля 2018 г - 30 декабря 2018 г.\n",
        "\n",
        "**Test:** 6 января 2019 г - 20 января 2019 г."
      ],
      "metadata": {
        "id": "62DgqdKg1YAB"
      }
    },
    {
      "cell_type": "markdown",
      "source": [
        "**Распределение id абонентов**"
      ],
      "metadata": {
        "id": "r1CsLaza2TLo"
      }
    },
    {
      "cell_type": "code",
      "source": [
        "print('Кол-во уникальных:', train['id'].nunique(), 'Мин:', np.min(train['id']), 'Макс:', np.max(train['id']))"
      ],
      "metadata": {
        "colab": {
          "base_uri": "https://localhost:8080/"
        },
        "id": "K3DbtMV82Qkp",
        "outputId": "8dde94e0-1146-4456-c31d-67742c87ca4e"
      },
      "execution_count": 28,
      "outputs": [
        {
          "output_type": "stream",
          "name": "stdout",
          "text": [
            "Кол-во уникальных: 806613 Мин: 2 Макс: 4362694\n"
          ]
        }
      ]
    },
    {
      "cell_type": "code",
      "source": [
        "print('Кол-во уникальных:', test['id'].nunique(), 'Мин:', np.min(test['id']), 'Макс:', np.max(test['id']))"
      ],
      "metadata": {
        "colab": {
          "base_uri": "https://localhost:8080/"
        },
        "id": "X2sasseF2gEI",
        "outputId": "66880fb6-8506-4038-d890-f670c90a77ac"
      },
      "execution_count": 29,
      "outputs": [
        {
          "output_type": "stream",
          "name": "stdout",
          "text": [
            "Кол-во уникальных: 70152 Мин: 55 Макс: 4362720\n"
          ]
        }
      ]
    },
    {
      "cell_type": "code",
      "source": [
        "features['id'].nunique(), np.min(features['id']), np.max(features['id'])"
      ],
      "metadata": {
        "colab": {
          "base_uri": "https://localhost:8080/"
        },
        "id": "jP0pRqqq2jez",
        "outputId": "3e380523-dc2b-48a4-c0dd-2bcbc91b91c8"
      },
      "execution_count": 30,
      "outputs": [
        {
          "output_type": "execute_result",
          "data": {
            "text/plain": [
              "(225287, 10, 4362728)"
            ]
          },
          "metadata": {},
          "execution_count": 30
        }
      ]
    },
    {
      "cell_type": "markdown",
      "source": [
        "**В датасете features содержатся данные по 225 тыс. 287 пользователям. Датасет features представлен ОДНОЙ СТРОКОЙ данных на ОДНОГО ПОЛЬЗОВАТЕЛЯ.**\n",
        "\n",
        "**В train и test представлены подвыборки из 806 тыc. и 70 тыс. пользователей соответственно. Причём пользователи в выборка выборочные, не подряд.**"
      ],
      "metadata": {
        "id": "qjxPUJAT2rPx"
      }
    },
    {
      "cell_type": "code",
      "source": [
        "sns.displot(train, x='id');"
      ],
      "metadata": {
        "colab": {
          "base_uri": "https://localhost:8080/",
          "height": 506
        },
        "id": "JzST0iDA4IS_",
        "outputId": "40cfd9aa-a568-4868-d4c4-e8348d8fec2c"
      },
      "execution_count": 31,
      "outputs": [
        {
          "output_type": "display_data",
          "data": {
            "text/plain": [
              "<Figure size 500x500 with 1 Axes>"
            ],
            "image/png": "[encoded data removed]"
          },
          "metadata": {}
        }
      ]
    },
    {
      "cell_type": "code",
      "source": [
        "sns.displot(test, x='id');"
      ],
      "metadata": {
        "colab": {
          "base_uri": "https://localhost:8080/",
          "height": 506
        },
        "id": "6aHEU0DF4L5O",
        "outputId": "51aac673-dfc3-4482-f038-aff086041fe8"
      },
      "execution_count": 32,
      "outputs": [
        {
          "output_type": "display_data",
          "data": {
            "text/plain": [
              "<Figure size 500x500 with 1 Axes>"
            ],
            "image/png": "[encoded data removed]"
          },
          "metadata": {}
        }
      ]
    },
    {
      "cell_type": "code",
      "source": [
        "sns.displot(features, x='id');"
      ],
      "metadata": {
        "colab": {
          "base_uri": "https://localhost:8080/",
          "height": 506
        },
        "id": "CoxpcGxc4OE2",
        "outputId": "e8a0a669-f115-49cc-eff8-3319dd62a263"
      },
      "execution_count": 33,
      "outputs": [
        {
          "output_type": "display_data",
          "data": {
            "text/plain": [
              "<Figure size 500x500 with 1 Axes>"
            ],
            "image/png": "[encoded data removed]"
          },
          "metadata": {}
        }
      ]
    },
    {
      "cell_type": "markdown",
      "source": [
        "**Распределение id пользователей трейна и теста скошенное. Это говорит о том, что количество новых пользователей со временем уменьшается. Но на датасете features такой закономерности не наблюдается.**"
      ],
      "metadata": {
        "id": "INeIxRDd4Qcf"
      }
    },
    {
      "cell_type": "markdown",
      "source": [
        "Плот корреляций строится 2 мин!"
      ],
      "metadata": {
        "id": "P0qrqYjq4Vee"
      }
    },
    {
      "cell_type": "code",
      "source": [
        "plt, ax = plt.subplots(figsize=(12, 10))\n",
        "sns.heatmap(features.corr(),ax=ax);"
      ],
      "metadata": {
        "colab": {
          "base_uri": "https://localhost:8080/",
          "height": 833
        },
        "id": "HJIIkFEJ4X__",
        "outputId": "9b535f25-b24c-48d9-e828-a477947037eb"
      },
      "execution_count": 34,
      "outputs": [
        {
          "output_type": "display_data",
          "data": {
            "text/plain": [
              "<Figure size 1200x1000 with 2 Axes>"
            ],
            "image/png": "[encoded data removed]"
          },
          "metadata": {}
        }
      ]
    },
    {
      "cell_type": "markdown",
      "source": [
        "# **Поиск дубликатов id**"
      ],
      "metadata": {
        "id": "-Ct3aHX_4bcv"
      }
    },
    {
      "cell_type": "code",
      "source": [
        "train.duplicated(subset=['id']).value_counts()"
      ],
      "metadata": {
        "colab": {
          "base_uri": "https://localhost:8080/"
        },
        "id": "uPsrac084fuI",
        "outputId": "3b606f7e-dbb3-4471-edd9-57f32f3d1b4f"
      },
      "execution_count": 35,
      "outputs": [
        {
          "output_type": "execute_result",
          "data": {
            "text/plain": [
              "False    806613\n",
              "True      25040\n",
              "dtype: int64"
            ]
          },
          "metadata": {},
          "execution_count": 35
        }
      ]
    },
    {
      "cell_type": "code",
      "source": [
        "test.duplicated(subset=['id']).value_counts()"
      ],
      "metadata": {
        "colab": {
          "base_uri": "https://localhost:8080/"
        },
        "id": "IlZigfvo4hDp",
        "outputId": "8fc19464-c2bc-4eef-d9e7-a5cf6acd3324"
      },
      "execution_count": 36,
      "outputs": [
        {
          "output_type": "execute_result",
          "data": {
            "text/plain": [
              "False    70152\n",
              "True      1079\n",
              "dtype: int64"
            ]
          },
          "metadata": {},
          "execution_count": 36
        }
      ]
    },
    {
      "cell_type": "code",
      "source": [
        "features.duplicated(subset=['id']).value_counts()"
      ],
      "metadata": {
        "colab": {
          "base_uri": "https://localhost:8080/"
        },
        "id": "IfuQV2yq4iUo",
        "outputId": "df95b663-510f-477f-a008-84dff93df975"
      },
      "execution_count": 37,
      "outputs": [
        {
          "output_type": "execute_result",
          "data": {
            "text/plain": [
              "False    225287\n",
              "True        339\n",
              "dtype: int64"
            ]
          },
          "metadata": {},
          "execution_count": 37
        }
      ]
    },
    {
      "cell_type": "code",
      "source": [
        "ids = train[\"id\"]\n",
        "train[ids.isin(ids[ids.duplicated()])].sort_values('id')"
      ],
      "metadata": {
        "colab": {
          "base_uri": "https://localhost:8080/",
          "height": 424
        },
        "id": "OnoaGZxV4ju4",
        "outputId": "c99420ba-ac93-400a-a921-1b47b43397b3"
      },
      "execution_count": 38,
      "outputs": [
        {
          "output_type": "execute_result",
          "data": {
            "text/plain": [
              "             id  vas_id    buy_time  target\n",
              "14042       342     2.0  2018-11-18     1.0\n",
              "14041       342     1.0  2018-11-04     0.0\n",
              "19825       492     6.0  2018-12-16     1.0\n",
              "19824       492     4.0  2018-10-07     0.0\n",
              "22908       579     4.0  2018-11-18     1.0\n",
              "...         ...     ...         ...     ...\n",
              "751154  4339012     2.0  2018-11-18     1.0\n",
              "248700  4347691     4.0  2018-11-25     0.0\n",
              "248701  4347691     6.0  2018-11-18     1.0\n",
              "366175  4350615     2.0  2018-12-09     1.0\n",
              "366174  4350615     1.0  2018-07-22     0.0\n",
              "\n",
              "[50042 rows x 4 columns]"
            ],
            "text/html": [
              "\n",
              "  <div id=\"df-82d6e33b-0458-4c7f-a63f-d47bd5ca1c1c\">\n",
              "    <div class=\"colab-df-container\">\n",
              "      <div>\n",
              "<style scoped>\n",
              "    .dataframe tbody tr th:only-of-type {\n",
              "        vertical-align: middle;\n",
              "    }\n",
              "\n",
              "    .dataframe tbody tr th {\n",
              "        vertical-align: top;\n",
              "    }\n",
              "\n",
              "    .dataframe thead th {\n",
              "        text-align: right;\n",
              "    }\n",
              "</style>\n",
              "<table border=\"1\" class=\"dataframe\">\n",
              "  <thead>\n",
              "    <tr style=\"text-align: right;\">\n",
              "      <th></th>\n",
              "      <th>id</th>\n",
              "      <th>vas_id</th>\n",
              "      <th>buy_time</th>\n",
              "      <th>target</th>\n",
              "    </tr>\n",
              "  </thead>\n",
              "  <tbody>\n",
              "    <tr>\n",
              "      <th>14042</th>\n",
              "      <td>342</td>\n",
              "      <td>2.0</td>\n",
              "      <td>2018-11-18</td>\n",
              "      <td>1.0</td>\n",
              "    </tr>\n",
              "    <tr>\n",
              "      <th>14041</th>\n",
              "      <td>342</td>\n",
              "      <td>1.0</td>\n",
              "      <td>2018-11-04</td>\n",
              "      <td>0.0</td>\n",
              "    </tr>\n",
              "    <tr>\n",
              "      <th>19825</th>\n",
              "      <td>492</td>\n",
              "      <td>6.0</td>\n",
              "      <td>2018-12-16</td>\n",
              "      <td>1.0</td>\n",
              "    </tr>\n",
              "    <tr>\n",
              "      <th>19824</th>\n",
              "      <td>492</td>\n",
              "      <td>4.0</td>\n",
              "      <td>2018-10-07</td>\n",
              "      <td>0.0</td>\n",
              "    </tr>\n",
              "    <tr>\n",
              "      <th>22908</th>\n",
              "      <td>579</td>\n",
              "      <td>4.0</td>\n",
              "      <td>2018-11-18</td>\n",
              "      <td>1.0</td>\n",
              "    </tr>\n",
              "    <tr>\n",
              "      <th>...</th>\n",
              "      <td>...</td>\n",
              "      <td>...</td>\n",
              "      <td>...</td>\n",
              "      <td>...</td>\n",
              "    </tr>\n",
              "    <tr>\n",
              "      <th>751154</th>\n",
              "      <td>4339012</td>\n",
              "      <td>2.0</td>\n",
              "      <td>2018-11-18</td>\n",
              "      <td>1.0</td>\n",
              "    </tr>\n",
              "    <tr>\n",
              "      <th>248700</th>\n",
              "      <td>4347691</td>\n",
              "      <td>4.0</td>\n",
              "      <td>2018-11-25</td>\n",
              "      <td>0.0</td>\n",
              "    </tr>\n",
              "    <tr>\n",
              "      <th>248701</th>\n",
              "      <td>4347691</td>\n",
              "      <td>6.0</td>\n",
              "      <td>2018-11-18</td>\n",
              "      <td>1.0</td>\n",
              "    </tr>\n",
              "    <tr>\n",
              "      <th>366175</th>\n",
              "      <td>4350615</td>\n",
              "      <td>2.0</td>\n",
              "      <td>2018-12-09</td>\n",
              "      <td>1.0</td>\n",
              "    </tr>\n",
              "    <tr>\n",
              "      <th>366174</th>\n",
              "      <td>4350615</td>\n",
              "      <td>1.0</td>\n",
              "      <td>2018-07-22</td>\n",
              "      <td>0.0</td>\n",
              "    </tr>\n",
              "  </tbody>\n",
              "</table>\n",
              "<p>50042 rows × 4 columns</p>\n",
              "</div>\n",
              "      <button class=\"colab-df-convert\" onclick=\"convertToInteractive('df-82d6e33b-0458-4c7f-a63f-d47bd5ca1c1c')\"\n",
              "              title=\"Convert this dataframe to an interactive table.\"\n",
              "              style=\"display:none;\">\n",
              "        \n",
              "  <svg xmlns=\"http://www.w3.org/2000/svg\" height=\"24px\"viewBox=\"0 0 24 24\"\n",
              "       width=\"24px\">\n",
              "    <path d=\"M0 0h24v24H0V0z\" fill=\"none\"/>\n",
              "    <path d=\"M18.56 5.44l.94 2.06.94-2.06 2.06-.94-2.06-.94-.94-2.06-.94 2.06-2.06.94zm-11 1L8.5 8.5l.94-2.06 2.06-.94-2.06-.94L8.5 2.5l-.94 2.06-2.06.94zm10 10l.94 2.06.94-2.06 2.06-.94-2.06-.94-.94-2.06-.94 2.06-2.06.94z\"/><path d=\"M17.41 7.96l-1.37-1.37c-.4-.4-.92-.59-1.43-.59-.52 0-1.04.2-1.43.59L10.3 9.45l-7.72 7.72c-.78.78-.78 2.05 0 2.83L4 21.41c.39.39.9.59 1.41.59.51 0 1.02-.2 1.41-.59l7.78-7.78 2.81-2.81c.8-.78.8-2.07 0-2.86zM5.41 20L4 18.59l7.72-7.72 1.47 1.35L5.41 20z\"/>\n",
              "  </svg>\n",
              "      </button>\n",
              "      \n",
              "  <style>\n",
              "    .colab-df-container {\n",
              "      display:flex;\n",
              "      flex-wrap:wrap;\n",
              "      gap: 12px;\n",
              "    }\n",
              "\n",
              "    .colab-df-convert {\n",
              "      background-color: #E8F0FE;\n",
              "      border: none;\n",
              "      border-radius: 50%;\n",
              "      cursor: pointer;\n",
              "      display: none;\n",
              "      fill: #1967D2;\n",
              "      height: 32px;\n",
              "      padding: 0 0 0 0;\n",
              "      width: 32px;\n",
              "    }\n",
              "\n",
              "    .colab-df-convert:hover {\n",
              "      background-color: #E2EBFA;\n",
              "      box-shadow: 0px 1px 2px rgba(60, 64, 67, 0.3), 0px 1px 3px 1px rgba(60, 64, 67, 0.15);\n",
              "      fill: #174EA6;\n",
              "    }\n",
              "\n",
              "    [theme=dark] .colab-df-convert {\n",
              "      background-color: #3B4455;\n",
              "      fill: #D2E3FC;\n",
              "    }\n",
              "\n",
              "    [theme=dark] .colab-df-convert:hover {\n",
              "      background-color: #434B5C;\n",
              "      box-shadow: 0px 1px 3px 1px rgba(0, 0, 0, 0.15);\n",
              "      filter: drop-shadow(0px 1px 2px rgba(0, 0, 0, 0.3));\n",
              "      fill: #FFFFFF;\n",
              "    }\n",
              "  </style>\n",
              "\n",
              "      <script>\n",
              "        const buttonEl =\n",
              "          document.querySelector('#df-82d6e33b-0458-4c7f-a63f-d47bd5ca1c1c button.colab-df-convert');\n",
              "        buttonEl.style.display =\n",
              "          google.colab.kernel.accessAllowed ? 'block' : 'none';\n",
              "\n",
              "        async function convertToInteractive(key) {\n",
              "          const element = document.querySelector('#df-82d6e33b-0458-4c7f-a63f-d47bd5ca1c1c');\n",
              "          const dataTable =\n",
              "            await google.colab.kernel.invokeFunction('convertToInteractive',\n",
              "                                                     [key], {});\n",
              "          if (!dataTable) return;\n",
              "\n",
              "          const docLinkHtml = 'Like what you see? Visit the ' +\n",
              "            '<a target=\"_blank\" href=https://colab.research.google.com/notebooks/data_table.ipynb>data table notebook</a>'\n",
              "            + ' to learn more about interactive tables.';\n",
              "          element.innerHTML = '';\n",
              "          dataTable['output_type'] = 'display_data';\n",
              "          await google.colab.output.renderOutput(dataTable, element);\n",
              "          const docLink = document.createElement('div');\n",
              "          docLink.innerHTML = docLinkHtml;\n",
              "          element.appendChild(docLink);\n",
              "        }\n",
              "      </script>\n",
              "    </div>\n",
              "  </div>\n",
              "  "
            ]
          },
          "metadata": {},
          "execution_count": 38
        }
      ]
    },
    {
      "cell_type": "code",
      "source": [
        "print(\"ID уникален? \", train['id'].is_unique)\n",
        "print(\"Есть ли дубли в строках?\", train['id'].duplicated().sum())\n",
        "print(\"Сколько процент признаков могут принимать null-значениями? %d%%\" % float((train['id'].isnull().sum() > 0).sum()/len(train['id'])*100))"
      ],
      "metadata": {
        "colab": {
          "base_uri": "https://localhost:8080/"
        },
        "id": "Gv4Za-3y4m7L",
        "outputId": "0d6869a8-8ad2-431a-d27c-22b789d2ec43"
      },
      "execution_count": 39,
      "outputs": [
        {
          "output_type": "stream",
          "name": "stdout",
          "text": [
            "ID уникален?  False\n",
            "Есть ли дубли в строках? 25040\n",
            "Сколько процент признаков могут принимать null-значениями? 0%\n"
          ]
        }
      ]
    },
    {
      "cell_type": "markdown",
      "source": [
        "# **Сохраняем в pkl**"
      ],
      "metadata": {
        "id": "_Errpp_84-rS"
      }
    },
    {
      "cell_type": "code",
      "source": [
        "train.to_pickle(path.joinpath('train.pkl'))"
      ],
      "metadata": {
        "id": "H2uenyr55CuS"
      },
      "execution_count": 40,
      "outputs": []
    },
    {
      "cell_type": "code",
      "source": [
        "test.to_pickle(path.joinpath('test.pkl'))"
      ],
      "metadata": {
        "id": "Xe3z-7305EXo"
      },
      "execution_count": 41,
      "outputs": []
    },
    {
      "cell_type": "code",
      "source": [
        "features.to_pickle(path.joinpath('features.pkl'))"
      ],
      "metadata": {
        "id": "cdPdLkD95LDq"
      },
      "execution_count": 42,
      "outputs": []
    },
    {
      "cell_type": "markdown",
      "source": [
        "# **Загружаем из pkl**"
      ],
      "metadata": {
        "id": "_XElhYtV5OBp"
      }
    },
    {
      "cell_type": "code",
      "source": [
        "train = pd.read_pickle(path.joinpath('train.pkl'))"
      ],
      "metadata": {
        "id": "FRRI_l5L5TMa"
      },
      "execution_count": 43,
      "outputs": []
    },
    {
      "cell_type": "code",
      "source": [
        "test = pd.read_pickle(path.joinpath('test.pkl'))"
      ],
      "metadata": {
        "id": "rsUmjzns5VGS"
      },
      "execution_count": 44,
      "outputs": []
    },
    {
      "cell_type": "code",
      "source": [
        "features = pd.read_pickle(path.joinpath('features.pkl'))"
      ],
      "metadata": {
        "id": "4Pw26BYZ5W2z"
      },
      "execution_count": 45,
      "outputs": []
    },
    {
      "cell_type": "markdown",
      "source": [
        "# **Исследование повторяющихся id**"
      ],
      "metadata": {
        "id": "44huNJKC5ZZD"
      }
    },
    {
      "cell_type": "code",
      "source": [
        "features.head(3)"
      ],
      "metadata": {
        "colab": {
          "base_uri": "https://localhost:8080/",
          "height": 289
        },
        "id": "DqGZLXGO5cvL",
        "outputId": "c4ada0f6-1038-4665-c71a-7ff3772cc6fb"
      },
      "execution_count": 46,
      "outputs": [
        {
          "output_type": "execute_result",
          "data": {
            "text/plain": [
              "        id    buy_time          0           1           2           3  \\\n",
              "0  2013026  2018-07-15  18.910029   46.980888    4.969214   -1.386798   \n",
              "1  2014722  2018-10-14  36.690029  152.400888  448.069214  563.833202   \n",
              "2  2015199  2018-12-23 -67.019971  157.050888  -63.180786  178.103202   \n",
              "\n",
              "            4          5         6          7  ...         243         244  \\\n",
              "0    3.791754  -14.01179 -16.08618 -65.076097  ... -977.373846 -613.770792   \n",
              "1  463.841754  568.99821 -16.08618 -53.216097  ... -891.373846 -544.770792   \n",
              "2  -68.598246  156.99821   3.51382  25.183903  ... -977.373846 -613.770792   \n",
              "\n",
              "         245        246           247        248       249        250  \\\n",
              "0 -25.996269 -37.630448   -301.747724 -25.832889 -0.694428 -12.175933   \n",
              "1 -20.996269  48.369552     80.252276 -13.832889 -0.694428  -1.175933   \n",
              "2 -12.996269 -37.630448  10829.252276 -25.832889 -0.694428 -12.175933   \n",
              "\n",
              "       251  252  \n",
              "0 -0.45614  0.0  \n",
              "1 -0.45614  0.0  \n",
              "2 -0.45614  0.0  \n",
              "\n",
              "[3 rows x 250 columns]"
            ],
            "text/html": [
              "\n",
              "  <div id=\"df-1596c64f-3d39-4be5-9c8e-15048ef6179b\">\n",
              "    <div class=\"colab-df-container\">\n",
              "      <div>\n",
              "<style scoped>\n",
              "    .dataframe tbody tr th:only-of-type {\n",
              "        vertical-align: middle;\n",
              "    }\n",
              "\n",
              "    .dataframe tbody tr th {\n",
              "        vertical-align: top;\n",
              "    }\n",
              "\n",
              "    .dataframe thead th {\n",
              "        text-align: right;\n",
              "    }\n",
              "</style>\n",
              "<table border=\"1\" class=\"dataframe\">\n",
              "  <thead>\n",
              "    <tr style=\"text-align: right;\">\n",
              "      <th></th>\n",
              "      <th>id</th>\n",
              "      <th>buy_time</th>\n",
              "      <th>0</th>\n",
              "      <th>1</th>\n",
              "      <th>2</th>\n",
              "      <th>3</th>\n",
              "      <th>4</th>\n",
              "      <th>5</th>\n",
              "      <th>6</th>\n",
              "      <th>7</th>\n",
              "      <th>...</th>\n",
              "      <th>243</th>\n",
              "      <th>244</th>\n",
              "      <th>245</th>\n",
              "      <th>246</th>\n",
              "      <th>247</th>\n",
              "      <th>248</th>\n",
              "      <th>249</th>\n",
              "      <th>250</th>\n",
              "      <th>251</th>\n",
              "      <th>252</th>\n",
              "    </tr>\n",
              "  </thead>\n",
              "  <tbody>\n",
              "    <tr>\n",
              "      <th>0</th>\n",
              "      <td>2013026</td>\n",
              "      <td>2018-07-15</td>\n",
              "      <td>18.910029</td>\n",
              "      <td>46.980888</td>\n",
              "      <td>4.969214</td>\n",
              "      <td>-1.386798</td>\n",
              "      <td>3.791754</td>\n",
              "      <td>-14.01179</td>\n",
              "      <td>-16.08618</td>\n",
              "      <td>-65.076097</td>\n",
              "      <td>...</td>\n",
              "      <td>-977.373846</td>\n",
              "      <td>-613.770792</td>\n",
              "      <td>-25.996269</td>\n",
              "      <td>-37.630448</td>\n",
              "      <td>-301.747724</td>\n",
              "      <td>-25.832889</td>\n",
              "      <td>-0.694428</td>\n",
              "      <td>-12.175933</td>\n",
              "      <td>-0.45614</td>\n",
              "      <td>0.0</td>\n",
              "    </tr>\n",
              "    <tr>\n",
              "      <th>1</th>\n",
              "      <td>2014722</td>\n",
              "      <td>2018-10-14</td>\n",
              "      <td>36.690029</td>\n",
              "      <td>152.400888</td>\n",
              "      <td>448.069214</td>\n",
              "      <td>563.833202</td>\n",
              "      <td>463.841754</td>\n",
              "      <td>568.99821</td>\n",
              "      <td>-16.08618</td>\n",
              "      <td>-53.216097</td>\n",
              "      <td>...</td>\n",
              "      <td>-891.373846</td>\n",
              "      <td>-544.770792</td>\n",
              "      <td>-20.996269</td>\n",
              "      <td>48.369552</td>\n",
              "      <td>80.252276</td>\n",
              "      <td>-13.832889</td>\n",
              "      <td>-0.694428</td>\n",
              "      <td>-1.175933</td>\n",
              "      <td>-0.45614</td>\n",
              "      <td>0.0</td>\n",
              "    </tr>\n",
              "    <tr>\n",
              "      <th>2</th>\n",
              "      <td>2015199</td>\n",
              "      <td>2018-12-23</td>\n",
              "      <td>-67.019971</td>\n",
              "      <td>157.050888</td>\n",
              "      <td>-63.180786</td>\n",
              "      <td>178.103202</td>\n",
              "      <td>-68.598246</td>\n",
              "      <td>156.99821</td>\n",
              "      <td>3.51382</td>\n",
              "      <td>25.183903</td>\n",
              "      <td>...</td>\n",
              "      <td>-977.373846</td>\n",
              "      <td>-613.770792</td>\n",
              "      <td>-12.996269</td>\n",
              "      <td>-37.630448</td>\n",
              "      <td>10829.252276</td>\n",
              "      <td>-25.832889</td>\n",
              "      <td>-0.694428</td>\n",
              "      <td>-12.175933</td>\n",
              "      <td>-0.45614</td>\n",
              "      <td>0.0</td>\n",
              "    </tr>\n",
              "  </tbody>\n",
              "</table>\n",
              "<p>3 rows × 250 columns</p>\n",
              "</div>\n",
              "      <button class=\"colab-df-convert\" onclick=\"convertToInteractive('df-1596c64f-3d39-4be5-9c8e-15048ef6179b')\"\n",
              "              title=\"Convert this dataframe to an interactive table.\"\n",
              "              style=\"display:none;\">\n",
              "        \n",
              "  <svg xmlns=\"http://www.w3.org/2000/svg\" height=\"24px\"viewBox=\"0 0 24 24\"\n",
              "       width=\"24px\">\n",
              "    <path d=\"M0 0h24v24H0V0z\" fill=\"none\"/>\n",
              "    <path d=\"M18.56 5.44l.94 2.06.94-2.06 2.06-.94-2.06-.94-.94-2.06-.94 2.06-2.06.94zm-11 1L8.5 8.5l.94-2.06 2.06-.94-2.06-.94L8.5 2.5l-.94 2.06-2.06.94zm10 10l.94 2.06.94-2.06 2.06-.94-2.06-.94-.94-2.06-.94 2.06-2.06.94z\"/><path d=\"M17.41 7.96l-1.37-1.37c-.4-.4-.92-.59-1.43-.59-.52 0-1.04.2-1.43.59L10.3 9.45l-7.72 7.72c-.78.78-.78 2.05 0 2.83L4 21.41c.39.39.9.59 1.41.59.51 0 1.02-.2 1.41-.59l7.78-7.78 2.81-2.81c.8-.78.8-2.07 0-2.86zM5.41 20L4 18.59l7.72-7.72 1.47 1.35L5.41 20z\"/>\n",
              "  </svg>\n",
              "      </button>\n",
              "      \n",
              "  <style>\n",
              "    .colab-df-container {\n",
              "      display:flex;\n",
              "      flex-wrap:wrap;\n",
              "      gap: 12px;\n",
              "    }\n",
              "\n",
              "    .colab-df-convert {\n",
              "      background-color: #E8F0FE;\n",
              "      border: none;\n",
              "      border-radius: 50%;\n",
              "      cursor: pointer;\n",
              "      display: none;\n",
              "      fill: #1967D2;\n",
              "      height: 32px;\n",
              "      padding: 0 0 0 0;\n",
              "      width: 32px;\n",
              "    }\n",
              "\n",
              "    .colab-df-convert:hover {\n",
              "      background-color: #E2EBFA;\n",
              "      box-shadow: 0px 1px 2px rgba(60, 64, 67, 0.3), 0px 1px 3px 1px rgba(60, 64, 67, 0.15);\n",
              "      fill: #174EA6;\n",
              "    }\n",
              "\n",
              "    [theme=dark] .colab-df-convert {\n",
              "      background-color: #3B4455;\n",
              "      fill: #D2E3FC;\n",
              "    }\n",
              "\n",
              "    [theme=dark] .colab-df-convert:hover {\n",
              "      background-color: #434B5C;\n",
              "      box-shadow: 0px 1px 3px 1px rgba(0, 0, 0, 0.15);\n",
              "      filter: drop-shadow(0px 1px 2px rgba(0, 0, 0, 0.3));\n",
              "      fill: #FFFFFF;\n",
              "    }\n",
              "  </style>\n",
              "\n",
              "      <script>\n",
              "        const buttonEl =\n",
              "          document.querySelector('#df-1596c64f-3d39-4be5-9c8e-15048ef6179b button.colab-df-convert');\n",
              "        buttonEl.style.display =\n",
              "          google.colab.kernel.accessAllowed ? 'block' : 'none';\n",
              "\n",
              "        async function convertToInteractive(key) {\n",
              "          const element = document.querySelector('#df-1596c64f-3d39-4be5-9c8e-15048ef6179b');\n",
              "          const dataTable =\n",
              "            await google.colab.kernel.invokeFunction('convertToInteractive',\n",
              "                                                     [key], {});\n",
              "          if (!dataTable) return;\n",
              "\n",
              "          const docLinkHtml = 'Like what you see? Visit the ' +\n",
              "            '<a target=\"_blank\" href=https://colab.research.google.com/notebooks/data_table.ipynb>data table notebook</a>'\n",
              "            + ' to learn more about interactive tables.';\n",
              "          element.innerHTML = '';\n",
              "          dataTable['output_type'] = 'display_data';\n",
              "          await google.colab.output.renderOutput(dataTable, element);\n",
              "          const docLink = document.createElement('div');\n",
              "          docLink.innerHTML = docLinkHtml;\n",
              "          element.appendChild(docLink);\n",
              "        }\n",
              "      </script>\n",
              "    </div>\n",
              "  </div>\n",
              "  "
            ]
          },
          "metadata": {},
          "execution_count": 46
        }
      ]
    },
    {
      "cell_type": "markdown",
      "source": [
        "**Посмотрим на повторяющиеся id по разным датасетам.**"
      ],
      "metadata": {
        "id": "eD5_zZvN5gsC"
      }
    },
    {
      "cell_type": "code",
      "source": [
        "ids = train[\"id\"]\n",
        "train[ids.isin(ids[ids.duplicated()])].sort_values('id').head(22)"
      ],
      "metadata": {
        "colab": {
          "base_uri": "https://localhost:8080/",
          "height": 739
        },
        "id": "mNYblkj75i2S",
        "outputId": "faacb43d-dc42-4bc5-a7b1-60e551b3de8f"
      },
      "execution_count": 47,
      "outputs": [
        {
          "output_type": "execute_result",
          "data": {
            "text/plain": [
              "        id  vas_id    buy_time  target\n",
              "14042  342     2.0  2018-11-18     1.0\n",
              "14041  342     1.0  2018-11-04     0.0\n",
              "19825  492     6.0  2018-12-16     1.0\n",
              "19824  492     4.0  2018-10-07     0.0\n",
              "22908  579     4.0  2018-11-18     1.0\n",
              "22909  579     6.0  2018-12-30     0.0\n",
              "23753  610     8.0  2018-08-26     0.0\n",
              "23754  610     8.0  2018-11-18     1.0\n",
              "26111  665     6.0  2018-11-25     1.0\n",
              "26110  665     2.0  2018-12-09     0.0\n",
              "29618  771     4.0  2018-07-08     0.0\n",
              "29619  771     4.0  2018-09-09     1.0\n",
              "30440  790     2.0  2018-09-30     0.0\n",
              "30441  790     4.0  2018-11-18     1.0\n",
              "31762  821     6.0  2018-11-18     1.0\n",
              "31761  821     2.0  2018-11-04     0.0\n",
              "33032  850     4.0  2018-11-18     1.0\n",
              "33031  850     2.0  2018-12-09     0.0\n",
              "33736  870     6.0  2018-11-18     1.0\n",
              "33735  870     4.0  2018-11-18     1.0\n",
              "33734  870     1.0  2018-10-07     0.0\n",
              "38180  993     6.0  2018-12-23     1.0"
            ],
            "text/html": [
              "\n",
              "  <div id=\"df-3ce66ebf-78e8-436c-9537-c33875094ac9\">\n",
              "    <div class=\"colab-df-container\">\n",
              "      <div>\n",
              "<style scoped>\n",
              "    .dataframe tbody tr th:only-of-type {\n",
              "        vertical-align: middle;\n",
              "    }\n",
              "\n",
              "    .dataframe tbody tr th {\n",
              "        vertical-align: top;\n",
              "    }\n",
              "\n",
              "    .dataframe thead th {\n",
              "        text-align: right;\n",
              "    }\n",
              "</style>\n",
              "<table border=\"1\" class=\"dataframe\">\n",
              "  <thead>\n",
              "    <tr style=\"text-align: right;\">\n",
              "      <th></th>\n",
              "      <th>id</th>\n",
              "      <th>vas_id</th>\n",
              "      <th>buy_time</th>\n",
              "      <th>target</th>\n",
              "    </tr>\n",
              "  </thead>\n",
              "  <tbody>\n",
              "    <tr>\n",
              "      <th>14042</th>\n",
              "      <td>342</td>\n",
              "      <td>2.0</td>\n",
              "      <td>2018-11-18</td>\n",
              "      <td>1.0</td>\n",
              "    </tr>\n",
              "    <tr>\n",
              "      <th>14041</th>\n",
              "      <td>342</td>\n",
              "      <td>1.0</td>\n",
              "      <td>2018-11-04</td>\n",
              "      <td>0.0</td>\n",
              "    </tr>\n",
              "    <tr>\n",
              "      <th>19825</th>\n",
              "      <td>492</td>\n",
              "      <td>6.0</td>\n",
              "      <td>2018-12-16</td>\n",
              "      <td>1.0</td>\n",
              "    </tr>\n",
              "    <tr>\n",
              "      <th>19824</th>\n",
              "      <td>492</td>\n",
              "      <td>4.0</td>\n",
              "      <td>2018-10-07</td>\n",
              "      <td>0.0</td>\n",
              "    </tr>\n",
              "    <tr>\n",
              "      <th>22908</th>\n",
              "      <td>579</td>\n",
              "      <td>4.0</td>\n",
              "      <td>2018-11-18</td>\n",
              "      <td>1.0</td>\n",
              "    </tr>\n",
              "    <tr>\n",
              "      <th>22909</th>\n",
              "      <td>579</td>\n",
              "      <td>6.0</td>\n",
              "      <td>2018-12-30</td>\n",
              "      <td>0.0</td>\n",
              "    </tr>\n",
              "    <tr>\n",
              "      <th>23753</th>\n",
              "      <td>610</td>\n",
              "      <td>8.0</td>\n",
              "      <td>2018-08-26</td>\n",
              "      <td>0.0</td>\n",
              "    </tr>\n",
              "    <tr>\n",
              "      <th>23754</th>\n",
              "      <td>610</td>\n",
              "      <td>8.0</td>\n",
              "      <td>2018-11-18</td>\n",
              "      <td>1.0</td>\n",
              "    </tr>\n",
              "    <tr>\n",
              "      <th>26111</th>\n",
              "      <td>665</td>\n",
              "      <td>6.0</td>\n",
              "      <td>2018-11-25</td>\n",
              "      <td>1.0</td>\n",
              "    </tr>\n",
              "    <tr>\n",
              "      <th>26110</th>\n",
              "      <td>665</td>\n",
              "      <td>2.0</td>\n",
              "      <td>2018-12-09</td>\n",
              "      <td>0.0</td>\n",
              "    </tr>\n",
              "    <tr>\n",
              "      <th>29618</th>\n",
              "      <td>771</td>\n",
              "      <td>4.0</td>\n",
              "      <td>2018-07-08</td>\n",
              "      <td>0.0</td>\n",
              "    </tr>\n",
              "    <tr>\n",
              "      <th>29619</th>\n",
              "      <td>771</td>\n",
              "      <td>4.0</td>\n",
              "      <td>2018-09-09</td>\n",
              "      <td>1.0</td>\n",
              "    </tr>\n",
              "    <tr>\n",
              "      <th>30440</th>\n",
              "      <td>790</td>\n",
              "      <td>2.0</td>\n",
              "      <td>2018-09-30</td>\n",
              "      <td>0.0</td>\n",
              "    </tr>\n",
              "    <tr>\n",
              "      <th>30441</th>\n",
              "      <td>790</td>\n",
              "      <td>4.0</td>\n",
              "      <td>2018-11-18</td>\n",
              "      <td>1.0</td>\n",
              "    </tr>\n",
              "    <tr>\n",
              "      <th>31762</th>\n",
              "      <td>821</td>\n",
              "      <td>6.0</td>\n",
              "      <td>2018-11-18</td>\n",
              "      <td>1.0</td>\n",
              "    </tr>\n",
              "    <tr>\n",
              "      <th>31761</th>\n",
              "      <td>821</td>\n",
              "      <td>2.0</td>\n",
              "      <td>2018-11-04</td>\n",
              "      <td>0.0</td>\n",
              "    </tr>\n",
              "    <tr>\n",
              "      <th>33032</th>\n",
              "      <td>850</td>\n",
              "      <td>4.0</td>\n",
              "      <td>2018-11-18</td>\n",
              "      <td>1.0</td>\n",
              "    </tr>\n",
              "    <tr>\n",
              "      <th>33031</th>\n",
              "      <td>850</td>\n",
              "      <td>2.0</td>\n",
              "      <td>2018-12-09</td>\n",
              "      <td>0.0</td>\n",
              "    </tr>\n",
              "    <tr>\n",
              "      <th>33736</th>\n",
              "      <td>870</td>\n",
              "      <td>6.0</td>\n",
              "      <td>2018-11-18</td>\n",
              "      <td>1.0</td>\n",
              "    </tr>\n",
              "    <tr>\n",
              "      <th>33735</th>\n",
              "      <td>870</td>\n",
              "      <td>4.0</td>\n",
              "      <td>2018-11-18</td>\n",
              "      <td>1.0</td>\n",
              "    </tr>\n",
              "    <tr>\n",
              "      <th>33734</th>\n",
              "      <td>870</td>\n",
              "      <td>1.0</td>\n",
              "      <td>2018-10-07</td>\n",
              "      <td>0.0</td>\n",
              "    </tr>\n",
              "    <tr>\n",
              "      <th>38180</th>\n",
              "      <td>993</td>\n",
              "      <td>6.0</td>\n",
              "      <td>2018-12-23</td>\n",
              "      <td>1.0</td>\n",
              "    </tr>\n",
              "  </tbody>\n",
              "</table>\n",
              "</div>\n",
              "      <button class=\"colab-df-convert\" onclick=\"convertToInteractive('df-3ce66ebf-78e8-436c-9537-c33875094ac9')\"\n",
              "              title=\"Convert this dataframe to an interactive table.\"\n",
              "              style=\"display:none;\">\n",
              "        \n",
              "  <svg xmlns=\"http://www.w3.org/2000/svg\" height=\"24px\"viewBox=\"0 0 24 24\"\n",
              "       width=\"24px\">\n",
              "    <path d=\"M0 0h24v24H0V0z\" fill=\"none\"/>\n",
              "    <path d=\"M18.56 5.44l.94 2.06.94-2.06 2.06-.94-2.06-.94-.94-2.06-.94 2.06-2.06.94zm-11 1L8.5 8.5l.94-2.06 2.06-.94-2.06-.94L8.5 2.5l-.94 2.06-2.06.94zm10 10l.94 2.06.94-2.06 2.06-.94-2.06-.94-.94-2.06-.94 2.06-2.06.94z\"/><path d=\"M17.41 7.96l-1.37-1.37c-.4-.4-.92-.59-1.43-.59-.52 0-1.04.2-1.43.59L10.3 9.45l-7.72 7.72c-.78.78-.78 2.05 0 2.83L4 21.41c.39.39.9.59 1.41.59.51 0 1.02-.2 1.41-.59l7.78-7.78 2.81-2.81c.8-.78.8-2.07 0-2.86zM5.41 20L4 18.59l7.72-7.72 1.47 1.35L5.41 20z\"/>\n",
              "  </svg>\n",
              "      </button>\n",
              "      \n",
              "  <style>\n",
              "    .colab-df-container {\n",
              "      display:flex;\n",
              "      flex-wrap:wrap;\n",
              "      gap: 12px;\n",
              "    }\n",
              "\n",
              "    .colab-df-convert {\n",
              "      background-color: #E8F0FE;\n",
              "      border: none;\n",
              "      border-radius: 50%;\n",
              "      cursor: pointer;\n",
              "      display: none;\n",
              "      fill: #1967D2;\n",
              "      height: 32px;\n",
              "      padding: 0 0 0 0;\n",
              "      width: 32px;\n",
              "    }\n",
              "\n",
              "    .colab-df-convert:hover {\n",
              "      background-color: #E2EBFA;\n",
              "      box-shadow: 0px 1px 2px rgba(60, 64, 67, 0.3), 0px 1px 3px 1px rgba(60, 64, 67, 0.15);\n",
              "      fill: #174EA6;\n",
              "    }\n",
              "\n",
              "    [theme=dark] .colab-df-convert {\n",
              "      background-color: #3B4455;\n",
              "      fill: #D2E3FC;\n",
              "    }\n",
              "\n",
              "    [theme=dark] .colab-df-convert:hover {\n",
              "      background-color: #434B5C;\n",
              "      box-shadow: 0px 1px 3px 1px rgba(0, 0, 0, 0.15);\n",
              "      filter: drop-shadow(0px 1px 2px rgba(0, 0, 0, 0.3));\n",
              "      fill: #FFFFFF;\n",
              "    }\n",
              "  </style>\n",
              "\n",
              "      <script>\n",
              "        const buttonEl =\n",
              "          document.querySelector('#df-3ce66ebf-78e8-436c-9537-c33875094ac9 button.colab-df-convert');\n",
              "        buttonEl.style.display =\n",
              "          google.colab.kernel.accessAllowed ? 'block' : 'none';\n",
              "\n",
              "        async function convertToInteractive(key) {\n",
              "          const element = document.querySelector('#df-3ce66ebf-78e8-436c-9537-c33875094ac9');\n",
              "          const dataTable =\n",
              "            await google.colab.kernel.invokeFunction('convertToInteractive',\n",
              "                                                     [key], {});\n",
              "          if (!dataTable) return;\n",
              "\n",
              "          const docLinkHtml = 'Like what you see? Visit the ' +\n",
              "            '<a target=\"_blank\" href=https://colab.research.google.com/notebooks/data_table.ipynb>data table notebook</a>'\n",
              "            + ' to learn more about interactive tables.';\n",
              "          element.innerHTML = '';\n",
              "          dataTable['output_type'] = 'display_data';\n",
              "          await google.colab.output.renderOutput(dataTable, element);\n",
              "          const docLink = document.createElement('div');\n",
              "          docLink.innerHTML = docLinkHtml;\n",
              "          element.appendChild(docLink);\n",
              "        }\n",
              "      </script>\n",
              "    </div>\n",
              "  </div>\n",
              "  "
            ]
          },
          "metadata": {},
          "execution_count": 47
        }
      ]
    },
    {
      "cell_type": "code",
      "source": [
        "ids = test[\"id\"]\n",
        "test[ids.isin(ids[ids.duplicated()])].sort_values('id').head(22)"
      ],
      "metadata": {
        "colab": {
          "base_uri": "https://localhost:8080/",
          "height": 739
        },
        "id": "eqC8vOng5mTj",
        "outputId": "4a64fcc9-4729-4265-81c8-19b7c5259b04"
      },
      "execution_count": 48,
      "outputs": [
        {
          "output_type": "execute_result",
          "data": {
            "text/plain": [
              "          id  vas_id    buy_time\n",
              "552      274     4.0  2019-01-20\n",
              "551      274     2.0  2019-01-13\n",
              "10677   4770     4.0  2019-01-13\n",
              "10676   4770     2.0  2019-01-20\n",
              "20241   8166     1.0  2019-01-06\n",
              "20242   8166     6.0  2019-01-20\n",
              "25062   9775     6.0  2019-01-13\n",
              "25061   9775     2.0  2019-01-06\n",
              "40336  15522     2.0  2019-01-06\n",
              "40337  15522     6.0  2019-01-13\n",
              "47158  18116     6.0  2019-01-13\n",
              "47157  18116     4.0  2019-01-20\n",
              "48908  18946     6.0  2019-01-06\n",
              "48907  18946     4.0  2019-01-20\n",
              "48916  18951     6.0  2019-01-13\n",
              "48915  18951     1.0  2019-01-06\n",
              "49219  19091     6.0  2019-01-13\n",
              "49218  19091     4.0  2019-01-20\n",
              "51618  20044     6.0  2019-01-06\n",
              "51617  20044     4.0  2019-01-20\n",
              "54352  20856     6.0  2019-01-06\n",
              "54353  20856     6.0  2019-01-13"
            ],
            "text/html": [
              "\n",
              "  <div id=\"df-396d8aa1-dca5-464a-bbd0-56a14426da73\">\n",
              "    <div class=\"colab-df-container\">\n",
              "      <div>\n",
              "<style scoped>\n",
              "    .dataframe tbody tr th:only-of-type {\n",
              "        vertical-align: middle;\n",
              "    }\n",
              "\n",
              "    .dataframe tbody tr th {\n",
              "        vertical-align: top;\n",
              "    }\n",
              "\n",
              "    .dataframe thead th {\n",
              "        text-align: right;\n",
              "    }\n",
              "</style>\n",
              "<table border=\"1\" class=\"dataframe\">\n",
              "  <thead>\n",
              "    <tr style=\"text-align: right;\">\n",
              "      <th></th>\n",
              "      <th>id</th>\n",
              "      <th>vas_id</th>\n",
              "      <th>buy_time</th>\n",
              "    </tr>\n",
              "  </thead>\n",
              "  <tbody>\n",
              "    <tr>\n",
              "      <th>552</th>\n",
              "      <td>274</td>\n",
              "      <td>4.0</td>\n",
              "      <td>2019-01-20</td>\n",
              "    </tr>\n",
              "    <tr>\n",
              "      <th>551</th>\n",
              "      <td>274</td>\n",
              "      <td>2.0</td>\n",
              "      <td>2019-01-13</td>\n",
              "    </tr>\n",
              "    <tr>\n",
              "      <th>10677</th>\n",
              "      <td>4770</td>\n",
              "      <td>4.0</td>\n",
              "      <td>2019-01-13</td>\n",
              "    </tr>\n",
              "    <tr>\n",
              "      <th>10676</th>\n",
              "      <td>4770</td>\n",
              "      <td>2.0</td>\n",
              "      <td>2019-01-20</td>\n",
              "    </tr>\n",
              "    <tr>\n",
              "      <th>20241</th>\n",
              "      <td>8166</td>\n",
              "      <td>1.0</td>\n",
              "      <td>2019-01-06</td>\n",
              "    </tr>\n",
              "    <tr>\n",
              "      <th>20242</th>\n",
              "      <td>8166</td>\n",
              "      <td>6.0</td>\n",
              "      <td>2019-01-20</td>\n",
              "    </tr>\n",
              "    <tr>\n",
              "      <th>25062</th>\n",
              "      <td>9775</td>\n",
              "      <td>6.0</td>\n",
              "      <td>2019-01-13</td>\n",
              "    </tr>\n",
              "    <tr>\n",
              "      <th>25061</th>\n",
              "      <td>9775</td>\n",
              "      <td>2.0</td>\n",
              "      <td>2019-01-06</td>\n",
              "    </tr>\n",
              "    <tr>\n",
              "      <th>40336</th>\n",
              "      <td>15522</td>\n",
              "      <td>2.0</td>\n",
              "      <td>2019-01-06</td>\n",
              "    </tr>\n",
              "    <tr>\n",
              "      <th>40337</th>\n",
              "      <td>15522</td>\n",
              "      <td>6.0</td>\n",
              "      <td>2019-01-13</td>\n",
              "    </tr>\n",
              "    <tr>\n",
              "      <th>47158</th>\n",
              "      <td>18116</td>\n",
              "      <td>6.0</td>\n",
              "      <td>2019-01-13</td>\n",
              "    </tr>\n",
              "    <tr>\n",
              "      <th>47157</th>\n",
              "      <td>18116</td>\n",
              "      <td>4.0</td>\n",
              "      <td>2019-01-20</td>\n",
              "    </tr>\n",
              "    <tr>\n",
              "      <th>48908</th>\n",
              "      <td>18946</td>\n",
              "      <td>6.0</td>\n",
              "      <td>2019-01-06</td>\n",
              "    </tr>\n",
              "    <tr>\n",
              "      <th>48907</th>\n",
              "      <td>18946</td>\n",
              "      <td>4.0</td>\n",
              "      <td>2019-01-20</td>\n",
              "    </tr>\n",
              "    <tr>\n",
              "      <th>48916</th>\n",
              "      <td>18951</td>\n",
              "      <td>6.0</td>\n",
              "      <td>2019-01-13</td>\n",
              "    </tr>\n",
              "    <tr>\n",
              "      <th>48915</th>\n",
              "      <td>18951</td>\n",
              "      <td>1.0</td>\n",
              "      <td>2019-01-06</td>\n",
              "    </tr>\n",
              "    <tr>\n",
              "      <th>49219</th>\n",
              "      <td>19091</td>\n",
              "      <td>6.0</td>\n",
              "      <td>2019-01-13</td>\n",
              "    </tr>\n",
              "    <tr>\n",
              "      <th>49218</th>\n",
              "      <td>19091</td>\n",
              "      <td>4.0</td>\n",
              "      <td>2019-01-20</td>\n",
              "    </tr>\n",
              "    <tr>\n",
              "      <th>51618</th>\n",
              "      <td>20044</td>\n",
              "      <td>6.0</td>\n",
              "      <td>2019-01-06</td>\n",
              "    </tr>\n",
              "    <tr>\n",
              "      <th>51617</th>\n",
              "      <td>20044</td>\n",
              "      <td>4.0</td>\n",
              "      <td>2019-01-20</td>\n",
              "    </tr>\n",
              "    <tr>\n",
              "      <th>54352</th>\n",
              "      <td>20856</td>\n",
              "      <td>6.0</td>\n",
              "      <td>2019-01-06</td>\n",
              "    </tr>\n",
              "    <tr>\n",
              "      <th>54353</th>\n",
              "      <td>20856</td>\n",
              "      <td>6.0</td>\n",
              "      <td>2019-01-13</td>\n",
              "    </tr>\n",
              "  </tbody>\n",
              "</table>\n",
              "</div>\n",
              "      <button class=\"colab-df-convert\" onclick=\"convertToInteractive('df-396d8aa1-dca5-464a-bbd0-56a14426da73')\"\n",
              "              title=\"Convert this dataframe to an interactive table.\"\n",
              "              style=\"display:none;\">\n",
              "        \n",
              "  <svg xmlns=\"http://www.w3.org/2000/svg\" height=\"24px\"viewBox=\"0 0 24 24\"\n",
              "       width=\"24px\">\n",
              "    <path d=\"M0 0h24v24H0V0z\" fill=\"none\"/>\n",
              "    <path d=\"M18.56 5.44l.94 2.06.94-2.06 2.06-.94-2.06-.94-.94-2.06-.94 2.06-2.06.94zm-11 1L8.5 8.5l.94-2.06 2.06-.94-2.06-.94L8.5 2.5l-.94 2.06-2.06.94zm10 10l.94 2.06.94-2.06 2.06-.94-2.06-.94-.94-2.06-.94 2.06-2.06.94z\"/><path d=\"M17.41 7.96l-1.37-1.37c-.4-.4-.92-.59-1.43-.59-.52 0-1.04.2-1.43.59L10.3 9.45l-7.72 7.72c-.78.78-.78 2.05 0 2.83L4 21.41c.39.39.9.59 1.41.59.51 0 1.02-.2 1.41-.59l7.78-7.78 2.81-2.81c.8-.78.8-2.07 0-2.86zM5.41 20L4 18.59l7.72-7.72 1.47 1.35L5.41 20z\"/>\n",
              "  </svg>\n",
              "      </button>\n",
              "      \n",
              "  <style>\n",
              "    .colab-df-container {\n",
              "      display:flex;\n",
              "      flex-wrap:wrap;\n",
              "      gap: 12px;\n",
              "    }\n",
              "\n",
              "    .colab-df-convert {\n",
              "      background-color: #E8F0FE;\n",
              "      border: none;\n",
              "      border-radius: 50%;\n",
              "      cursor: pointer;\n",
              "      display: none;\n",
              "      fill: #1967D2;\n",
              "      height: 32px;\n",
              "      padding: 0 0 0 0;\n",
              "      width: 32px;\n",
              "    }\n",
              "\n",
              "    .colab-df-convert:hover {\n",
              "      background-color: #E2EBFA;\n",
              "      box-shadow: 0px 1px 2px rgba(60, 64, 67, 0.3), 0px 1px 3px 1px rgba(60, 64, 67, 0.15);\n",
              "      fill: #174EA6;\n",
              "    }\n",
              "\n",
              "    [theme=dark] .colab-df-convert {\n",
              "      background-color: #3B4455;\n",
              "      fill: #D2E3FC;\n",
              "    }\n",
              "\n",
              "    [theme=dark] .colab-df-convert:hover {\n",
              "      background-color: #434B5C;\n",
              "      box-shadow: 0px 1px 3px 1px rgba(0, 0, 0, 0.15);\n",
              "      filter: drop-shadow(0px 1px 2px rgba(0, 0, 0, 0.3));\n",
              "      fill: #FFFFFF;\n",
              "    }\n",
              "  </style>\n",
              "\n",
              "      <script>\n",
              "        const buttonEl =\n",
              "          document.querySelector('#df-396d8aa1-dca5-464a-bbd0-56a14426da73 button.colab-df-convert');\n",
              "        buttonEl.style.display =\n",
              "          google.colab.kernel.accessAllowed ? 'block' : 'none';\n",
              "\n",
              "        async function convertToInteractive(key) {\n",
              "          const element = document.querySelector('#df-396d8aa1-dca5-464a-bbd0-56a14426da73');\n",
              "          const dataTable =\n",
              "            await google.colab.kernel.invokeFunction('convertToInteractive',\n",
              "                                                     [key], {});\n",
              "          if (!dataTable) return;\n",
              "\n",
              "          const docLinkHtml = 'Like what you see? Visit the ' +\n",
              "            '<a target=\"_blank\" href=https://colab.research.google.com/notebooks/data_table.ipynb>data table notebook</a>'\n",
              "            + ' to learn more about interactive tables.';\n",
              "          element.innerHTML = '';\n",
              "          dataTable['output_type'] = 'display_data';\n",
              "          await google.colab.output.renderOutput(dataTable, element);\n",
              "          const docLink = document.createElement('div');\n",
              "          docLink.innerHTML = docLinkHtml;\n",
              "          element.appendChild(docLink);\n",
              "        }\n",
              "      </script>\n",
              "    </div>\n",
              "  </div>\n",
              "  "
            ]
          },
          "metadata": {},
          "execution_count": 48
        }
      ]
    },
    {
      "cell_type": "code",
      "source": [
        "ids = features[\"id\"]\n",
        "features[ids.isin(ids[ids.duplicated()])].sort_values('id') #.iloc[17:43, 0:2]"
      ],
      "metadata": {
        "colab": {
          "base_uri": "https://localhost:8080/",
          "height": 661
        },
        "id": "_iSfJuu_5pSq",
        "outputId": "3747f773-20cc-4161-c865-1ad53ccd4471"
      },
      "execution_count": 49,
      "outputs": [
        {
          "output_type": "execute_result",
          "data": {
            "text/plain": [
              "             id    buy_time           0           1           2           3  \\\n",
              "91676     14368  2018-11-25  -83.159971   37.170888  -97.100786  -15.436798   \n",
              "1246      14368  2018-11-18  302.870029   47.940888  288.929214   -4.666798   \n",
              "204815    32736  2018-11-18  366.620029  202.760888  395.049214  192.523202   \n",
              "114322    32736  2018-08-19  352.370029  370.890888  423.169214  710.623202   \n",
              "182341    35666  2018-12-09  411.670029  115.560888  397.729214   62.953202   \n",
              "...         ...         ...         ...         ...         ...         ...   \n",
              "136984  4342814  2018-11-11  -96.799971  -69.199112 -106.500786 -117.566798   \n",
              "190716  4343963  2019-01-06  -96.799971  242.670888 -106.570786  228.133202   \n",
              "100457  4343963  2018-08-26  -79.859971   11.310888  -85.330786  -32.826798   \n",
              "136995  4349615  2018-11-18  455.740029  430.710888  471.459214  407.763202   \n",
              "159585  4349615  2018-11-25  -94.259971  427.140888 -108.200786  404.193202   \n",
              "\n",
              "                 4          5          6           7  ...         243  \\\n",
              "91676  -102.518246  -35.01179  -16.08618  -65.076097  ... -976.373846   \n",
              "1246    283.511754  134.65821  -16.08618  -65.076097  ... -977.373846   \n",
              "204815  389.631754  171.41821  -16.08618  -65.076097  ... -977.373846   \n",
              "114322  417.751754  689.51821  -16.08618  -65.076097  ... -977.373846   \n",
              "182341  396.891754   46.42821  -16.08618  -65.076097  ... -283.373846   \n",
              "...            ...        ...        ...         ...  ...         ...   \n",
              "136984 -111.918246 -135.70179  -16.08618  -65.076097  ... -963.373846   \n",
              "190716 -111.988246  207.02821  -16.08618  -65.076097  ... -974.373846   \n",
              "100457  -90.748246  -53.93179  -16.08618  -65.076097  ... -977.373846   \n",
              "136995  466.041754  386.65821  526.28382  493.873903  ... -977.373846   \n",
              "159585 -113.618246  383.08821  -16.08618  493.873903  ... -977.373846   \n",
              "\n",
              "               244        245         246         247        248        249  \\\n",
              "91676  -613.770792 -25.996269  -37.630448 -204.747724 -25.832889  -0.694428   \n",
              "1246   -613.770792 -25.996269  -37.630448 -298.747724 -16.832889  -0.694428   \n",
              "204815 -613.770792 -25.996269  -37.630448 -306.747724 -25.832889  -0.694428   \n",
              "114322 -613.770792 -25.996269  -37.630448 -306.747724 -25.832889  -0.694428   \n",
              "182341   11.229208 -21.996269   90.369552   64.252276  -3.832889  -0.694428   \n",
              "...            ...        ...         ...         ...        ...        ...   \n",
              "136984 -601.770792 -22.996269  -37.630448   56.252276  -9.832889  11.305572   \n",
              "190716 -613.770792  48.003731  107.369552 -169.747724 -21.832889  -0.694428   \n",
              "100457 -613.770792 -25.996269  -37.630448 -306.747724 -25.832889  -0.694428   \n",
              "136995 -613.770792 -25.996269  -37.630448 -306.747724 -25.832889  -0.694428   \n",
              "159585 -613.770792 -25.996269  -37.630448 -306.747724 -25.832889  -0.694428   \n",
              "\n",
              "              250      251  252  \n",
              "91676  -12.175933 -0.45614  0.0  \n",
              "1246   -12.175933 -0.45614  0.0  \n",
              "204815 -12.175933 -0.45614  0.0  \n",
              "114322 -12.175933 -0.45614  0.0  \n",
              "182341 -12.175933 -0.45614  1.0  \n",
              "...           ...      ...  ...  \n",
              "136984 -12.175933 -0.45614  1.0  \n",
              "190716 -12.175933 -0.45614  0.0  \n",
              "100457 -12.175933 -0.45614  0.0  \n",
              "136995 -12.175933 -0.45614  1.0  \n",
              "159585 -12.175933 -0.45614  1.0  \n",
              "\n",
              "[678 rows x 250 columns]"
            ],
            "text/html": [
              "\n",
              "  <div id=\"df-c6e6eda5-1c5d-481d-a2f2-e8470aa5e54d\">\n",
              "    <div class=\"colab-df-container\">\n",
              "      <div>\n",
              "<style scoped>\n",
              "    .dataframe tbody tr th:only-of-type {\n",
              "        vertical-align: middle;\n",
              "    }\n",
              "\n",
              "    .dataframe tbody tr th {\n",
              "        vertical-align: top;\n",
              "    }\n",
              "\n",
              "    .dataframe thead th {\n",
              "        text-align: right;\n",
              "    }\n",
              "</style>\n",
              "<table border=\"1\" class=\"dataframe\">\n",
              "  <thead>\n",
              "    <tr style=\"text-align: right;\">\n",
              "      <th></th>\n",
              "      <th>id</th>\n",
              "      <th>buy_time</th>\n",
              "      <th>0</th>\n",
              "      <th>1</th>\n",
              "      <th>2</th>\n",
              "      <th>3</th>\n",
              "      <th>4</th>\n",
              "      <th>5</th>\n",
              "      <th>6</th>\n",
              "      <th>7</th>\n",
              "      <th>...</th>\n",
              "      <th>243</th>\n",
              "      <th>244</th>\n",
              "      <th>245</th>\n",
              "      <th>246</th>\n",
              "      <th>247</th>\n",
              "      <th>248</th>\n",
              "      <th>249</th>\n",
              "      <th>250</th>\n",
              "      <th>251</th>\n",
              "      <th>252</th>\n",
              "    </tr>\n",
              "  </thead>\n",
              "  <tbody>\n",
              "    <tr>\n",
              "      <th>91676</th>\n",
              "      <td>14368</td>\n",
              "      <td>2018-11-25</td>\n",
              "      <td>-83.159971</td>\n",
              "      <td>37.170888</td>\n",
              "      <td>-97.100786</td>\n",
              "      <td>-15.436798</td>\n",
              "      <td>-102.518246</td>\n",
              "      <td>-35.01179</td>\n",
              "      <td>-16.08618</td>\n",
              "      <td>-65.076097</td>\n",
              "      <td>...</td>\n",
              "      <td>-976.373846</td>\n",
              "      <td>-613.770792</td>\n",
              "      <td>-25.996269</td>\n",
              "      <td>-37.630448</td>\n",
              "      <td>-204.747724</td>\n",
              "      <td>-25.832889</td>\n",
              "      <td>-0.694428</td>\n",
              "      <td>-12.175933</td>\n",
              "      <td>-0.45614</td>\n",
              "      <td>0.0</td>\n",
              "    </tr>\n",
              "    <tr>\n",
              "      <th>1246</th>\n",
              "      <td>14368</td>\n",
              "      <td>2018-11-18</td>\n",
              "      <td>302.870029</td>\n",
              "      <td>47.940888</td>\n",
              "      <td>288.929214</td>\n",
              "      <td>-4.666798</td>\n",
              "      <td>283.511754</td>\n",
              "      <td>134.65821</td>\n",
              "      <td>-16.08618</td>\n",
              "      <td>-65.076097</td>\n",
              "      <td>...</td>\n",
              "      <td>-977.373846</td>\n",
              "      <td>-613.770792</td>\n",
              "      <td>-25.996269</td>\n",
              "      <td>-37.630448</td>\n",
              "      <td>-298.747724</td>\n",
              "      <td>-16.832889</td>\n",
              "      <td>-0.694428</td>\n",
              "      <td>-12.175933</td>\n",
              "      <td>-0.45614</td>\n",
              "      <td>0.0</td>\n",
              "    </tr>\n",
              "    <tr>\n",
              "      <th>204815</th>\n",
              "      <td>32736</td>\n",
              "      <td>2018-11-18</td>\n",
              "      <td>366.620029</td>\n",
              "      <td>202.760888</td>\n",
              "      <td>395.049214</td>\n",
              "      <td>192.523202</td>\n",
              "      <td>389.631754</td>\n",
              "      <td>171.41821</td>\n",
              "      <td>-16.08618</td>\n",
              "      <td>-65.076097</td>\n",
              "      <td>...</td>\n",
              "      <td>-977.373846</td>\n",
              "      <td>-613.770792</td>\n",
              "      <td>-25.996269</td>\n",
              "      <td>-37.630448</td>\n",
              "      <td>-306.747724</td>\n",
              "      <td>-25.832889</td>\n",
              "      <td>-0.694428</td>\n",
              "      <td>-12.175933</td>\n",
              "      <td>-0.45614</td>\n",
              "      <td>0.0</td>\n",
              "    </tr>\n",
              "    <tr>\n",
              "      <th>114322</th>\n",
              "      <td>32736</td>\n",
              "      <td>2018-08-19</td>\n",
              "      <td>352.370029</td>\n",
              "      <td>370.890888</td>\n",
              "      <td>423.169214</td>\n",
              "      <td>710.623202</td>\n",
              "      <td>417.751754</td>\n",
              "      <td>689.51821</td>\n",
              "      <td>-16.08618</td>\n",
              "      <td>-65.076097</td>\n",
              "      <td>...</td>\n",
              "      <td>-977.373846</td>\n",
              "      <td>-613.770792</td>\n",
              "      <td>-25.996269</td>\n",
              "      <td>-37.630448</td>\n",
              "      <td>-306.747724</td>\n",
              "      <td>-25.832889</td>\n",
              "      <td>-0.694428</td>\n",
              "      <td>-12.175933</td>\n",
              "      <td>-0.45614</td>\n",
              "      <td>0.0</td>\n",
              "    </tr>\n",
              "    <tr>\n",
              "      <th>182341</th>\n",
              "      <td>35666</td>\n",
              "      <td>2018-12-09</td>\n",
              "      <td>411.670029</td>\n",
              "      <td>115.560888</td>\n",
              "      <td>397.729214</td>\n",
              "      <td>62.953202</td>\n",
              "      <td>396.891754</td>\n",
              "      <td>46.42821</td>\n",
              "      <td>-16.08618</td>\n",
              "      <td>-65.076097</td>\n",
              "      <td>...</td>\n",
              "      <td>-283.373846</td>\n",
              "      <td>11.229208</td>\n",
              "      <td>-21.996269</td>\n",
              "      <td>90.369552</td>\n",
              "      <td>64.252276</td>\n",
              "      <td>-3.832889</td>\n",
              "      <td>-0.694428</td>\n",
              "      <td>-12.175933</td>\n",
              "      <td>-0.45614</td>\n",
              "      <td>1.0</td>\n",
              "    </tr>\n",
              "    <tr>\n",
              "      <th>...</th>\n",
              "      <td>...</td>\n",
              "      <td>...</td>\n",
              "      <td>...</td>\n",
              "      <td>...</td>\n",
              "      <td>...</td>\n",
              "      <td>...</td>\n",
              "      <td>...</td>\n",
              "      <td>...</td>\n",
              "      <td>...</td>\n",
              "      <td>...</td>\n",
              "      <td>...</td>\n",
              "      <td>...</td>\n",
              "      <td>...</td>\n",
              "      <td>...</td>\n",
              "      <td>...</td>\n",
              "      <td>...</td>\n",
              "      <td>...</td>\n",
              "      <td>...</td>\n",
              "      <td>...</td>\n",
              "      <td>...</td>\n",
              "      <td>...</td>\n",
              "    </tr>\n",
              "    <tr>\n",
              "      <th>136984</th>\n",
              "      <td>4342814</td>\n",
              "      <td>2018-11-11</td>\n",
              "      <td>-96.799971</td>\n",
              "      <td>-69.199112</td>\n",
              "      <td>-106.500786</td>\n",
              "      <td>-117.566798</td>\n",
              "      <td>-111.918246</td>\n",
              "      <td>-135.70179</td>\n",
              "      <td>-16.08618</td>\n",
              "      <td>-65.076097</td>\n",
              "      <td>...</td>\n",
              "      <td>-963.373846</td>\n",
              "      <td>-601.770792</td>\n",
              "      <td>-22.996269</td>\n",
              "      <td>-37.630448</td>\n",
              "      <td>56.252276</td>\n",
              "      <td>-9.832889</td>\n",
              "      <td>11.305572</td>\n",
              "      <td>-12.175933</td>\n",
              "      <td>-0.45614</td>\n",
              "      <td>1.0</td>\n",
              "    </tr>\n",
              "    <tr>\n",
              "      <th>190716</th>\n",
              "      <td>4343963</td>\n",
              "      <td>2019-01-06</td>\n",
              "      <td>-96.799971</td>\n",
              "      <td>242.670888</td>\n",
              "      <td>-106.570786</td>\n",
              "      <td>228.133202</td>\n",
              "      <td>-111.988246</td>\n",
              "      <td>207.02821</td>\n",
              "      <td>-16.08618</td>\n",
              "      <td>-65.076097</td>\n",
              "      <td>...</td>\n",
              "      <td>-974.373846</td>\n",
              "      <td>-613.770792</td>\n",
              "      <td>48.003731</td>\n",
              "      <td>107.369552</td>\n",
              "      <td>-169.747724</td>\n",
              "      <td>-21.832889</td>\n",
              "      <td>-0.694428</td>\n",
              "      <td>-12.175933</td>\n",
              "      <td>-0.45614</td>\n",
              "      <td>0.0</td>\n",
              "    </tr>\n",
              "    <tr>\n",
              "      <th>100457</th>\n",
              "      <td>4343963</td>\n",
              "      <td>2018-08-26</td>\n",
              "      <td>-79.859971</td>\n",
              "      <td>11.310888</td>\n",
              "      <td>-85.330786</td>\n",
              "      <td>-32.826798</td>\n",
              "      <td>-90.748246</td>\n",
              "      <td>-53.93179</td>\n",
              "      <td>-16.08618</td>\n",
              "      <td>-65.076097</td>\n",
              "      <td>...</td>\n",
              "      <td>-977.373846</td>\n",
              "      <td>-613.770792</td>\n",
              "      <td>-25.996269</td>\n",
              "      <td>-37.630448</td>\n",
              "      <td>-306.747724</td>\n",
              "      <td>-25.832889</td>\n",
              "      <td>-0.694428</td>\n",
              "      <td>-12.175933</td>\n",
              "      <td>-0.45614</td>\n",
              "      <td>0.0</td>\n",
              "    </tr>\n",
              "    <tr>\n",
              "      <th>136995</th>\n",
              "      <td>4349615</td>\n",
              "      <td>2018-11-18</td>\n",
              "      <td>455.740029</td>\n",
              "      <td>430.710888</td>\n",
              "      <td>471.459214</td>\n",
              "      <td>407.763202</td>\n",
              "      <td>466.041754</td>\n",
              "      <td>386.65821</td>\n",
              "      <td>526.28382</td>\n",
              "      <td>493.873903</td>\n",
              "      <td>...</td>\n",
              "      <td>-977.373846</td>\n",
              "      <td>-613.770792</td>\n",
              "      <td>-25.996269</td>\n",
              "      <td>-37.630448</td>\n",
              "      <td>-306.747724</td>\n",
              "      <td>-25.832889</td>\n",
              "      <td>-0.694428</td>\n",
              "      <td>-12.175933</td>\n",
              "      <td>-0.45614</td>\n",
              "      <td>1.0</td>\n",
              "    </tr>\n",
              "    <tr>\n",
              "      <th>159585</th>\n",
              "      <td>4349615</td>\n",
              "      <td>2018-11-25</td>\n",
              "      <td>-94.259971</td>\n",
              "      <td>427.140888</td>\n",
              "      <td>-108.200786</td>\n",
              "      <td>404.193202</td>\n",
              "      <td>-113.618246</td>\n",
              "      <td>383.08821</td>\n",
              "      <td>-16.08618</td>\n",
              "      <td>493.873903</td>\n",
              "      <td>...</td>\n",
              "      <td>-977.373846</td>\n",
              "      <td>-613.770792</td>\n",
              "      <td>-25.996269</td>\n",
              "      <td>-37.630448</td>\n",
              "      <td>-306.747724</td>\n",
              "      <td>-25.832889</td>\n",
              "      <td>-0.694428</td>\n",
              "      <td>-12.175933</td>\n",
              "      <td>-0.45614</td>\n",
              "      <td>1.0</td>\n",
              "    </tr>\n",
              "  </tbody>\n",
              "</table>\n",
              "<p>678 rows × 250 columns</p>\n",
              "</div>\n",
              "      <button class=\"colab-df-convert\" onclick=\"convertToInteractive('df-c6e6eda5-1c5d-481d-a2f2-e8470aa5e54d')\"\n",
              "              title=\"Convert this dataframe to an interactive table.\"\n",
              "              style=\"display:none;\">\n",
              "        \n",
              "  <svg xmlns=\"http://www.w3.org/2000/svg\" height=\"24px\"viewBox=\"0 0 24 24\"\n",
              "       width=\"24px\">\n",
              "    <path d=\"M0 0h24v24H0V0z\" fill=\"none\"/>\n",
              "    <path d=\"M18.56 5.44l.94 2.06.94-2.06 2.06-.94-2.06-.94-.94-2.06-.94 2.06-2.06.94zm-11 1L8.5 8.5l.94-2.06 2.06-.94-2.06-.94L8.5 2.5l-.94 2.06-2.06.94zm10 10l.94 2.06.94-2.06 2.06-.94-2.06-.94-.94-2.06-.94 2.06-2.06.94z\"/><path d=\"M17.41 7.96l-1.37-1.37c-.4-.4-.92-.59-1.43-.59-.52 0-1.04.2-1.43.59L10.3 9.45l-7.72 7.72c-.78.78-.78 2.05 0 2.83L4 21.41c.39.39.9.59 1.41.59.51 0 1.02-.2 1.41-.59l7.78-7.78 2.81-2.81c.8-.78.8-2.07 0-2.86zM5.41 20L4 18.59l7.72-7.72 1.47 1.35L5.41 20z\"/>\n",
              "  </svg>\n",
              "      </button>\n",
              "      \n",
              "  <style>\n",
              "    .colab-df-container {\n",
              "      display:flex;\n",
              "      flex-wrap:wrap;\n",
              "      gap: 12px;\n",
              "    }\n",
              "\n",
              "    .colab-df-convert {\n",
              "      background-color: #E8F0FE;\n",
              "      border: none;\n",
              "      border-radius: 50%;\n",
              "      cursor: pointer;\n",
              "      display: none;\n",
              "      fill: #1967D2;\n",
              "      height: 32px;\n",
              "      padding: 0 0 0 0;\n",
              "      width: 32px;\n",
              "    }\n",
              "\n",
              "    .colab-df-convert:hover {\n",
              "      background-color: #E2EBFA;\n",
              "      box-shadow: 0px 1px 2px rgba(60, 64, 67, 0.3), 0px 1px 3px 1px rgba(60, 64, 67, 0.15);\n",
              "      fill: #174EA6;\n",
              "    }\n",
              "\n",
              "    [theme=dark] .colab-df-convert {\n",
              "      background-color: #3B4455;\n",
              "      fill: #D2E3FC;\n",
              "    }\n",
              "\n",
              "    [theme=dark] .colab-df-convert:hover {\n",
              "      background-color: #434B5C;\n",
              "      box-shadow: 0px 1px 3px 1px rgba(0, 0, 0, 0.15);\n",
              "      filter: drop-shadow(0px 1px 2px rgba(0, 0, 0, 0.3));\n",
              "      fill: #FFFFFF;\n",
              "    }\n",
              "  </style>\n",
              "\n",
              "      <script>\n",
              "        const buttonEl =\n",
              "          document.querySelector('#df-c6e6eda5-1c5d-481d-a2f2-e8470aa5e54d button.colab-df-convert');\n",
              "        buttonEl.style.display =\n",
              "          google.colab.kernel.accessAllowed ? 'block' : 'none';\n",
              "\n",
              "        async function convertToInteractive(key) {\n",
              "          const element = document.querySelector('#df-c6e6eda5-1c5d-481d-a2f2-e8470aa5e54d');\n",
              "          const dataTable =\n",
              "            await google.colab.kernel.invokeFunction('convertToInteractive',\n",
              "                                                     [key], {});\n",
              "          if (!dataTable) return;\n",
              "\n",
              "          const docLinkHtml = 'Like what you see? Visit the ' +\n",
              "            '<a target=\"_blank\" href=https://colab.research.google.com/notebooks/data_table.ipynb>data table notebook</a>'\n",
              "            + ' to learn more about interactive tables.';\n",
              "          element.innerHTML = '';\n",
              "          dataTable['output_type'] = 'display_data';\n",
              "          await google.colab.output.renderOutput(dataTable, element);\n",
              "          const docLink = document.createElement('div');\n",
              "          docLink.innerHTML = docLinkHtml;\n",
              "          element.appendChild(docLink);\n",
              "        }\n",
              "      </script>\n",
              "    </div>\n",
              "  </div>\n",
              "  "
            ]
          },
          "metadata": {},
          "execution_count": 49
        }
      ]
    },
    {
      "cell_type": "code",
      "source": [
        "features[features['id'] == 35666]"
      ],
      "metadata": {
        "colab": {
          "base_uri": "https://localhost:8080/",
          "height": 240
        },
        "id": "i2X9riRG5uZT",
        "outputId": "e47cdc56-efd5-417a-9b33-84ab56ff9210"
      },
      "execution_count": 50,
      "outputs": [
        {
          "output_type": "execute_result",
          "data": {
            "text/plain": [
              "           id    buy_time           0           1           2           3  \\\n",
              "159658  35666  2018-11-11  442.180029  158.270888  428.239214  115.833202   \n",
              "182341  35666  2018-12-09  411.670029  115.560888  397.729214   62.953202   \n",
              "\n",
              "                 4         5         6          7  ...          243  \\\n",
              "159658  422.821754  94.72821 -16.08618 -65.076097  ...  2043.626154   \n",
              "182341  396.891754  46.42821 -16.08618 -65.076097  ...  -283.373846   \n",
              "\n",
              "                244        245        246         247        248       249  \\\n",
              "159658  2403.229208 -24.996269 -36.630448 -189.747724 -24.832889 -0.694428   \n",
              "182341    11.229208 -21.996269  90.369552   64.252276  -3.832889 -0.694428   \n",
              "\n",
              "              250      251  252  \n",
              "159658 -12.175933 -0.45614  1.0  \n",
              "182341 -12.175933 -0.45614  1.0  \n",
              "\n",
              "[2 rows x 250 columns]"
            ],
            "text/html": [
              "\n",
              "  <div id=\"df-a061893b-b070-4c69-a5a7-dd6f3cc56127\">\n",
              "    <div class=\"colab-df-container\">\n",
              "      <div>\n",
              "<style scoped>\n",
              "    .dataframe tbody tr th:only-of-type {\n",
              "        vertical-align: middle;\n",
              "    }\n",
              "\n",
              "    .dataframe tbody tr th {\n",
              "        vertical-align: top;\n",
              "    }\n",
              "\n",
              "    .dataframe thead th {\n",
              "        text-align: right;\n",
              "    }\n",
              "</style>\n",
              "<table border=\"1\" class=\"dataframe\">\n",
              "  <thead>\n",
              "    <tr style=\"text-align: right;\">\n",
              "      <th></th>\n",
              "      <th>id</th>\n",
              "      <th>buy_time</th>\n",
              "      <th>0</th>\n",
              "      <th>1</th>\n",
              "      <th>2</th>\n",
              "      <th>3</th>\n",
              "      <th>4</th>\n",
              "      <th>5</th>\n",
              "      <th>6</th>\n",
              "      <th>7</th>\n",
              "      <th>...</th>\n",
              "      <th>243</th>\n",
              "      <th>244</th>\n",
              "      <th>245</th>\n",
              "      <th>246</th>\n",
              "      <th>247</th>\n",
              "      <th>248</th>\n",
              "      <th>249</th>\n",
              "      <th>250</th>\n",
              "      <th>251</th>\n",
              "      <th>252</th>\n",
              "    </tr>\n",
              "  </thead>\n",
              "  <tbody>\n",
              "    <tr>\n",
              "      <th>159658</th>\n",
              "      <td>35666</td>\n",
              "      <td>2018-11-11</td>\n",
              "      <td>442.180029</td>\n",
              "      <td>158.270888</td>\n",
              "      <td>428.239214</td>\n",
              "      <td>115.833202</td>\n",
              "      <td>422.821754</td>\n",
              "      <td>94.72821</td>\n",
              "      <td>-16.08618</td>\n",
              "      <td>-65.076097</td>\n",
              "      <td>...</td>\n",
              "      <td>2043.626154</td>\n",
              "      <td>2403.229208</td>\n",
              "      <td>-24.996269</td>\n",
              "      <td>-36.630448</td>\n",
              "      <td>-189.747724</td>\n",
              "      <td>-24.832889</td>\n",
              "      <td>-0.694428</td>\n",
              "      <td>-12.175933</td>\n",
              "      <td>-0.45614</td>\n",
              "      <td>1.0</td>\n",
              "    </tr>\n",
              "    <tr>\n",
              "      <th>182341</th>\n",
              "      <td>35666</td>\n",
              "      <td>2018-12-09</td>\n",
              "      <td>411.670029</td>\n",
              "      <td>115.560888</td>\n",
              "      <td>397.729214</td>\n",
              "      <td>62.953202</td>\n",
              "      <td>396.891754</td>\n",
              "      <td>46.42821</td>\n",
              "      <td>-16.08618</td>\n",
              "      <td>-65.076097</td>\n",
              "      <td>...</td>\n",
              "      <td>-283.373846</td>\n",
              "      <td>11.229208</td>\n",
              "      <td>-21.996269</td>\n",
              "      <td>90.369552</td>\n",
              "      <td>64.252276</td>\n",
              "      <td>-3.832889</td>\n",
              "      <td>-0.694428</td>\n",
              "      <td>-12.175933</td>\n",
              "      <td>-0.45614</td>\n",
              "      <td>1.0</td>\n",
              "    </tr>\n",
              "  </tbody>\n",
              "</table>\n",
              "<p>2 rows × 250 columns</p>\n",
              "</div>\n",
              "      <button class=\"colab-df-convert\" onclick=\"convertToInteractive('df-a061893b-b070-4c69-a5a7-dd6f3cc56127')\"\n",
              "              title=\"Convert this dataframe to an interactive table.\"\n",
              "              style=\"display:none;\">\n",
              "        \n",
              "  <svg xmlns=\"http://www.w3.org/2000/svg\" height=\"24px\"viewBox=\"0 0 24 24\"\n",
              "       width=\"24px\">\n",
              "    <path d=\"M0 0h24v24H0V0z\" fill=\"none\"/>\n",
              "    <path d=\"M18.56 5.44l.94 2.06.94-2.06 2.06-.94-2.06-.94-.94-2.06-.94 2.06-2.06.94zm-11 1L8.5 8.5l.94-2.06 2.06-.94-2.06-.94L8.5 2.5l-.94 2.06-2.06.94zm10 10l.94 2.06.94-2.06 2.06-.94-2.06-.94-.94-2.06-.94 2.06-2.06.94z\"/><path d=\"M17.41 7.96l-1.37-1.37c-.4-.4-.92-.59-1.43-.59-.52 0-1.04.2-1.43.59L10.3 9.45l-7.72 7.72c-.78.78-.78 2.05 0 2.83L4 21.41c.39.39.9.59 1.41.59.51 0 1.02-.2 1.41-.59l7.78-7.78 2.81-2.81c.8-.78.8-2.07 0-2.86zM5.41 20L4 18.59l7.72-7.72 1.47 1.35L5.41 20z\"/>\n",
              "  </svg>\n",
              "      </button>\n",
              "      \n",
              "  <style>\n",
              "    .colab-df-container {\n",
              "      display:flex;\n",
              "      flex-wrap:wrap;\n",
              "      gap: 12px;\n",
              "    }\n",
              "\n",
              "    .colab-df-convert {\n",
              "      background-color: #E8F0FE;\n",
              "      border: none;\n",
              "      border-radius: 50%;\n",
              "      cursor: pointer;\n",
              "      display: none;\n",
              "      fill: #1967D2;\n",
              "      height: 32px;\n",
              "      padding: 0 0 0 0;\n",
              "      width: 32px;\n",
              "    }\n",
              "\n",
              "    .colab-df-convert:hover {\n",
              "      background-color: #E2EBFA;\n",
              "      box-shadow: 0px 1px 2px rgba(60, 64, 67, 0.3), 0px 1px 3px 1px rgba(60, 64, 67, 0.15);\n",
              "      fill: #174EA6;\n",
              "    }\n",
              "\n",
              "    [theme=dark] .colab-df-convert {\n",
              "      background-color: #3B4455;\n",
              "      fill: #D2E3FC;\n",
              "    }\n",
              "\n",
              "    [theme=dark] .colab-df-convert:hover {\n",
              "      background-color: #434B5C;\n",
              "      box-shadow: 0px 1px 3px 1px rgba(0, 0, 0, 0.15);\n",
              "      filter: drop-shadow(0px 1px 2px rgba(0, 0, 0, 0.3));\n",
              "      fill: #FFFFFF;\n",
              "    }\n",
              "  </style>\n",
              "\n",
              "      <script>\n",
              "        const buttonEl =\n",
              "          document.querySelector('#df-a061893b-b070-4c69-a5a7-dd6f3cc56127 button.colab-df-convert');\n",
              "        buttonEl.style.display =\n",
              "          google.colab.kernel.accessAllowed ? 'block' : 'none';\n",
              "\n",
              "        async function convertToInteractive(key) {\n",
              "          const element = document.querySelector('#df-a061893b-b070-4c69-a5a7-dd6f3cc56127');\n",
              "          const dataTable =\n",
              "            await google.colab.kernel.invokeFunction('convertToInteractive',\n",
              "                                                     [key], {});\n",
              "          if (!dataTable) return;\n",
              "\n",
              "          const docLinkHtml = 'Like what you see? Visit the ' +\n",
              "            '<a target=\"_blank\" href=https://colab.research.google.com/notebooks/data_table.ipynb>data table notebook</a>'\n",
              "            + ' to learn more about interactive tables.';\n",
              "          element.innerHTML = '';\n",
              "          dataTable['output_type'] = 'display_data';\n",
              "          await google.colab.output.renderOutput(dataTable, element);\n",
              "          const docLink = document.createElement('div');\n",
              "          docLink.innerHTML = docLinkHtml;\n",
              "          element.appendChild(docLink);\n",
              "        }\n",
              "      </script>\n",
              "    </div>\n",
              "  </div>\n",
              "  "
            ]
          },
          "metadata": {},
          "execution_count": 50
        }
      ]
    },
    {
      "cell_type": "code",
      "source": [
        "features['id'].value_counts().sort_values(ascending=False)"
      ],
      "metadata": {
        "colab": {
          "base_uri": "https://localhost:8080/"
        },
        "id": "fW2HOUhn6OLE",
        "outputId": "ed984d5b-46a3-4826-c41b-19604bfa603c"
      },
      "execution_count": 51,
      "outputs": [
        {
          "output_type": "execute_result",
          "data": {
            "text/plain": [
              "4121023    2\n",
              "1861064    2\n",
              "1216601    2\n",
              "1255984    2\n",
              "3412620    2\n",
              "          ..\n",
              "3365692    1\n",
              "3362735    1\n",
              "3362784    1\n",
              "3362848    1\n",
              "3395617    1\n",
              "Name: id, Length: 225287, dtype: int64"
            ]
          },
          "metadata": {},
          "execution_count": 51
        }
      ]
    },
    {
      "cell_type": "markdown",
      "source": [
        "**Количество дубликатов не больше 2-х. Значит каждому клиенту предлагали не больше 2-х услуг. Значит можно объединить датасет сделав его в 2 раза шире.**"
      ],
      "metadata": {
        "id": "bYB5geAp6UfV"
      }
    },
    {
      "cell_type": "markdown",
      "source": [
        "# **Объединение merge_asof nearest**"
      ],
      "metadata": {
        "id": "jXeKTXDP6cP1"
      }
    },
    {
      "cell_type": "markdown",
      "source": [
        "**Объеденим датасет так, чтобы id сопадали, а строки из датасета features брались с ближайшей датой.**"
      ],
      "metadata": {
        "id": "wumNaj4s6f4d"
      }
    },
    {
      "cell_type": "code",
      "source": [
        "train = pd.merge_asof(train.sort_values(by=['id']), \n",
        "                       features.sort_values(by=['id']), \n",
        "                       on='id', \n",
        "                       by='buy_time', \n",
        "                       direction='nearest')\n",
        "train"
      ],
      "metadata": {
        "colab": {
          "base_uri": "https://localhost:8080/",
          "height": 661
        },
        "id": "3yChxMnC6iRF",
        "outputId": "427564b2-ec67-4db8-8a7c-a92332de7c28"
      },
      "execution_count": 52,
      "outputs": [
        {
          "output_type": "execute_result",
          "data": {
            "text/plain": [
              "             id  vas_id    buy_time  target          0           1  \\\n",
              "0             2     2.0  2018-12-23     0.0 -96.799971 -408.179112   \n",
              "1             4     1.0  2018-08-05     0.0 -96.799971  102.410888   \n",
              "2            15     1.0  2018-08-12     0.0 -96.799971  134.190888   \n",
              "3            16     2.0  2018-10-28     0.0 -94.679971  -61.139112   \n",
              "4            29     1.0  2018-08-05     0.0 -96.799971  102.410888   \n",
              "...         ...     ...         ...     ...        ...         ...   \n",
              "831648  4362634     1.0  2018-12-30     0.0 -96.799971 -103.089112   \n",
              "831649  4362640     2.0  2018-12-30     0.0 -96.799971 -103.089112   \n",
              "831650  4362647     6.0  2018-12-30     0.0 -96.799971 -103.089112   \n",
              "831651  4362684     5.0  2018-12-23     0.0 -86.119971 -125.889112   \n",
              "831652  4362694     2.0  2018-12-30     0.0 -96.799971 -103.089112   \n",
              "\n",
              "                 2           3           4          5  ...          243  \\\n",
              "0      -110.740786 -460.786798 -116.158246 -481.89179  ...  -977.373846   \n",
              "1      -101.850786   89.633202 -107.268246   68.52821  ...  -962.373846   \n",
              "2      -110.740786   81.583202 -116.158246   60.47821  ...  -977.373846   \n",
              "3      -104.380786 -101.036798 -109.798246 -122.14179  ...  2064.626154   \n",
              "4      -101.850786   89.633202 -107.268246   68.52821  ...  -962.373846   \n",
              "...            ...         ...         ...        ...  ...          ...   \n",
              "831648 -110.740786  -86.226798 -116.158246 -107.33179  ...  -221.373846   \n",
              "831649 -110.740786  -86.226798 -116.158246 -107.33179  ...  -221.373846   \n",
              "831650 -110.740786  -86.226798 -116.158246 -107.33179  ...  -221.373846   \n",
              "831651  -97.520786 -175.956798 -102.938246 -197.06179  ...  -977.373846   \n",
              "831652 -110.740786  -86.226798 -116.158246 -107.33179  ...  -221.373846   \n",
              "\n",
              "                244        245        246         247         248       249  \\\n",
              "0       -613.770792 -25.996269 -37.630448 -306.747724  -25.832889 -0.694428   \n",
              "1       -612.770792 -25.996269 -33.630448    5.252276  -14.832889 -0.694428   \n",
              "2       -613.770792 -22.996269 -37.630448 -278.747724  -25.832889 -0.694428   \n",
              "3       2427.229208 -25.996269 -37.630448  -20.747724  112.167111 -0.694428   \n",
              "4       -612.770792 -25.996269 -33.630448    5.252276  -14.832889 -0.694428   \n",
              "...             ...        ...        ...         ...         ...       ...   \n",
              "831648   107.229208 -23.996269  57.369552   -6.747724  123.167111 -0.694428   \n",
              "831649   107.229208 -23.996269  57.369552   -6.747724  123.167111 -0.694428   \n",
              "831650   107.229208 -23.996269  57.369552   -6.747724  123.167111 -0.694428   \n",
              "831651  -613.770792 -25.996269 -37.630448 -306.747724  -25.832889 -0.694428   \n",
              "831652   107.229208 -23.996269  57.369552   -6.747724  123.167111 -0.694428   \n",
              "\n",
              "              250      251  252  \n",
              "0      -12.175933 -0.45614  0.0  \n",
              "1       -1.175933 -0.45614  0.0  \n",
              "2      -12.175933 -0.45614  0.0  \n",
              "3      -12.175933 -0.45614  0.0  \n",
              "4       -1.175933 -0.45614  0.0  \n",
              "...           ...      ...  ...  \n",
              "831648 -12.175933 -0.45614  1.0  \n",
              "831649 -12.175933 -0.45614  1.0  \n",
              "831650 -12.175933 -0.45614  1.0  \n",
              "831651 -12.175933 -0.45614  0.0  \n",
              "831652 -12.175933 -0.45614  1.0  \n",
              "\n",
              "[831653 rows x 252 columns]"
            ],
            "text/html": [
              "\n",
              "  <div id=\"df-3ffffcb3-522e-459a-8c69-6b6ec1d7b798\">\n",
              "    <div class=\"colab-df-container\">\n",
              "      <div>\n",
              "<style scoped>\n",
              "    .dataframe tbody tr th:only-of-type {\n",
              "        vertical-align: middle;\n",
              "    }\n",
              "\n",
              "    .dataframe tbody tr th {\n",
              "        vertical-align: top;\n",
              "    }\n",
              "\n",
              "    .dataframe thead th {\n",
              "        text-align: right;\n",
              "    }\n",
              "</style>\n",
              "<table border=\"1\" class=\"dataframe\">\n",
              "  <thead>\n",
              "    <tr style=\"text-align: right;\">\n",
              "      <th></th>\n",
              "      <th>id</th>\n",
              "      <th>vas_id</th>\n",
              "      <th>buy_time</th>\n",
              "      <th>target</th>\n",
              "      <th>0</th>\n",
              "      <th>1</th>\n",
              "      <th>2</th>\n",
              "      <th>3</th>\n",
              "      <th>4</th>\n",
              "      <th>5</th>\n",
              "      <th>...</th>\n",
              "      <th>243</th>\n",
              "      <th>244</th>\n",
              "      <th>245</th>\n",
              "      <th>246</th>\n",
              "      <th>247</th>\n",
              "      <th>248</th>\n",
              "      <th>249</th>\n",
              "      <th>250</th>\n",
              "      <th>251</th>\n",
              "      <th>252</th>\n",
              "    </tr>\n",
              "  </thead>\n",
              "  <tbody>\n",
              "    <tr>\n",
              "      <th>0</th>\n",
              "      <td>2</td>\n",
              "      <td>2.0</td>\n",
              "      <td>2018-12-23</td>\n",
              "      <td>0.0</td>\n",
              "      <td>-96.799971</td>\n",
              "      <td>-408.179112</td>\n",
              "      <td>-110.740786</td>\n",
              "      <td>-460.786798</td>\n",
              "      <td>-116.158246</td>\n",
              "      <td>-481.89179</td>\n",
              "      <td>...</td>\n",
              "      <td>-977.373846</td>\n",
              "      <td>-613.770792</td>\n",
              "      <td>-25.996269</td>\n",
              "      <td>-37.630448</td>\n",
              "      <td>-306.747724</td>\n",
              "      <td>-25.832889</td>\n",
              "      <td>-0.694428</td>\n",
              "      <td>-12.175933</td>\n",
              "      <td>-0.45614</td>\n",
              "      <td>0.0</td>\n",
              "    </tr>\n",
              "    <tr>\n",
              "      <th>1</th>\n",
              "      <td>4</td>\n",
              "      <td>1.0</td>\n",
              "      <td>2018-08-05</td>\n",
              "      <td>0.0</td>\n",
              "      <td>-96.799971</td>\n",
              "      <td>102.410888</td>\n",
              "      <td>-101.850786</td>\n",
              "      <td>89.633202</td>\n",
              "      <td>-107.268246</td>\n",
              "      <td>68.52821</td>\n",
              "      <td>...</td>\n",
              "      <td>-962.373846</td>\n",
              "      <td>-612.770792</td>\n",
              "      <td>-25.996269</td>\n",
              "      <td>-33.630448</td>\n",
              "      <td>5.252276</td>\n",
              "      <td>-14.832889</td>\n",
              "      <td>-0.694428</td>\n",
              "      <td>-1.175933</td>\n",
              "      <td>-0.45614</td>\n",
              "      <td>0.0</td>\n",
              "    </tr>\n",
              "    <tr>\n",
              "      <th>2</th>\n",
              "      <td>15</td>\n",
              "      <td>1.0</td>\n",
              "      <td>2018-08-12</td>\n",
              "      <td>0.0</td>\n",
              "      <td>-96.799971</td>\n",
              "      <td>134.190888</td>\n",
              "      <td>-110.740786</td>\n",
              "      <td>81.583202</td>\n",
              "      <td>-116.158246</td>\n",
              "      <td>60.47821</td>\n",
              "      <td>...</td>\n",
              "      <td>-977.373846</td>\n",
              "      <td>-613.770792</td>\n",
              "      <td>-22.996269</td>\n",
              "      <td>-37.630448</td>\n",
              "      <td>-278.747724</td>\n",
              "      <td>-25.832889</td>\n",
              "      <td>-0.694428</td>\n",
              "      <td>-12.175933</td>\n",
              "      <td>-0.45614</td>\n",
              "      <td>0.0</td>\n",
              "    </tr>\n",
              "    <tr>\n",
              "      <th>3</th>\n",
              "      <td>16</td>\n",
              "      <td>2.0</td>\n",
              "      <td>2018-10-28</td>\n",
              "      <td>0.0</td>\n",
              "      <td>-94.679971</td>\n",
              "      <td>-61.139112</td>\n",
              "      <td>-104.380786</td>\n",
              "      <td>-101.036798</td>\n",
              "      <td>-109.798246</td>\n",
              "      <td>-122.14179</td>\n",
              "      <td>...</td>\n",
              "      <td>2064.626154</td>\n",
              "      <td>2427.229208</td>\n",
              "      <td>-25.996269</td>\n",
              "      <td>-37.630448</td>\n",
              "      <td>-20.747724</td>\n",
              "      <td>112.167111</td>\n",
              "      <td>-0.694428</td>\n",
              "      <td>-12.175933</td>\n",
              "      <td>-0.45614</td>\n",
              "      <td>0.0</td>\n",
              "    </tr>\n",
              "    <tr>\n",
              "      <th>4</th>\n",
              "      <td>29</td>\n",
              "      <td>1.0</td>\n",
              "      <td>2018-08-05</td>\n",
              "      <td>0.0</td>\n",
              "      <td>-96.799971</td>\n",
              "      <td>102.410888</td>\n",
              "      <td>-101.850786</td>\n",
              "      <td>89.633202</td>\n",
              "      <td>-107.268246</td>\n",
              "      <td>68.52821</td>\n",
              "      <td>...</td>\n",
              "      <td>-962.373846</td>\n",
              "      <td>-612.770792</td>\n",
              "      <td>-25.996269</td>\n",
              "      <td>-33.630448</td>\n",
              "      <td>5.252276</td>\n",
              "      <td>-14.832889</td>\n",
              "      <td>-0.694428</td>\n",
              "      <td>-1.175933</td>\n",
              "      <td>-0.45614</td>\n",
              "      <td>0.0</td>\n",
              "    </tr>\n",
              "    <tr>\n",
              "      <th>...</th>\n",
              "      <td>...</td>\n",
              "      <td>...</td>\n",
              "      <td>...</td>\n",
              "      <td>...</td>\n",
              "      <td>...</td>\n",
              "      <td>...</td>\n",
              "      <td>...</td>\n",
              "      <td>...</td>\n",
              "      <td>...</td>\n",
              "      <td>...</td>\n",
              "      <td>...</td>\n",
              "      <td>...</td>\n",
              "      <td>...</td>\n",
              "      <td>...</td>\n",
              "      <td>...</td>\n",
              "      <td>...</td>\n",
              "      <td>...</td>\n",
              "      <td>...</td>\n",
              "      <td>...</td>\n",
              "      <td>...</td>\n",
              "      <td>...</td>\n",
              "    </tr>\n",
              "    <tr>\n",
              "      <th>831648</th>\n",
              "      <td>4362634</td>\n",
              "      <td>1.0</td>\n",
              "      <td>2018-12-30</td>\n",
              "      <td>0.0</td>\n",
              "      <td>-96.799971</td>\n",
              "      <td>-103.089112</td>\n",
              "      <td>-110.740786</td>\n",
              "      <td>-86.226798</td>\n",
              "      <td>-116.158246</td>\n",
              "      <td>-107.33179</td>\n",
              "      <td>...</td>\n",
              "      <td>-221.373846</td>\n",
              "      <td>107.229208</td>\n",
              "      <td>-23.996269</td>\n",
              "      <td>57.369552</td>\n",
              "      <td>-6.747724</td>\n",
              "      <td>123.167111</td>\n",
              "      <td>-0.694428</td>\n",
              "      <td>-12.175933</td>\n",
              "      <td>-0.45614</td>\n",
              "      <td>1.0</td>\n",
              "    </tr>\n",
              "    <tr>\n",
              "      <th>831649</th>\n",
              "      <td>4362640</td>\n",
              "      <td>2.0</td>\n",
              "      <td>2018-12-30</td>\n",
              "      <td>0.0</td>\n",
              "      <td>-96.799971</td>\n",
              "      <td>-103.089112</td>\n",
              "      <td>-110.740786</td>\n",
              "      <td>-86.226798</td>\n",
              "      <td>-116.158246</td>\n",
              "      <td>-107.33179</td>\n",
              "      <td>...</td>\n",
              "      <td>-221.373846</td>\n",
              "      <td>107.229208</td>\n",
              "      <td>-23.996269</td>\n",
              "      <td>57.369552</td>\n",
              "      <td>-6.747724</td>\n",
              "      <td>123.167111</td>\n",
              "      <td>-0.694428</td>\n",
              "      <td>-12.175933</td>\n",
              "      <td>-0.45614</td>\n",
              "      <td>1.0</td>\n",
              "    </tr>\n",
              "    <tr>\n",
              "      <th>831650</th>\n",
              "      <td>4362647</td>\n",
              "      <td>6.0</td>\n",
              "      <td>2018-12-30</td>\n",
              "      <td>0.0</td>\n",
              "      <td>-96.799971</td>\n",
              "      <td>-103.089112</td>\n",
              "      <td>-110.740786</td>\n",
              "      <td>-86.226798</td>\n",
              "      <td>-116.158246</td>\n",
              "      <td>-107.33179</td>\n",
              "      <td>...</td>\n",
              "      <td>-221.373846</td>\n",
              "      <td>107.229208</td>\n",
              "      <td>-23.996269</td>\n",
              "      <td>57.369552</td>\n",
              "      <td>-6.747724</td>\n",
              "      <td>123.167111</td>\n",
              "      <td>-0.694428</td>\n",
              "      <td>-12.175933</td>\n",
              "      <td>-0.45614</td>\n",
              "      <td>1.0</td>\n",
              "    </tr>\n",
              "    <tr>\n",
              "      <th>831651</th>\n",
              "      <td>4362684</td>\n",
              "      <td>5.0</td>\n",
              "      <td>2018-12-23</td>\n",
              "      <td>0.0</td>\n",
              "      <td>-86.119971</td>\n",
              "      <td>-125.889112</td>\n",
              "      <td>-97.520786</td>\n",
              "      <td>-175.956798</td>\n",
              "      <td>-102.938246</td>\n",
              "      <td>-197.06179</td>\n",
              "      <td>...</td>\n",
              "      <td>-977.373846</td>\n",
              "      <td>-613.770792</td>\n",
              "      <td>-25.996269</td>\n",
              "      <td>-37.630448</td>\n",
              "      <td>-306.747724</td>\n",
              "      <td>-25.832889</td>\n",
              "      <td>-0.694428</td>\n",
              "      <td>-12.175933</td>\n",
              "      <td>-0.45614</td>\n",
              "      <td>0.0</td>\n",
              "    </tr>\n",
              "    <tr>\n",
              "      <th>831652</th>\n",
              "      <td>4362694</td>\n",
              "      <td>2.0</td>\n",
              "      <td>2018-12-30</td>\n",
              "      <td>0.0</td>\n",
              "      <td>-96.799971</td>\n",
              "      <td>-103.089112</td>\n",
              "      <td>-110.740786</td>\n",
              "      <td>-86.226798</td>\n",
              "      <td>-116.158246</td>\n",
              "      <td>-107.33179</td>\n",
              "      <td>...</td>\n",
              "      <td>-221.373846</td>\n",
              "      <td>107.229208</td>\n",
              "      <td>-23.996269</td>\n",
              "      <td>57.369552</td>\n",
              "      <td>-6.747724</td>\n",
              "      <td>123.167111</td>\n",
              "      <td>-0.694428</td>\n",
              "      <td>-12.175933</td>\n",
              "      <td>-0.45614</td>\n",
              "      <td>1.0</td>\n",
              "    </tr>\n",
              "  </tbody>\n",
              "</table>\n",
              "<p>831653 rows × 252 columns</p>\n",
              "</div>\n",
              "      <button class=\"colab-df-convert\" onclick=\"convertToInteractive('df-3ffffcb3-522e-459a-8c69-6b6ec1d7b798')\"\n",
              "              title=\"Convert this dataframe to an interactive table.\"\n",
              "              style=\"display:none;\">\n",
              "        \n",
              "  <svg xmlns=\"http://www.w3.org/2000/svg\" height=\"24px\"viewBox=\"0 0 24 24\"\n",
              "       width=\"24px\">\n",
              "    <path d=\"M0 0h24v24H0V0z\" fill=\"none\"/>\n",
              "    <path d=\"M18.56 5.44l.94 2.06.94-2.06 2.06-.94-2.06-.94-.94-2.06-.94 2.06-2.06.94zm-11 1L8.5 8.5l.94-2.06 2.06-.94-2.06-.94L8.5 2.5l-.94 2.06-2.06.94zm10 10l.94 2.06.94-2.06 2.06-.94-2.06-.94-.94-2.06-.94 2.06-2.06.94z\"/><path d=\"M17.41 7.96l-1.37-1.37c-.4-.4-.92-.59-1.43-.59-.52 0-1.04.2-1.43.59L10.3 9.45l-7.72 7.72c-.78.78-.78 2.05 0 2.83L4 21.41c.39.39.9.59 1.41.59.51 0 1.02-.2 1.41-.59l7.78-7.78 2.81-2.81c.8-.78.8-2.07 0-2.86zM5.41 20L4 18.59l7.72-7.72 1.47 1.35L5.41 20z\"/>\n",
              "  </svg>\n",
              "      </button>\n",
              "      \n",
              "  <style>\n",
              "    .colab-df-container {\n",
              "      display:flex;\n",
              "      flex-wrap:wrap;\n",
              "      gap: 12px;\n",
              "    }\n",
              "\n",
              "    .colab-df-convert {\n",
              "      background-color: #E8F0FE;\n",
              "      border: none;\n",
              "      border-radius: 50%;\n",
              "      cursor: pointer;\n",
              "      display: none;\n",
              "      fill: #1967D2;\n",
              "      height: 32px;\n",
              "      padding: 0 0 0 0;\n",
              "      width: 32px;\n",
              "    }\n",
              "\n",
              "    .colab-df-convert:hover {\n",
              "      background-color: #E2EBFA;\n",
              "      box-shadow: 0px 1px 2px rgba(60, 64, 67, 0.3), 0px 1px 3px 1px rgba(60, 64, 67, 0.15);\n",
              "      fill: #174EA6;\n",
              "    }\n",
              "\n",
              "    [theme=dark] .colab-df-convert {\n",
              "      background-color: #3B4455;\n",
              "      fill: #D2E3FC;\n",
              "    }\n",
              "\n",
              "    [theme=dark] .colab-df-convert:hover {\n",
              "      background-color: #434B5C;\n",
              "      box-shadow: 0px 1px 3px 1px rgba(0, 0, 0, 0.15);\n",
              "      filter: drop-shadow(0px 1px 2px rgba(0, 0, 0, 0.3));\n",
              "      fill: #FFFFFF;\n",
              "    }\n",
              "  </style>\n",
              "\n",
              "      <script>\n",
              "        const buttonEl =\n",
              "          document.querySelector('#df-3ffffcb3-522e-459a-8c69-6b6ec1d7b798 button.colab-df-convert');\n",
              "        buttonEl.style.display =\n",
              "          google.colab.kernel.accessAllowed ? 'block' : 'none';\n",
              "\n",
              "        async function convertToInteractive(key) {\n",
              "          const element = document.querySelector('#df-3ffffcb3-522e-459a-8c69-6b6ec1d7b798');\n",
              "          const dataTable =\n",
              "            await google.colab.kernel.invokeFunction('convertToInteractive',\n",
              "                                                     [key], {});\n",
              "          if (!dataTable) return;\n",
              "\n",
              "          const docLinkHtml = 'Like what you see? Visit the ' +\n",
              "            '<a target=\"_blank\" href=https://colab.research.google.com/notebooks/data_table.ipynb>data table notebook</a>'\n",
              "            + ' to learn more about interactive tables.';\n",
              "          element.innerHTML = '';\n",
              "          dataTable['output_type'] = 'display_data';\n",
              "          await google.colab.output.renderOutput(dataTable, element);\n",
              "          const docLink = document.createElement('div');\n",
              "          docLink.innerHTML = docLinkHtml;\n",
              "          element.appendChild(docLink);\n",
              "        }\n",
              "      </script>\n",
              "    </div>\n",
              "  </div>\n",
              "  "
            ]
          },
          "metadata": {},
          "execution_count": 52
        }
      ]
    },
    {
      "cell_type": "markdown",
      "source": [
        "# **Модель LAMA**"
      ],
      "metadata": {
        "id": "vOuHxFjS6riA"
      }
    },
    {
      "cell_type": "code",
      "source": [
        "train_data, valid_data = train_test_split(train, \n",
        "                                          test_size=0.2, \n",
        "                                          #stratify=train['id'], \n",
        "                                          random_state=42)\n",
        "\n",
        "logging.info('Parts sizes: tr_data = {}, valid_data = {}'\n",
        "              .format(train_data.shape, valid_data.shape))"
      ],
      "metadata": {
        "id": "7jx81VOa6vB5"
      },
      "execution_count": 53,
      "outputs": []
    },
    {
      "cell_type": "code",
      "source": [
        "def f1_metric(y_true, y_pred):\n",
        "    return f1_score(y_true, (y_pred > 0.5).astype(int))\n",
        "\n",
        "task = Task('binary', metric = f1_metric)"
      ],
      "metadata": {
        "id": "7prSStyn6yJJ"
      },
      "execution_count": 54,
      "outputs": []
    },
    {
      "cell_type": "code",
      "source": [
        "automl = TabularAutoML(task = task, \n",
        "                       timeout = 600, # 600 seconds = 10 minutes\n",
        "                       cpu_limit = 8, # 4 is optimal for Kaggle kernels\n",
        "                       general_params = {'use_algos': [['linear_l2', \n",
        "                                         'lgb', 'lgb_tuned']]})"
      ],
      "metadata": {
        "id": "TXKSkyBe6zti"
      },
      "execution_count": 55,
      "outputs": []
    },
    {
      "cell_type": "code",
      "source": [
        "oof_pred = automl.fit_predict(train_data, roles = {'target': 'target', 'drop': 'buy_time'})"
      ],
      "metadata": {
        "colab": {
          "base_uri": "https://localhost:8080/"
        },
        "id": "L3jVrl2V61KV",
        "outputId": "dbcf5312-8f10-41a8-da33-ac0624f5c224"
      },
      "execution_count": 56,
      "outputs": [
        {
          "output_type": "stream",
          "name": "stderr",
          "text": [
            "INFO:lightautoml.automl.presets.base:Stdout logging level is ERROR.\n",
            "WARNING:lightautoml.utils.timer:Copying TaskTimer may affect the parent PipelineTimer, so copy will create new unlimited TaskTimer\n",
            "INFO:lightautoml.automl.presets.base:Task: binary\n",
            "\n",
            "INFO:lightautoml.automl.presets.base:Start automl preset with listed constraints:\n",
            "INFO:lightautoml.automl.presets.base:- time: 600.00 seconds\n",
            "INFO:lightautoml.automl.presets.base:- CPU: 8 cores\n",
            "INFO:lightautoml.automl.presets.base:- memory: 16 GB\n",
            "\n",
            "INFO:lightautoml.reader.base:\u001b[1mTrain data shape: (415826, 252)\u001b[0m\n",
            "\n",
            "INFO3:lightautoml.reader.base:Feats was rejected during automatic roles guess: []\n",
            "INFO:lightautoml.automl.base:Layer \u001b[1m1\u001b[0m train process start. Time left 532.84 secs\n",
            "INFO:lightautoml.ml_algo.base:Start fitting \u001b[1mLvl_0_Pipe_0_Mod_0_LinearL2\u001b[0m ...\n",
            "DEBUG:lightautoml.ml_algo.base:Training params: {'tol': 1e-06, 'max_iter': 100, 'cs': [1e-05, 5e-05, 0.0001, 0.0005, 0.001, 0.005, 0.01, 0.05, 0.1, 0.5, 1, 5, 10, 50, 100, 500, 1000, 5000, 10000, 50000, 100000], 'early_stopping': 2, 'categorical_idx': [223], 'embed_sizes': array([9], dtype=int32), 'data_size': 224}\n",
            "INFO2:lightautoml.ml_algo.base:===== Start working with \u001b[1mfold 0\u001b[0m for \u001b[1mLvl_0_Pipe_0_Mod_0_LinearL2\u001b[0m =====\n",
            "INFO3:lightautoml.ml_algo.torch_based.linear_model:Linear model: C = 1e-05 score = 0.004303923191524582\n",
            "INFO3:lightautoml.ml_algo.torch_based.linear_model:Linear model: C = 5e-05 score = 0.1311672683513839\n",
            "INFO3:lightautoml.ml_algo.torch_based.linear_model:Linear model: C = 0.0001 score = 0.14625498596543063\n",
            "INFO3:lightautoml.ml_algo.torch_based.linear_model:Linear model: C = 0.0005 score = 0.2051991150442478\n",
            "INFO3:lightautoml.ml_algo.torch_based.linear_model:Linear model: C = 0.001 score = 0.22598414617761658\n",
            "INFO3:lightautoml.ml_algo.torch_based.linear_model:Linear model: C = 0.005 score = 0.2432184510549076\n",
            "INFO3:lightautoml.ml_algo.torch_based.linear_model:Linear model: C = 0.01 score = 0.2432184510549076\n",
            "INFO3:lightautoml.ml_algo.torch_based.linear_model:Linear model: C = 0.05 score = 0.2432184510549076\n",
            "INFO2:lightautoml.ml_algo.base:===== Start working with \u001b[1mfold 1\u001b[0m for \u001b[1mLvl_0_Pipe_0_Mod_0_LinearL2\u001b[0m =====\n",
            "INFO3:lightautoml.ml_algo.torch_based.linear_model:Linear model: C = 1e-05 score = 0.006613756613756613\n",
            "INFO3:lightautoml.ml_algo.torch_based.linear_model:Linear model: C = 5e-05 score = 0.14478013760095723\n",
            "INFO3:lightautoml.ml_algo.torch_based.linear_model:Linear model: C = 0.0001 score = 0.16114854966305303\n",
            "INFO3:lightautoml.ml_algo.torch_based.linear_model:Linear model: C = 0.0005 score = 0.21731981364757466\n",
            "INFO3:lightautoml.ml_algo.torch_based.linear_model:Linear model: C = 0.001 score = 0.23674014696058784\n",
            "INFO3:lightautoml.ml_algo.torch_based.linear_model:Linear model: C = 0.005 score = 0.25670249967620773\n",
            "INFO3:lightautoml.ml_algo.torch_based.linear_model:Linear model: C = 0.01 score = 0.25670249967620773\n",
            "INFO3:lightautoml.ml_algo.torch_based.linear_model:Linear model: C = 0.05 score = 0.25670249967620773\n",
            "INFO:lightautoml.ml_algo.base:Time limit exceeded after calculating fold 1\n",
            "\n",
            "INFO:lightautoml.ml_algo.base:Fitting \u001b[1mLvl_0_Pipe_0_Mod_0_LinearL2\u001b[0m finished. score = \u001b[1m0.25\u001b[0m\n",
            "INFO:lightautoml.ml_algo.base:\u001b[1mLvl_0_Pipe_0_Mod_0_LinearL2\u001b[0m fitting and predicting completed\n",
            "INFO:lightautoml.automl.base:Time left 461.61 secs\n",
            "\n",
            "INFO3:lightautoml.ml_algo.boost_lgbm:Training until validation scores don't improve for 100 rounds\n",
            "DEBUG:lightautoml.ml_algo.boost_lgbm:[100]\tvalid's binary_logloss: 0.164349\tvalid's Opt metric: 0.25989\n",
            "DEBUG:lightautoml.ml_algo.boost_lgbm:[200]\tvalid's binary_logloss: 0.163437\tvalid's Opt metric: 0.321532\n",
            "DEBUG:lightautoml.ml_algo.boost_lgbm:Early stopping, best iteration is:\n",
            "[173]\tvalid's binary_logloss: 0.163293\tvalid's Opt metric: 0.313005\n",
            "INFO:lightautoml.ml_algo.base:\u001b[1mSelector_LightGBM\u001b[0m fitting and predicting completed\n",
            "INFO:lightautoml.ml_algo.base:Start fitting \u001b[1mLvl_0_Pipe_1_Mod_0_LightGBM\u001b[0m ...\n",
            "DEBUG:lightautoml.ml_algo.base:Training params: {'task': 'train', 'learning_rate': 0.05, 'num_leaves': 244, 'feature_fraction': 0.7, 'bagging_fraction': 0.7, 'bagging_freq': 1, 'max_depth': -1, 'verbosity': -1, 'reg_alpha': 1, 'reg_lambda': 0.0, 'min_split_gain': 0.0, 'zero_as_missing': False, 'num_threads': 2, 'max_bin': 255, 'min_data_in_bin': 3, 'num_trees': 2000, 'early_stopping_rounds': 100, 'random_state': 42}\n",
            "INFO2:lightautoml.ml_algo.base:===== Start working with \u001b[1mfold 0\u001b[0m for \u001b[1mLvl_0_Pipe_1_Mod_0_LightGBM\u001b[0m =====\n",
            "INFO3:lightautoml.ml_algo.boost_lgbm:Training until validation scores don't improve for 100 rounds\n",
            "DEBUG:lightautoml.ml_algo.boost_lgbm:[100]\tvalid's binary_logloss: 0.162748\tvalid's Opt metric: 0.261506\n",
            "DEBUG:lightautoml.ml_algo.boost_lgbm:[200]\tvalid's binary_logloss: 0.162057\tvalid's Opt metric: 0.319903\n",
            "DEBUG:lightautoml.ml_algo.boost_lgbm:Early stopping, best iteration is:\n",
            "[177]\tvalid's binary_logloss: 0.161851\tvalid's Opt metric: 0.313058\n",
            "INFO:lightautoml.ml_algo.base:Time limit exceeded after calculating fold 0\n",
            "\n",
            "INFO:lightautoml.ml_algo.base:Fitting \u001b[1mLvl_0_Pipe_1_Mod_0_LightGBM\u001b[0m finished. score = \u001b[1m0.31305837718761476\u001b[0m\n",
            "INFO:lightautoml.ml_algo.base:\u001b[1mLvl_0_Pipe_1_Mod_0_LightGBM\u001b[0m fitting and predicting completed\n",
            "INFO:lightautoml.automl.base:Time left -23.07 secs\n",
            "\n",
            "INFO:lightautoml.automl.base:Time limit exceeded. Last level models will be blended and unused pipelines will be pruned.\n",
            "\n",
            "INFO:lightautoml.automl.base:\u001b[1mLayer 1 training completed.\u001b[0m\n",
            "\n",
            "INFO:lightautoml.automl.blend:Blending: optimization starts with equal weights and score \u001b[1m0.2586746673623793\u001b[0m\n",
            "INFO:lightautoml.automl.blend:Blending: iteration \u001b[1m0\u001b[0m: score = \u001b[1m0.31305837718761476\u001b[0m, weights = \u001b[1m[0. 1.]\u001b[0m\n",
            "INFO:lightautoml.automl.blend:Blending: iteration \u001b[1m1\u001b[0m: score = \u001b[1m0.31305837718761476\u001b[0m, weights = \u001b[1m[0. 1.]\u001b[0m\n",
            "INFO:lightautoml.automl.blend:Blending: no score update. Terminated\n",
            "\n",
            "INFO:lightautoml.automl.presets.base:\u001b[1mAutoml preset training completed in 624.53 seconds\u001b[0m\n",
            "\n",
            "INFO:lightautoml.automl.presets.base:Model description:\n",
            "Final prediction for new objects (level 0) = \n",
            "\t 1.00000 * (1 averaged models Lvl_0_Pipe_1_Mod_0_LightGBM) \n",
            "\n"
          ]
        }
      ]
    },
    {
      "cell_type": "code",
      "source": [
        "valid_pred = automl.predict(valid_data)"
      ],
      "metadata": {
        "id": "bLNid0jC6224"
      },
      "execution_count": 57,
      "outputs": []
    },
    {
      "cell_type": "code",
      "source": [
        "def acc_score(y_true, y_pred):\n",
        "    return accuracy_score(y_true, (y_pred > 0.5).astype(int))\n",
        "\n",
        "print('OOF acc: {}'.format(acc_score(train_data['target'].values, oof_pred.data[:, 0])))\n",
        "print('VAL acc: {}'.format(acc_score(valid_data['target'].values, valid_pred.data[:, 0])))"
      ],
      "metadata": {
        "colab": {
          "base_uri": "https://localhost:8080/"
        },
        "id": "B0bbh9Hj64eu",
        "outputId": "b196c4b2-f6f9-47c9-f5bd-fa7aa3694019"
      },
      "execution_count": 58,
      "outputs": [
        {
          "output_type": "stream",
          "name": "stdout",
          "text": [
            "OOF acc: 0.9285302025366379\n",
            "VAL acc: 0.9319356366950678\n"
          ]
        }
      ]
    },
    {
      "cell_type": "code",
      "source": [
        "f1_score(valid_data['target'], (valid_pred.data[:, 0].astype(int)), average='macro')"
      ],
      "metadata": {
        "colab": {
          "base_uri": "https://localhost:8080/"
        },
        "id": "-2XEU4D27ChH",
        "outputId": "f5ac90d4-2161-4d15-f03f-b19915b86d09"
      },
      "execution_count": 59,
      "outputs": [
        {
          "output_type": "execute_result",
          "data": {
            "text/plain": [
              "0.48125438965270756"
            ]
          },
          "metadata": {},
          "execution_count": 59
        }
      ]
    },
    {
      "cell_type": "markdown",
      "source": [
        "# **LAMA + stacking**"
      ],
      "metadata": {
        "id": "lR8YO4OW7PSa"
      }
    },
    {
      "cell_type": "code",
      "source": [
        "automl = TabularUtilizedAutoML(task = task, \n",
        "                       timeout = 600, # 600 seconds = 10 minutes\n",
        "                       cpu_limit = 8, # 4 is optimal for Kaggle kernels\n",
        "                       general_params = {'use_algos': [['linear_l2', 'lgb', 'cb'], ['lgb_tuned', 'cb']]})"
      ],
      "metadata": {
        "id": "t8599E7N7UZR"
      },
      "execution_count": 60,
      "outputs": []
    },
    {
      "cell_type": "code",
      "source": [
        "oof_pred = automl.fit_predict(train_data, roles = {'target': 'target', 'drop': 'buy_time'})"
      ],
      "metadata": {
        "colab": {
          "base_uri": "https://localhost:8080/"
        },
        "id": "5kKeDMLG7WQH",
        "outputId": "df998204-54af-4ece-d251-27ff8a324c40"
      },
      "execution_count": 61,
      "outputs": [
        {
          "output_type": "stream",
          "name": "stderr",
          "text": [
            "INFO:lightautoml.addons.utilization.utilization:Start automl \u001b[1mutilizator\u001b[0m with listed constraints:\n",
            "INFO:lightautoml.addons.utilization.utilization:- time: 600.00 seconds\n",
            "INFO:lightautoml.addons.utilization.utilization:- CPU: 8 cores\n",
            "INFO:lightautoml.addons.utilization.utilization:- memory: 16 GB\n",
            "\n",
            "INFO:lightautoml.addons.utilization.utilization:\u001b[1mIf one preset completes earlier, next preset configuration will be started\u001b[0m\n",
            "\n",
            "INFO:lightautoml.addons.utilization.utilization:==================================================\n",
            "INFO:lightautoml.addons.utilization.utilization:Start 0 automl preset configuration:\n",
            "INFO:lightautoml.addons.utilization.utilization:\u001b[1mconf_0_sel_type_0.yml\u001b[0m, random state: {'reader_params': {'random_state': 42}, 'general_params': {'return_all_predictions': False}}\n",
            "INFO3:lightautoml.addons.utilization.utilization:Found general_params in kwargs, need to combine\n",
            "INFO3:lightautoml.addons.utilization.utilization:Merged variant for general_params = {'use_algos': [['linear_l2', 'lgb', 'cb'], ['lgb_tuned', 'cb']], 'return_all_predictions': False}\n",
            "INFO:lightautoml.automl.presets.base:Stdout logging level is ERROR.\n",
            "INFO:lightautoml.automl.presets.base:Task: binary\n",
            "\n",
            "INFO:lightautoml.automl.presets.base:Start automl preset with listed constraints:\n",
            "INFO:lightautoml.automl.presets.base:- time: 599.99 seconds\n",
            "INFO:lightautoml.automl.presets.base:- CPU: 8 cores\n",
            "INFO:lightautoml.automl.presets.base:- memory: 16 GB\n",
            "\n",
            "INFO:lightautoml.reader.base:\u001b[1mTrain data shape: (415826, 252)\u001b[0m\n",
            "\n",
            "INFO3:lightautoml.reader.base:Feats was rejected during automatic roles guess: []\n",
            "INFO:lightautoml.automl.base:Layer \u001b[1m1\u001b[0m train process start. Time left 539.30 secs\n",
            "INFO:lightautoml.ml_algo.base:Start fitting \u001b[1mLvl_0_Pipe_0_Mod_0_LinearL2\u001b[0m ...\n",
            "DEBUG:lightautoml.ml_algo.base:Training params: {'tol': 1e-06, 'max_iter': 100, 'cs': [1e-05, 5e-05, 0.0001, 0.0005, 0.001, 0.005, 0.01, 0.05, 0.1, 0.5, 1, 5, 10, 50, 100, 500, 1000, 5000, 10000, 50000, 100000], 'early_stopping': 2, 'categorical_idx': [223], 'embed_sizes': array([9], dtype=int32), 'data_size': 224}\n",
            "INFO2:lightautoml.ml_algo.base:===== Start working with \u001b[1mfold 0\u001b[0m for \u001b[1mLvl_0_Pipe_0_Mod_0_LinearL2\u001b[0m =====\n",
            "INFO3:lightautoml.ml_algo.torch_based.linear_model:Linear model: C = 1e-05 score = 0.004303923191524582\n",
            "INFO3:lightautoml.ml_algo.torch_based.linear_model:Linear model: C = 5e-05 score = 0.13096492548547342\n",
            "INFO3:lightautoml.ml_algo.torch_based.linear_model:Linear model: C = 0.0001 score = 0.1470327723649247\n",
            "INFO3:lightautoml.ml_algo.torch_based.linear_model:Linear model: C = 0.0005 score = 0.2033804377944029\n",
            "INFO3:lightautoml.ml_algo.torch_based.linear_model:Linear model: C = 0.001 score = 0.22776659959758555\n",
            "INFO3:lightautoml.ml_algo.torch_based.linear_model:Linear model: C = 0.005 score = 0.24344863731656186\n",
            "INFO3:lightautoml.ml_algo.torch_based.linear_model:Linear model: C = 0.01 score = 0.24344863731656186\n",
            "INFO3:lightautoml.ml_algo.torch_based.linear_model:Linear model: C = 0.05 score = 0.24344863731656186\n",
            "INFO2:lightautoml.ml_algo.base:===== Start working with \u001b[1mfold 1\u001b[0m for \u001b[1mLvl_0_Pipe_0_Mod_0_LinearL2\u001b[0m =====\n",
            "INFO3:lightautoml.ml_algo.torch_based.linear_model:Linear model: C = 1e-05 score = 0.006613756613756613\n",
            "INFO3:lightautoml.ml_algo.torch_based.linear_model:Linear model: C = 5e-05 score = 0.14478013760095723\n",
            "INFO3:lightautoml.ml_algo.torch_based.linear_model:Linear model: C = 0.0001 score = 0.16114854966305303\n",
            "INFO3:lightautoml.ml_algo.torch_based.linear_model:Linear model: C = 0.0005 score = 0.2161272627537027\n",
            "INFO3:lightautoml.ml_algo.torch_based.linear_model:Linear model: C = 0.001 score = 0.23782196716935805\n",
            "INFO3:lightautoml.ml_algo.torch_based.linear_model:Linear model: C = 0.005 score = 0.2547390288236821\n",
            "INFO3:lightautoml.ml_algo.torch_based.linear_model:Linear model: C = 0.01 score = 0.2547390288236821\n",
            "INFO3:lightautoml.ml_algo.torch_based.linear_model:Linear model: C = 0.05 score = 0.2547390288236821\n",
            "INFO:lightautoml.ml_algo.base:Time limit exceeded after calculating fold 1\n",
            "\n",
            "INFO:lightautoml.ml_algo.base:Fitting \u001b[1mLvl_0_Pipe_0_Mod_0_LinearL2\u001b[0m finished. score = \u001b[1m0.2491196034955002\u001b[0m\n",
            "INFO:lightautoml.ml_algo.base:\u001b[1mLvl_0_Pipe_0_Mod_0_LinearL2\u001b[0m fitting and predicting completed\n",
            "INFO:lightautoml.automl.base:Time left 467.69 secs\n",
            "\n",
            "INFO:lightautoml.ml_algo.base:Start fitting \u001b[1mLvl_0_Pipe_1_Mod_0_LightGBM\u001b[0m ...\n",
            "DEBUG:lightautoml.ml_algo.base:Training params: {'task': 'train', 'learning_rate': 0.05, 'num_leaves': 244, 'feature_fraction': 0.7, 'bagging_fraction': 0.7, 'bagging_freq': 1, 'max_depth': -1, 'verbosity': -1, 'reg_alpha': 1, 'reg_lambda': 0.0, 'min_split_gain': 0.0, 'zero_as_missing': False, 'num_threads': 2, 'max_bin': 255, 'min_data_in_bin': 3, 'num_trees': 2000, 'early_stopping_rounds': 100, 'random_state': 42}\n",
            "INFO2:lightautoml.ml_algo.base:===== Start working with \u001b[1mfold 0\u001b[0m for \u001b[1mLvl_0_Pipe_1_Mod_0_LightGBM\u001b[0m =====\n",
            "INFO3:lightautoml.ml_algo.boost_lgbm:Training until validation scores don't improve for 100 rounds\n",
            "DEBUG:lightautoml.ml_algo.boost_lgbm:[100]\tvalid's binary_logloss: 0.162564\tvalid's Opt metric: 0.252391\n",
            "DEBUG:lightautoml.ml_algo.boost_lgbm:[200]\tvalid's binary_logloss: 0.161984\tvalid's Opt metric: 0.311994\n",
            "DEBUG:lightautoml.ml_algo.boost_lgbm:Early stopping, best iteration is:\n",
            "[159]\tvalid's binary_logloss: 0.161718\tvalid's Opt metric: 0.296948\n",
            "INFO:lightautoml.ml_algo.base:Time limit exceeded after calculating fold 0\n",
            "\n",
            "INFO:lightautoml.ml_algo.base:Fitting \u001b[1mLvl_0_Pipe_1_Mod_0_LightGBM\u001b[0m finished. score = \u001b[1m0.29694761964577315\u001b[0m\n",
            "INFO:lightautoml.ml_algo.base:\u001b[1mLvl_0_Pipe_1_Mod_0_LightGBM\u001b[0m fitting and predicting completed\n",
            "INFO:lightautoml.ml_algo.base:Start fitting \u001b[1mLvl_0_Pipe_1_Mod_1_CatBoost\u001b[0m ...\n",
            "DEBUG:lightautoml.ml_algo.base:Training params: {'task_type': 'CPU', 'thread_count': 2, 'random_seed': 42, 'num_trees': 3000, 'learning_rate': 0.05, 'l2_leaf_reg': 0.01, 'bootstrap_type': 'Bernoulli', 'grow_policy': 'SymmetricTree', 'max_depth': 5, 'min_data_in_leaf': 1, 'one_hot_max_size': 10, 'fold_permutation_block': 1, 'boosting_type': 'Plain', 'boost_from_average': True, 'od_type': 'Iter', 'od_wait': 100, 'max_bin': 32, 'feature_border_type': 'GreedyLogSum', 'nan_mode': 'Min', 'verbose': 100, 'allow_writing_files': False}\n",
            "INFO2:lightautoml.ml_algo.base:===== Start working with \u001b[1mfold 0\u001b[0m for \u001b[1mLvl_0_Pipe_1_Mod_1_CatBoost\u001b[0m =====\n",
            "INFO3:lightautoml.ml_algo.boost_cb:0:\tlearn: 0.6143883\ttest: 0.6130569\tbest: 0.6130569 (0)\ttotal: 328ms\tremaining: 16m 24s\n",
            "DEBUG:lightautoml.ml_algo.boost_cb:100:\tlearn: 0.1701646\ttest: 0.1711913\tbest: 0.1711913 (100)\ttotal: 30.2s\tremaining: 14m 25s\n",
            "DEBUG:lightautoml.ml_algo.boost_cb:200:\tlearn: 0.1684531\ttest: 0.1701499\tbest: 0.1701499 (200)\ttotal: 54.9s\tremaining: 12m 45s\n",
            "DEBUG:lightautoml.ml_algo.boost_cb:300:\tlearn: 0.1670633\ttest: 0.1695036\tbest: 0.1695036 (300)\ttotal: 1m 18s\tremaining: 11m 45s\n",
            "DEBUG:lightautoml.ml_algo.boost_cb:400:\tlearn: 0.1658623\ttest: 0.1691272\tbest: 0.1691201 (395)\ttotal: 1m 45s\tremaining: 11m 26s\n",
            "DEBUG:lightautoml.ml_algo.boost_cb:500:\tlearn: 0.1648008\ttest: 0.1688157\tbest: 0.1688157 (500)\ttotal: 2m 10s\tremaining: 10m 50s\n",
            "DEBUG:lightautoml.ml_algo.boost_cb:600:\tlearn: 0.1638027\ttest: 0.1686403\tbest: 0.1686403 (600)\ttotal: 2m 34s\tremaining: 10m 15s\n",
            "DEBUG:lightautoml.ml_algo.boost_cb:700:\tlearn: 0.1628987\ttest: 0.1685251\tbest: 0.1685009 (691)\ttotal: 2m 57s\tremaining: 9m 42s\n",
            "DEBUG:lightautoml.ml_algo.boost_cb:800:\tlearn: 0.1620220\ttest: 0.1683278\tbest: 0.1683278 (800)\ttotal: 3m 24s\tremaining: 9m 21s\n",
            "DEBUG:lightautoml.ml_algo.boost_cb:900:\tlearn: 0.1611728\ttest: 0.1681863\tbest: 0.1681842 (897)\ttotal: 3m 49s\tremaining: 8m 55s\n",
            "DEBUG:lightautoml.ml_algo.boost_cb:1000:\tlearn: 0.1603510\ttest: 0.1681596\tbest: 0.1681546 (975)\ttotal: 4m 13s\tremaining: 8m 26s\n",
            "DEBUG:lightautoml.ml_algo.boost_cb:1100:\tlearn: 0.1595731\ttest: 0.1680228\tbest: 0.1680228 (1100)\ttotal: 4m 37s\tremaining: 7m 58s\n",
            "DEBUG:lightautoml.ml_algo.boost_cb:1200:\tlearn: 0.1588035\ttest: 0.1678799\tbest: 0.1678799 (1200)\ttotal: 5m 5s\tremaining: 7m 37s\n",
            "DEBUG:lightautoml.ml_algo.boost_cb:1300:\tlearn: 0.1580788\ttest: 0.1678336\tbest: 0.1678259 (1293)\ttotal: 5m 29s\tremaining: 7m 10s\n",
            "DEBUG:lightautoml.ml_algo.boost_cb:1400:\tlearn: 0.1573277\ttest: 0.1677977\tbest: 0.1677964 (1399)\ttotal: 5m 53s\tremaining: 6m 43s\n",
            "DEBUG:lightautoml.ml_algo.boost_cb:1500:\tlearn: 0.1566031\ttest: 0.1677079\tbest: 0.1677005 (1496)\ttotal: 6m 20s\tremaining: 6m 19s\n",
            "DEBUG:lightautoml.ml_algo.boost_cb:1600:\tlearn: 0.1558791\ttest: 0.1676575\tbest: 0.1676457 (1584)\ttotal: 6m 45s\tremaining: 5m 54s\n",
            "DEBUG:lightautoml.ml_algo.boost_cb:1700:\tlearn: 0.1551790\ttest: 0.1675421\tbest: 0.1675296 (1687)\ttotal: 7m 9s\tremaining: 5m 28s\n",
            "DEBUG:lightautoml.ml_algo.boost_cb:1800:\tlearn: 0.1545250\ttest: 0.1675124\tbest: 0.1675080 (1761)\ttotal: 7m 33s\tremaining: 5m 2s\n",
            "DEBUG:lightautoml.ml_algo.boost_cb:1900:\tlearn: 0.1538189\ttest: 0.1674393\tbest: 0.1674263 (1893)\ttotal: 8m 2s\tremaining: 4m 38s\n",
            "DEBUG:lightautoml.ml_algo.boost_cb:2000:\tlearn: 0.1531247\ttest: 0.1673932\tbest: 0.1673932 (2000)\ttotal: 8m 26s\tremaining: 4m 12s\n",
            "DEBUG:lightautoml.ml_algo.boost_cb:2100:\tlearn: 0.1524979\ttest: 0.1674170\tbest: 0.1673927 (2005)\ttotal: 8m 50s\tremaining: 3m 47s\n",
            "INFO3:lightautoml.ml_algo.boost_cb:Stopped by overfitting detector  (100 iterations wait)\n",
            "INFO3:lightautoml.ml_algo.boost_cb:bestTest = 0.1673927365\n",
            "INFO3:lightautoml.ml_algo.boost_cb:bestIteration = 2005\n",
            "INFO3:lightautoml.ml_algo.boost_cb:Shrink model to first 2006 iterations.\n",
            "INFO:lightautoml.ml_algo.base:Time limit exceeded after calculating fold 0\n",
            "\n",
            "INFO:lightautoml.ml_algo.base:Fitting \u001b[1mLvl_0_Pipe_1_Mod_1_CatBoost\u001b[0m finished. score = \u001b[1m0.24621859792187292\u001b[0m\n",
            "INFO:lightautoml.ml_algo.base:\u001b[1mLvl_0_Pipe_1_Mod_1_CatBoost\u001b[0m fitting and predicting completed\n",
            "INFO:lightautoml.automl.base:Time left -253.17 secs\n",
            "\n",
            "INFO:lightautoml.automl.base:Time limit exceeded. Last level models will be blended and unused pipelines will be pruned.\n",
            "\n",
            "INFO:lightautoml.automl.base:\u001b[1mLayer 1 training completed.\u001b[0m\n",
            "\n",
            "INFO:lightautoml.automl.blend:Blending: optimization starts with equal weights and score \u001b[1m0.2471169686985173\u001b[0m\n",
            "INFO:lightautoml.automl.blend:Blending: iteration \u001b[1m0\u001b[0m: score = \u001b[1m0.29694761964577315\u001b[0m, weights = \u001b[1m[0. 1. 0.]\u001b[0m\n",
            "INFO:lightautoml.automl.blend:Blending: iteration \u001b[1m1\u001b[0m: score = \u001b[1m0.29694761964577315\u001b[0m, weights = \u001b[1m[0. 1. 0.]\u001b[0m\n",
            "INFO:lightautoml.automl.blend:Blending: no score update. Terminated\n",
            "\n",
            "INFO:lightautoml.automl.presets.base:\u001b[1mAutoml preset training completed in 856.90 seconds\u001b[0m\n",
            "\n",
            "INFO:lightautoml.automl.presets.base:Model description:\n",
            "Final prediction for new objects (level 0) = \n",
            "\t 1.00000 * (1 averaged models Lvl_0_Pipe_1_Mod_0_LightGBM) \n",
            "\n",
            "INFO:lightautoml.addons.utilization.utilization:==================================================\n"
          ]
        }
      ]
    },
    {
      "cell_type": "code",
      "source": [
        "valid_pred = automl.predict(valid_data)"
      ],
      "metadata": {
        "id": "DF1CqrzW7X86"
      },
      "execution_count": 62,
      "outputs": []
    },
    {
      "cell_type": "code",
      "source": [
        "def acc_score(y_true, y_pred):\n",
        "    return accuracy_score(y_true, (y_pred > 0.5).astype(int))\n",
        "\n",
        "print('OOF acc: {}'.format(acc_score(train_data['target'].values, oof_pred.data[:, 0])))\n",
        "print('VAL acc: {}'.format(acc_score(valid_data['target'].values, valid_pred.data[:, 0])))"
      ],
      "metadata": {
        "colab": {
          "base_uri": "https://localhost:8080/"
        },
        "id": "A2W83hWp7Zxo",
        "outputId": "3652402f-b698-43c2-dd4b-5e06c660ed43"
      },
      "execution_count": 63,
      "outputs": [
        {
          "output_type": "stream",
          "name": "stdout",
          "text": [
            "OOF acc: 0.9285686801691092\n",
            "VAL acc: 0.9320823323160834\n"
          ]
        }
      ]
    },
    {
      "cell_type": "code",
      "source": [
        "f1_score(valid_data['target'], (valid_pred.data[:, 0].astype(int)), average='macro')"
      ],
      "metadata": {
        "colab": {
          "base_uri": "https://localhost:8080/"
        },
        "id": "aFTe1bQG7baI",
        "outputId": "0e9c9ae9-a374-4603-a005-8e86adb43a6f"
      },
      "execution_count": 64,
      "outputs": [
        {
          "output_type": "execute_result",
          "data": {
            "text/plain": [
              "0.48125438965270756"
            ]
          },
          "metadata": {},
          "execution_count": 64
        }
      ]
    },
    {
      "cell_type": "markdown",
      "source": [
        "# **Объединение merge_asof backward**"
      ],
      "metadata": {
        "id": "PDba-ugx7eR6"
      }
    },
    {
      "cell_type": "code",
      "source": [
        "train = pd.merge_asof(train.sort_values(by=['id']), \n",
        "                       features.sort_values(by=['id']), \n",
        "                       on='id', \n",
        "                       by='buy_time', \n",
        "                       direction='backward')\n",
        "train"
      ],
      "metadata": {
        "id": "sNUweL7P7c7q"
      },
      "execution_count": null,
      "outputs": []
    },
    {
      "cell_type": "markdown",
      "source": [
        "# **Модель LAMA**"
      ],
      "metadata": {
        "id": "8Jwg5OBk7j_o"
      }
    },
    {
      "cell_type": "code",
      "source": [
        "train_data, valid_data = train_test_split(train, \n",
        "                                          test_size=0.2, \n",
        "                                          #stratify=train['id'], \n",
        "                                          random_state=42)\n",
        "\n",
        "logging.info('Parts sizes: tr_data = {}, valid_data = {}'\n",
        "              .format(train_data.shape, valid_data.shape))"
      ],
      "metadata": {
        "id": "9accKD557okw"
      },
      "execution_count": null,
      "outputs": []
    },
    {
      "cell_type": "code",
      "source": [
        "def f1_metric(y_true, y_pred):\n",
        "    return f1_score(y_true, (y_pred > 0.5).astype(int))\n",
        "\n",
        "task = Task('binary', metric = f1_metric)"
      ],
      "metadata": {
        "id": "9y22sF0J7qDI"
      },
      "execution_count": null,
      "outputs": []
    },
    {
      "cell_type": "code",
      "source": [
        "automl = TabularAutoML(task = task, \n",
        "                       timeout = 600, # 600 seconds = 10 minutes\n",
        "                       cpu_limit = 8, # 4 is optimal for Kaggle kernels\n",
        "                       general_params = {'use_algos': [['linear_l2', \n",
        "                                         'lgb', 'lgb_tuned']]})"
      ],
      "metadata": {
        "id": "BNh57Af37rZJ"
      },
      "execution_count": null,
      "outputs": []
    },
    {
      "cell_type": "code",
      "source": [
        "oof_pred = automl.fit_predict(train_data, roles = {'target': 'target', 'drop': 'buy_time'})"
      ],
      "metadata": {
        "id": "PYdJrEFe7tDQ"
      },
      "execution_count": null,
      "outputs": []
    },
    {
      "cell_type": "code",
      "source": [
        "valid_pred = automl.predict(valid_data)"
      ],
      "metadata": {
        "id": "jdFMl41w7uYL"
      },
      "execution_count": null,
      "outputs": []
    },
    {
      "cell_type": "code",
      "source": [
        "def acc_score(y_true, y_pred):\n",
        "    return accuracy_score(y_true, (y_pred > 0.5).astype(int))\n",
        "\n",
        "print('OOF acc: {}'.format(acc_score(train_data['target'].values, oof_pred.data[:, 0])))\n",
        "print('VAL acc: {}'.format(acc_score(valid_data['target'].values, valid_pred.data[:, 0])))"
      ],
      "metadata": {
        "id": "W1SobmAE7wKY"
      },
      "execution_count": null,
      "outputs": []
    },
    {
      "cell_type": "markdown",
      "source": [
        "# **Объединение merge_asof forward**"
      ],
      "metadata": {
        "id": "ywfzQcwf7y6Q"
      }
    },
    {
      "cell_type": "code",
      "source": [
        "train = pd.merge_asof(train.sort_values(by=['id']), \n",
        "                       features.sort_values(by=['id']), \n",
        "                       on='id', \n",
        "                       by='buy_time', \n",
        "                       direction='forward')\n",
        "train"
      ],
      "metadata": {
        "id": "HBvBTW6J713o"
      },
      "execution_count": null,
      "outputs": []
    },
    {
      "cell_type": "markdown",
      "source": [
        "# **Модель LAMA**"
      ],
      "metadata": {
        "id": "24PhghuT75DJ"
      }
    },
    {
      "cell_type": "code",
      "source": [
        "train_data, valid_data = train_test_split(train, \n",
        "                                          test_size=0.2, \n",
        "                                          #stratify=train['id'], \n",
        "                                          random_state=42)\n",
        "\n",
        "logging.info('Parts sizes: tr_data = {}, valid_data = {}'\n",
        "              .format(train_data.shape, valid_data.shape))"
      ],
      "metadata": {
        "id": "MAPehhhr78PB"
      },
      "execution_count": null,
      "outputs": []
    },
    {
      "cell_type": "code",
      "source": [
        "def f1_metric(y_true, y_pred):\n",
        "    return f1_score(y_true, (y_pred > 0.5).astype(int))\n",
        "\n",
        "task = Task('binary', metric = f1_metric)"
      ],
      "metadata": {
        "id": "ziOynD7J79mq"
      },
      "execution_count": null,
      "outputs": []
    },
    {
      "cell_type": "code",
      "source": [
        "automl = TabularAutoML(task = task, \n",
        "                       timeout = 600, # 600 seconds = 10 minutes\n",
        "                       cpu_limit = 8, # 4 is optimal for Kaggle kernels\n",
        "                       general_params = {'use_algos': [['linear_l2', \n",
        "                                         'lgb', 'lgb_tuned']]})"
      ],
      "metadata": {
        "id": "vlESSDtm7_T9"
      },
      "execution_count": null,
      "outputs": []
    },
    {
      "cell_type": "code",
      "source": [
        "oof_pred = automl.fit_predict(train_data, roles = {'target': 'target', 'drop': 'buy_time'})"
      ],
      "metadata": {
        "id": "KerFt1BC8Aw0"
      },
      "execution_count": null,
      "outputs": []
    },
    {
      "cell_type": "code",
      "source": [
        "valid_pred = automl.predict(valid_data)"
      ],
      "metadata": {
        "id": "ab_4236G8CGM"
      },
      "execution_count": null,
      "outputs": []
    },
    {
      "cell_type": "code",
      "source": [
        "def acc_score(y_true, y_pred):\n",
        "    return accuracy_score(y_true, (y_pred > 0.5).astype(int))\n",
        "\n",
        "print('OOF acc: {}'.format(acc_score(train_data['target'].values, oof_pred.data[:, 0])))\n",
        "print('VAL acc: {}'.format(acc_score(valid_data['target'].values, valid_pred.data[:, 0])))"
      ],
      "metadata": {
        "id": "Pm8HxZ9l8Dr6"
      },
      "execution_count": null,
      "outputs": []
    },
    {
      "cell_type": "code",
      "source": [
        "f1_score(valid_data['target'], (valid_pred.data[:, 0].astype(int)), average='macro')"
      ],
      "metadata": {
        "id": "Fj4cctVo8FJ3"
      },
      "execution_count": null,
      "outputs": []
    },
    {
      "cell_type": "markdown",
      "source": [
        "# **Дублирование 'id'**"
      ],
      "metadata": {
        "id": "tsyDO7rv8HSN"
      }
    },
    {
      "cell_type": "markdown",
      "source": [
        "**Нужно будет оставить дубли по id и закодировать время как число.**"
      ],
      "metadata": {
        "id": "iLun8x8p8KUb"
      }
    },
    {
      "cell_type": "code",
      "source": [
        "features['id'].duplicated().value_counts()"
      ],
      "metadata": {
        "id": "P4ispuyt8N2r"
      },
      "execution_count": null,
      "outputs": []
    },
    {
      "cell_type": "code",
      "source": [
        "train['id'].duplicated().value_counts()"
      ],
      "metadata": {
        "id": "jV-jbrWN8Qp6"
      },
      "execution_count": null,
      "outputs": []
    },
    {
      "cell_type": "markdown",
      "source": [
        "**Вывод:** видим, что дублирующиеся id в трейне/тесте в большинестве случаев не дублируются в features и наоборот."
      ],
      "metadata": {
        "id": "FGbYFpjd8P1q"
      }
    },
    {
      "cell_type": "code",
      "source": [
        "train.head(3)"
      ],
      "metadata": {
        "id": "O_D1iqBY8dDU"
      },
      "execution_count": null,
      "outputs": []
    },
    {
      "cell_type": "code",
      "source": [
        "features.head(3)"
      ],
      "metadata": {
        "id": "RllaUfwW8khi"
      },
      "execution_count": null,
      "outputs": []
    },
    {
      "cell_type": "code",
      "source": [
        "train[train['id'] == 870]"
      ],
      "metadata": {
        "id": "zYvtXm-48ooE"
      },
      "execution_count": null,
      "outputs": []
    },
    {
      "cell_type": "code",
      "source": [
        "features[features['id'] == 870]"
      ],
      "metadata": {
        "id": "ZDb53vs88rs9"
      },
      "execution_count": null,
      "outputs": []
    },
    {
      "cell_type": "code",
      "source": [
        "ids = train[\"id\"]\n",
        "train_dub = train[ids.isin(ids[ids.duplicated()])].sort_values('id')\n",
        "train_dub"
      ],
      "metadata": {
        "id": "gDRoM1wN8tqe"
      },
      "execution_count": null,
      "outputs": []
    },
    {
      "cell_type": "code",
      "source": [
        "ids = features[\"id\"]\n",
        "features_dub = features[ids.isin(ids[ids.duplicated()])].sort_values('id')\n",
        "features_dub"
      ],
      "metadata": {
        "id": "FjjZOVWv8vK8"
      },
      "execution_count": null,
      "outputs": []
    },
    {
      "cell_type": "code",
      "source": [
        "both_df_dub = train_dub[train_dub['id'].isin(features_dub['id'])]\n",
        "both_df_dub"
      ],
      "metadata": {
        "id": "TKjrfexB8w_i"
      },
      "execution_count": null,
      "outputs": []
    },
    {
      "cell_type": "code",
      "source": [
        "train[train['id'] == 3267]"
      ],
      "metadata": {
        "id": "LoPfc48o8zO1"
      },
      "execution_count": null,
      "outputs": []
    },
    {
      "cell_type": "code",
      "source": [
        "features[features['id'] == 3267]"
      ],
      "metadata": {
        "id": "wBfhSnTs81Z7"
      },
      "execution_count": null,
      "outputs": []
    },
    {
      "cell_type": "markdown",
      "source": [
        "# **XGBoost**"
      ],
      "metadata": {
        "id": "r5tANrqP83Vu"
      }
    },
    {
      "cell_type": "markdown",
      "source": [
        "**hold out**"
      ],
      "metadata": {
        "id": "hm7-HZ5b86t6"
      }
    },
    {
      "cell_type": "code",
      "source": [
        "X_train, X_test, y_train, y_test = train_test_split(\n",
        "     train.drop(['target', 'buy_time'], axis=1),\n",
        "     train['target'], test_size=0.25, shuffle=True,random_state=42)\n",
        "\n",
        "\n",
        "print(\"X_train.shape = {} rows, {} cols\".format(*X_train.shape))\n",
        "print(\"X_test.shape = {} rows, {} cols\".format(*X_test.shape))"
      ],
      "metadata": {
        "id": "ib3MADRu8-eh"
      },
      "execution_count": null,
      "outputs": []
    },
    {
      "cell_type": "code",
      "source": [
        "params = {\n",
        "        \"objective\": \"binary:logistic\",\n",
        "        \"booster\" : \"gbtree\",\n",
        "        \"eval_metric\": \"auc\",\n",
        "        \"seed\": 42,\n",
        "        'use_label_encoder': False\n",
        "    }\n",
        "\n",
        "model = xgb.XGBClassifier(**params)\n",
        "\n",
        "model.fit(X_train, y_train.astype(int))"
      ],
      "metadata": {
        "id": "twhqVo0v9ARb"
      },
      "execution_count": null,
      "outputs": []
    },
    {
      "cell_type": "code",
      "source": [
        "train_pred = model.predict(X_train)\n",
        "test_pred = model.predict(X_test)"
      ],
      "metadata": {
        "id": "mD_tWKuo9CQc"
      },
      "execution_count": null,
      "outputs": []
    },
    {
      "cell_type": "code",
      "source": [
        "train_pred"
      ],
      "metadata": {
        "id": "bH8jrGa49Dsb"
      },
      "execution_count": null,
      "outputs": []
    },
    {
      "cell_type": "code",
      "source": [
        "(train_pred > 0.5).astype(int)"
      ],
      "metadata": {
        "id": "oLjk3xQC9E_T"
      },
      "execution_count": null,
      "outputs": []
    },
    {
      "cell_type": "code",
      "source": [
        "plt.hist(train_pred);"
      ],
      "metadata": {
        "id": "WaXXBXBd9Gck"
      },
      "execution_count": null,
      "outputs": []
    },
    {
      "cell_type": "code",
      "source": [
        "train_score = f1_score(y_train, train_pred, average='macro')\n",
        "test_score = f1_score(y_test, test_pred, average='macro')\n",
        "\n",
        "print(f\"Train-score: {round(train_score, 4)}, Test-score: {round(test_score, 4)}\")"
      ],
      "metadata": {
        "id": "mufsnI4Z9Iqi"
      },
      "execution_count": null,
      "outputs": []
    },
    {
      "cell_type": "markdown",
      "source": [
        "# **Cross-Validation**"
      ],
      "metadata": {
        "id": "8WWptEKY9KKd"
      }
    },
    {
      "cell_type": "code",
      "source": [
        "def make_cross_validation(X: pd.DataFrame,\n",
        "                          y: pd.Series,\n",
        "                          estimator: object,\n",
        "                          metric: callable,\n",
        "                          cv_strategy):\n",
        "    \"\"\"\n",
        "    Кросс-валидация.\n",
        "\n",
        "    Parameters\n",
        "    ----------\n",
        "    X: pd.DataFrame\n",
        "        Матрица признаков.\n",
        "\n",
        "    y: pd.Series\n",
        "        Вектор целевой переменной.\n",
        "\n",
        "    estimator: callable\n",
        "        Объект модели для обучения.\n",
        "\n",
        "    metric: callable\n",
        "        Метрика для оценки качества решения.\n",
        "        Ожидается, что на вход будет передана функция,\n",
        "        которая принимает 2 аргумента: y_true, y_pred.\n",
        "\n",
        "    cv_strategy: cross-validation generator\n",
        "        Объект для описания стратегии кросс-валидации.\n",
        "        Ожидается, что на вход будет передан объект типа\n",
        "        KFold или StratifiedKFold.\n",
        "\n",
        "    Returns\n",
        "    -------\n",
        "    oof_score: float\n",
        "        Значение метрики качества на OOF-прогнозах.\n",
        "\n",
        "    fold_train_scores: List[float]\n",
        "        Значение метрики качества на каждом обучающем датасете кросс-валидации.\n",
        "\n",
        "    fold_valid_scores: List[float]\n",
        "        Значение метрики качества на каждом валидационном датасете кросс-валидации.\n",
        "\n",
        "    oof_predictions: np.array\n",
        "        Прогнозы на OOF.\n",
        "\n",
        "    \"\"\"\n",
        "    estimators, fold_train_scores, fold_valid_scores = [], [], []\n",
        "    oof_predictions = np.zeros(X.shape[0])\n",
        "\n",
        "    for fold_number, (train_idx, valid_idx) in enumerate(cv_strategy.split(X, y)):\n",
        "        x_train, x_valid = X.loc[train_idx], X.loc[valid_idx]\n",
        "        y_train, y_valid = y.loc[train_idx], y.loc[valid_idx]\n",
        "\n",
        "        estimator.fit(x_train, y_train)\n",
        "        y_train_pred = estimator.predict(x_train)\n",
        "        y_valid_pred = estimator.predict(x_valid)\n",
        "\n",
        "        fold_train_scores.append(metric(y_train, y_train_pred))\n",
        "        fold_valid_scores.append(metric(y_valid, y_valid_pred))\n",
        "        oof_predictions[valid_idx] = y_valid_pred\n",
        "\n",
        "        msg = (\n",
        "            f\"Fold: {fold_number+1}, train-observations = {len(train_idx)}, \"\n",
        "            f\"valid-observations = {len(valid_idx)}\\n\"\n",
        "            f\"train-score = {round(fold_train_scores[fold_number], 4)}, \"\n",
        "            f\"valid-score = {round(fold_valid_scores[fold_number], 4)}\" \n",
        "        )\n",
        "        print(msg)\n",
        "        print(\"=\"*69)\n",
        "        estimators.append(estimator)\n",
        "\n",
        "    oof_score = metric(y, oof_predictions)\n",
        "    print(f\"CV-results train: {round(np.mean(fold_train_scores), 4)} +/- {round(np.std(fold_train_scores), 3)}\")\n",
        "    print(f\"CV-results valid: {round(np.mean(fold_valid_scores), 4)} +/- {round(np.std(fold_valid_scores), 3)}\")\n",
        "    print(f\"OOF-score = {round(oof_score, 4)}\")\n",
        "\n",
        "    return estimators, oof_score, fold_train_scores, fold_valid_scores, oof_predictions"
      ],
      "metadata": {
        "id": "XbbHIx069PWl"
      },
      "execution_count": null,
      "outputs": []
    },
    {
      "cell_type": "code",
      "source": [
        "def f1_score_macro(true, pred):\n",
        "    return f1_score(true, pred.astype(int), average='macro')\n",
        "\n",
        "cv_strategy = KFold(n_splits=10)\n",
        "params = {\n",
        "        \"objective\": \"binary:logistic\",\n",
        "        \"booster\" : \"gbtree\",\n",
        "        \"eval_metric\": \"auc\",\n",
        "        \"seed\": 42,\n",
        "        'use_label_encoder': False\n",
        "    }\n",
        "\n",
        "model = xgb.XGBClassifier(**params)\n",
        "\n",
        "estimators, oof_score, fold_train_scores, fold_valid_scores, oof_predictions = make_cross_validation(\n",
        "    train.drop(['target', 'buy_time'], axis=1), \n",
        "    train['target'],\n",
        "    model, \n",
        "    metric=f1_score_macro, \n",
        "    cv_strategy=cv_strategy\n",
        ")"
      ],
      "metadata": {
        "id": "CZf0DVey9SOc"
      },
      "execution_count": null,
      "outputs": []
    },
    {
      "cell_type": "code",
      "source": [
        "def f1_score_macro_threshold(true, pred):\n",
        "    return f1_score(true, np.where(pred > 0.3, 1, 0), average='macro')\n",
        "\n",
        "cv_strategy = KFold(n_splits=10)\n",
        "params = {\n",
        "        \"objective\": \"binary:logistic\",\n",
        "        \"booster\" : \"gbtree\",\n",
        "        \"eval_metric\": \"auc\",\n",
        "        \"seed\": 42,\n",
        "        'use_label_encoder': False\n",
        "    }\n",
        "\n",
        "model = xgb.XGBClassifier(**params)\n",
        "\n",
        "estimators, oof_score, fold_train_scores, fold_valid_scores, oof_predictions = make_cross_validation(\n",
        "    train.drop(['target', 'buy_time'], axis=1), \n",
        "    train['target'],\n",
        "    model, \n",
        "    metric=f1_score_macro_threshold, \n",
        "    cv_strategy=cv_strategy\n",
        ")"
      ],
      "metadata": {
        "id": "UREUBXs99UY1"
      },
      "execution_count": null,
      "outputs": []
    },
    {
      "cell_type": "markdown",
      "source": [
        "# **Тип бустинга dart**"
      ],
      "metadata": {
        "id": "K_wql8Kx9XFN"
      }
    },
    {
      "cell_type": "code",
      "source": [
        "def f1_score_macro(true, pred):\n",
        "    return f1_score(true, pred.astype(int), average='macro')\n",
        "\n",
        "cv_strategy = KFold(n_splits=10)\n",
        "params = {\n",
        "        \"objective\": \"binary:logistic\",\n",
        "        \"booster\" : \"dart\",\n",
        "        \"eval_metric\": \"auc\",\n",
        "        \"seed\": 42,\n",
        "        'use_label_encoder': False\n",
        "    }\n",
        "\n",
        "model = xgb.XGBClassifier(**params)\n",
        "\n",
        "estimators, oof_score, fold_train_scores, fold_valid_scores, oof_predictions = make_cross_validation(\n",
        "    train.drop(['target', 'buy_time'], axis=1), \n",
        "    train['target'],\n",
        "    model, \n",
        "    metric=f1_score_macro, \n",
        "    cv_strategy=cv_strategy\n",
        ")"
      ],
      "metadata": {
        "id": "gJpRJyrQ9aU-"
      },
      "execution_count": null,
      "outputs": []
    },
    {
      "cell_type": "markdown",
      "source": [
        "Кросс-валидация на 10 фолдах занимает 6-8 мин."
      ],
      "metadata": {
        "id": "FaxBcQ0y9cg1"
      }
    },
    {
      "cell_type": "markdown",
      "source": [
        "# **Результаты**"
      ],
      "metadata": {
        "id": "da-wg2IP9evc"
      }
    },
    {
      "cell_type": "markdown",
      "source": [
        "# **Обучение модели на всём датасете и сохранение для прогноза**"
      ],
      "metadata": {
        "id": "N1gaPYEw9nB1"
      }
    },
    {
      "cell_type": "code",
      "source": [
        "params = {\n",
        "        \"objective\": \"binary:logistic\",\n",
        "        \"booster\" : \"gbtree\",\n",
        "        \"eval_metric\": \"auc\",\n",
        "        \"seed\": 42,\n",
        "        'use_label_encoder': False\n",
        "    }\n",
        "\n",
        "model = xgb.XGBClassifier(**params)\n",
        "\n",
        "model.fit(train.drop(['target', 'buy_time'], axis=1),\n",
        "          train['target'] #y_train.astype(int)\n",
        "         )"
      ],
      "metadata": {
        "id": "V_9ymFim9sPV"
      },
      "execution_count": null,
      "outputs": []
    },
    {
      "cell_type": "code",
      "source": [
        "train_pred = model.predict(train[['id', 'vas_id']])\n",
        "test_pred = model.predict(test.drop(['buy_time'], axis=1))"
      ],
      "metadata": {
        "id": "EhXP-2fs9utU"
      },
      "execution_count": null,
      "outputs": []
    },
    {
      "cell_type": "code",
      "source": [
        "def f1_score_macro(true, pred):\n",
        "    return f1_score(true, pred.astype(int), average='macro')\n",
        "\n",
        "f1_score_macro(train['target'], train_pred)"
      ],
      "metadata": {
        "id": "iqCwi0c49wRF"
      },
      "execution_count": null,
      "outputs": []
    },
    {
      "cell_type": "markdown",
      "source": [
        "# **Сохраняем обученную модель**"
      ],
      "metadata": {
        "id": "U1s3s9ey93pN"
      }
    },
    {
      "cell_type": "code",
      "source": [
        "with open('model.pkl', 'wb') as file:\n",
        "    pickle.dump(model, file)"
      ],
      "metadata": {
        "id": "hOqmeOJq9x-4"
      },
      "execution_count": null,
      "outputs": []
    },
    {
      "cell_type": "code",
      "source": [
        "# Load from file\n",
        "with open('model.pkl', 'rb') as file:\n",
        "    model = pickle.load(file)\n",
        "model"
      ],
      "metadata": {
        "id": "eydNAq7n98CE"
      },
      "execution_count": null,
      "outputs": []
    },
    {
      "cell_type": "markdown",
      "source": [
        "# **Формирование индивидуальных предсказаний абонентам**"
      ],
      "metadata": {
        "id": "QhtFAwnn9-d1"
      }
    },
    {
      "cell_type": "code",
      "source": [
        "offer = pd.DataFrame(test.drop(['buy_time'], axis=1))\n",
        "model.predict_proba(offer)[:,1]"
      ],
      "metadata": {
        "id": "hdPz3hC6-B3F"
      },
      "execution_count": null,
      "outputs": []
    },
    {
      "cell_type": "code",
      "source": [
        "# создаём датафрейм с айлишниками абонентов\n",
        "offer_predict = pd.DataFrame(test['id'].copy())\n",
        "\n",
        "# проходим цилом по номерам подключаемых услуг\n",
        "for i in [1, 2, 4, 5, 6, 7, 8, 9]:\n",
        "    # создаём датафрейм с услугой\n",
        "    offer = pd.DataFrame(test['id'].copy())\n",
        "    offer['vas_id'] = i\n",
        "    # предиктим вероятность подключения услуги\n",
        "    offer_predict[i] = model.predict_proba(offer)[:,1]\n",
        "offer_predict['max prob offer'] = offer_predict.iloc[:, 1:-1].max(axis = 1)\n",
        "offer_predict['vas_id offer'] = offer_predict.iloc[:, 1:-1].idxmax(axis = 1)\n",
        "offer_predict"
      ],
      "metadata": {
        "id": "U62ntjvK-EGw"
      },
      "execution_count": null,
      "outputs": []
    },
    {
      "cell_type": "markdown",
      "source": [
        "**Посмотрим распределение услуг, рекомендуемых к подключению**"
      ],
      "metadata": {
        "id": "TGHhZHh8-ITO"
      }
    },
    {
      "cell_type": "code",
      "source": [
        "plt.hist(offer_predict['vas_id offer'], log=True);"
      ],
      "metadata": {
        "id": "kBLSu-Yr-LIv"
      },
      "execution_count": null,
      "outputs": []
    },
    {
      "cell_type": "code",
      "source": [
        "offer_predict['vas_id offer'].value_counts()"
      ],
      "metadata": {
        "id": "JQue68Q8-MoG"
      },
      "execution_count": null,
      "outputs": []
    },
    {
      "cell_type": "markdown",
      "source": [
        "**Посмотрим распределение вероятностей подключения услуг**"
      ],
      "metadata": {
        "id": "WD_s6yCJ-OW2"
      }
    },
    {
      "cell_type": "code",
      "source": [
        "plt.hist(offer_predict['max prob offer'], bins=50);"
      ],
      "metadata": {
        "id": "NyKR1j5Z-RDH"
      },
      "execution_count": null,
      "outputs": []
    },
    {
      "cell_type": "markdown",
      "source": [
        "**Возможно стоит рекомендовать услуги только тем абонентам, у которых вероятность больше 0.5, чтобы минимизировать вероятность негативного эффекта в виде понижения лояльности тем клиентам, которые не согласятся на подключение услуги.**"
      ],
      "metadata": {
        "id": "mzVf9gj4-Tae"
      }
    },
    {
      "cell_type": "markdown",
      "source": [
        "Это сделать легко, нужно только отфильтровать вероятности по пороговому значению. В данном случае выгрузим все рекомендации независимо от спрогнозированной вероятности."
      ],
      "metadata": {
        "id": "dXjW9AgN-YI1"
      }
    },
    {
      "cell_type": "code",
      "source": [
        "offer_predict[['id', 'vas_id offer']].to_csv('offer.csv', index=False)"
      ],
      "metadata": {
        "id": "BT1tHN6d-a5-"
      },
      "execution_count": null,
      "outputs": []
    }
  ]
}